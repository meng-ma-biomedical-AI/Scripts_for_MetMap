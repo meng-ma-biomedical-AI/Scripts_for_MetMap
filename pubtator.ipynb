{
 "cells": [
  {
   "cell_type": "markdown",
   "metadata": {},
   "source": [
    "# PubTator Central: Automated Concept Annotation for Biomedical Full Text Articles"
   ]
  },
  {
   "cell_type": "markdown",
   "metadata": {},
   "source": [
    "## 1. About"
   ]
  },
  {
   "cell_type": "markdown",
   "metadata": {},
   "source": [
    "- PubTator Central (PTC) is a Web-based system providing automatic annotations of **biomedical concepts** such as *genes* and *mutations* in **PubMed abstracts** and **PMC full-text articles**. "
   ]
  },
  {
   "cell_type": "markdown",
   "metadata": {},
   "source": [
    "- `website`: https://www.ncbi.nlm.nih.gov/research/pubtator/\n",
    "- `api`: https://www.ncbi.nlm.nih.gov/research/pubtator/api.html\n",
    "- `paper`: https://academic.oup.com/nar/article/47/W1/W587/5494727"
   ]
  },
  {
   "cell_type": "markdown",
   "metadata": {},
   "source": [
    "- Displaying the abstract or full-text of a publication and related tools.\n",
    "\n",
    "<img width=\"500\" height=\"800\" align=\"left\" src=\"https://oup.silverchair-cdn.com/oup/backfile/Content_public/Journal/nar/47/W1/10.1093_nar_gkz389/1/m_gkz389fig2.jpeg?Expires=1639156093&Signature=lJen0TlEgPqi-Fdy3o0y8dCi7Wdr5yWEgt8ubR71-Ua44hS08zyqfDGFyLdVga6kQemH7GuBNp7G9VbBLBZqsJ1wy9jKfUp6FJEpK3vR8Wtgz9waWG~l9MwnM5epsChmhBZmKxMo7j0JyJ-0T2fjVkoPPFDeIOXT7h09B1x9lecRLg9d0NQ0sVHOn-Uvgj-5X5UWWA3e~TDOwnG8fVlT24BKKLvkS2cOBpYCSSMHG-68TiR-g1Xd~1abcGQO8A58mV05YENXannF86NHOQAQrQCNrcYj5fkmfCSyyeJin~BRSA1Nr8UAdP9i30ujVEH0dQuvnXSl1l2tHoa~C-lkeQ__&Key-Pair-Id=APKAIE5G5CRDK6RD3PGA\">"
   ]
  },
  {
   "cell_type": "markdown",
   "metadata": {},
   "source": [
    "## 2. Usage"
   ]
  },
  {
   "cell_type": "code",
   "execution_count": 1,
   "metadata": {},
   "outputs": [],
   "source": [
    "import json\n",
    "import requests\n",
    "import pandas as pd\n",
    "from IPython.display import JSON\n",
    "from nltk.tokenize.punkt import PunktSentenceTokenizer"
   ]
  },
  {
   "cell_type": "code",
   "execution_count": 2,
   "metadata": {},
   "outputs": [],
   "source": [
    "# proxy\n",
    "PROXIES = {'http': None, 'https': None}\n",
    "PROXIES = {'http': 'http://165.225.96.34:10015', 'https': 'https://165.225.96.34:10015'}\n",
    "\n",
    "# url\n",
    "url = 'https://www.ncbi.nlm.nih.gov/research/pubtator-api/publications/export/'\n",
    "\n",
    "# concepts\n",
    "concepts = ['gene', 'disease', 'chemical', 'species', 'mutation', 'cellline']\n",
    "\n",
    "# PMID or PMCID\n",
    "json_PMID = {'concepts': concepts, 'pmids':[28483577,28483578]}\n",
    "json_PMCID = {'concepts': concepts, 'pmcids':['PMC6207735']}\n",
    "\n",
    "# format:pubtator, biocjson, biocxml"
   ]
  },
  {
   "cell_type": "markdown",
   "metadata": {},
   "source": [
    "**PubMed abstracts**"
   ]
  },
  {
   "cell_type": "code",
   "execution_count": 3,
   "metadata": {},
   "outputs": [
    {
     "name": "stdout",
     "output_type": "stream",
     "text": [
      "28483577|t|Formoterol and fluticasone propionate combination improves histone deacetylation and anti-inflammatory activities in bronchial epithelial cells exposed to cigarette smoke.\n",
      "28483577|a|BACKGROUND: The addition of long-acting beta2-agonists (LABAs) to corticosteroids improves asthma control. Cigarette smoke exposure, increasing oxidative stress, may negatively affect corticosteroid responses. The anti-inflammatory effects of formoterol (FO) and fluticasone propionate (FP) in human bronchial epithelial cells exposed to cigarette smoke extracts (CSE) are unknown. AIMS: This study explored whether FP, alone and in combination with FO, in human bronchial epithelial cellline (16-HBE) and primary bronchial epithelial cells (NHBE), counteracted some CSE-mediated effects and in particular some of the molecular mechanisms of corticosteroid resistance. METHODS: 16-HBE and NHBE were stimulated with CSE, FP and FO alone or combined. HDAC3 and HDAC2 activity, nuclear translocation of GR and NF-kappaB, pERK1/2/tERK1/2 ratio, IL-8, TNF-alpha, IL-1beta mRNA expression, and mitochondrial ROS were evaluated. Actin reorganization in neutrophils was assessed by fluorescence microscopy using the phalloidin method. RESULTS: In 16-HBE, CSE decreased expression/activity of HDAC3, activity of HDAC2, nuclear translocation of GR and increased nuclear NF-kappaB expression, pERK 1/2/tERK1/2 ratio, and mRNA expression of inflammatory cytokines. In NHBE, CSE increased mRNA expression of inflammatory cytokines and supernatants from CSE exposed NHBE increased actin reorganization in neutrophils. FP combined with FO reverted all these phenomena in CSE stimulated 16-HBE cells as well as in NHBE cells. CONCLUSIONS: The present study provides compelling evidences that FP combined with FO may contribute to revert some processes related to steroid resistance induced by oxidative stress due to cigarette smoke exposure increasing the anti-inflammatory effects of FP.\n",
      "28483577\t0\t10\tFormoterol\tChemical\tMESH:D000068759\n",
      "28483577\t15\t37\tfluticasone propionate\tChemical\tMESH:D000068298\n",
      "28483577\t415\t425\tformoterol\tChemical\tMESH:D000068759\n",
      "28483577\t427\t429\tFO\tChemical\tMESH:D000068759\n",
      "28483577\t435\t457\tfluticasone propionate\tChemical\tMESH:D000068298\n",
      "28483577\t459\t461\tFP\tChemical\tMESH:D000068298\n",
      "28483577\t466\t471\thuman\tSpecies\t9606\n",
      "28483577\t629\t634\thuman\tSpecies\t9606\n",
      "28483577\t921\t926\tHDAC3\tGene\t8841\n",
      "28483577\t931\t936\tHDAC2\tGene\t3066\n",
      "28483577\t979\t988\tNF-kappaB\tGene\t4790\n",
      "28483577\t1013\t1017\tIL-8\tGene\t3576\n",
      "28483577\t1019\t1028\tTNF-alpha\tGene\t7124\n",
      "28483577\t1030\t1038\tIL-1beta\tGene\t3553\n",
      "28483577\t1074\t1077\tROS\tChemical\t-\n",
      "28483577\t1256\t1261\tHDAC3\tGene\t8841\n",
      "28483577\t1275\t1280\tHDAC2\tGene\t3066\n",
      "28483577\t1332\t1341\tNF-kappaB\tGene\t4790\n",
      "28483577\t1819\t1826\tsteroid\tChemical\tMESH:D013256\n",
      "\n",
      "28483578|t|MHC II-, but not MHC II+, hepatic Stellate cells contribute to liver fibrosis of mice in infection with Schistosoma japonicum.\n",
      "28483578|a|Hepatic stellate cells (HSCs) are considered as the main effector cells in vitamin A metabolism and liver fibrosis, as well as in hepatic immune regulation. Recently, researches have revealed that HSCs have plasticity and heterogeneity, which depend on their lobular location and whether liver is normal or injured. This research aimed to explore the biological characteristics and heterogeneity of HSCs in mice with Schistosoma japonicum (S. japonicum) infection, and determine the subpopulation of HSCs in pathogenesis of hepatic fibrosis caused by S. japonicum infection. Results revealed that HSCs significantly increased the expressions of MHC II and fibrogenic genes after S. japonicum infection, and could be classified into MHC II+ HSCs and MHC II- HSCs subsets. Both two HSCs populations suppressed the proliferation of activated CD4+T cells, whereas only MHC II- HSCs displayed a myofibroblast-like phenotype. In response to IFN-gamma, HSCs up-regulated the expressions of MHC II and CIITA, while down-regulated the expression of fibrogenic gene Col1. In addition, praziquantel treatment decreased the expressions of fibrogenic genes in MHC II- HSCs. These results confirmed that HSCs from S. japonicum-infected mice have heterogeneity. The MHC II- alpha-SMA+ HSCs were major subsets of HSCs contributing to liver fibrosis and could be considered as a potential target of praziquantel anti-fibrosis treatment.\n",
      "28483578\t0\t6\tMHC II\tGene\t111364\n",
      "28483578\t17\t23\tMHC II\tGene\t111364\n",
      "28483578\t63\t77\tliver fibrosis\tDisease\tMESH:D008103\n",
      "28483578\t81\t85\tmice\tSpecies\t10090\n",
      "28483578\t104\t125\tSchistosoma japonicum\tSpecies\t6182\n",
      "28483578\t202\t211\tvitamin A\tChemical\tMESH:D014801\n",
      "28483578\t227\t241\tliver fibrosis\tDisease\tMESH:D008103\n",
      "28483578\t534\t538\tmice\tSpecies\t10090\n",
      "28483578\t544\t565\tSchistosoma japonicum\tSpecies\t6182\n",
      "28483578\t567\t579\tS. japonicum\tSpecies\t6182\n",
      "28483578\t651\t667\thepatic fibrosis\tDisease\tMESH:D008103\n",
      "28483578\t678\t690\tS. japonicum\tSpecies\t6182\n",
      "28483578\t772\t778\tMHC II\tGene\t111364\n",
      "28483578\t806\t818\tS. japonicum\tSpecies\t6182\n",
      "28483578\t859\t865\tMHC II\tGene\t111364\n",
      "28483578\t876\t882\tMHC II\tGene\t111364\n",
      "28483578\t992\t998\tMHC II\tGene\t111364\n",
      "28483578\t1110\t1116\tMHC II\tGene\t111364\n",
      "28483578\t1202\t1214\tpraziquantel\tChemical\tMESH:D011223\n",
      "28483578\t1274\t1280\tMHC II\tGene\t111364\n",
      "28483578\t1327\t1339\tS. japonicum\tSpecies\t6182\n",
      "28483578\t1349\t1353\tmice\tSpecies\t10090\n",
      "28483578\t1378\t1384\tMHC II\tGene\t111364\n",
      "28483578\t1445\t1459\tliver fibrosis\tDisease\tMESH:D008103\n",
      "28483578\t1509\t1521\tpraziquantel\tChemical\tMESH:D011223\n",
      "28483578\t1527\t1535\tfibrosis\tDisease\tMESH:D005355\n",
      "\n",
      "\n"
     ]
    }
   ],
   "source": [
    "res = requests.post(url = url + 'pubtator', json=json_PMID, proxies=PROXIES)\n",
    "print(res.text)"
   ]
  },
  {
   "cell_type": "markdown",
   "metadata": {},
   "source": [
    "**PMC full-text**"
   ]
  },
  {
   "cell_type": "code",
   "execution_count": 4,
   "metadata": {},
   "outputs": [
    {
     "data": {
      "application/json": {
       "_id": "30375428|PMC6207735",
       "accessions": [
        "disease@MESH:C566528",
        "chemical@-",
        "gene@920",
        "disease@MESH:D009062",
        "cellline@CVCL:0031",
        "disease@MESH:D005198",
        "chemical@MESH:D005973",
        "chemical@MESH:D000255",
        "species@10090",
        "chemical@MESH:D006416",
        "disease@MESH:C538614",
        "chemical@MESH:D003597",
        "chemical@MESH:D013307",
        "mutation@c.2830C>T",
        "species@29278",
        "chemical@MESH:D012967",
        "mutation@p.Q944*",
        "chemical@MESH:D011136",
        "chemical@MESH:C003043",
        "gene@5241",
        "species@562",
        "disease@MESH:C536751",
        "disease@MESH:D058495",
        "disease@MESH:D007511",
        "disease@MESH:D063646",
        "species@4932",
        "disease@MESH:D001943",
        "mutation@c.delCT",
        "gene@2064",
        "chemical@MESH:D008715",
        "disease@MESH:D001750",
        "disease@MESH:D008175",
        "disease@MESH:D003643",
        "chemical@MESH:C017807",
        "species@88229",
        "chemical@MESH:D004492",
        "gene@11169",
        "chemical@MESH:D014992",
        "chemical@MESH:D010406",
        "chemical@MESH:D006861",
        "chemical@MESH:C016679",
        "chemical@MESH:D003596",
        "species@9606",
        "gene@20466",
        "gene@25942",
        "cellline@CVCL:0286",
        "chemical@MESH:D007208",
        "disease@MESH:D009369",
        "disease@MESH:D020925",
        "chemical@MESH:D004801",
        "chemical@MESH:D012436",
        "gene@2099",
        "chemical@MESH:D004964",
        "chemical@MESH:D004958",
        "chemical@MESH:D013942",
        "chemical@MESH:D010232",
        "species@668369",
        "disease@MESH:D055882",
        "species@10116",
        "chemical@MESH:D010278",
        "chemical@MESH:D010100"
       ],
       "authors": [
        "Watanabe K",
        "Yamamoto S",
        "Sakaguti S",
        "Isayama K",
        "Oka M",
        "Nagano H",
        "Mizukami Y"
       ],
       "created": {
        "$date": 1592683394059
       },
       "id": "6207735",
       "infons": {},
       "journal": "Sci Rep. 2018 Oct 30",
       "passages": [
        {
         "annotations": [
          {
           "id": "3",
           "infons": {
            "identifier": "25942",
            "ncbi_homologene": "32124",
            "type": "Gene"
           },
           "locations": [
            {
             "length": 5,
             "offset": 28
            }
           ],
           "text": "SIN3A"
          },
          {
           "id": "4",
           "infons": {
            "identifier": "2099",
            "ncbi_homologene": "47906",
            "type": "Gene"
           },
           "locations": [
            {
             "length": 7,
             "offset": 122
            }
           ],
           "text": "ERalpha"
          },
          {
           "id": "5",
           "infons": {
            "identifier": "MESH:D001943",
            "type": "Disease"
           },
           "locations": [
            {
             "length": 13,
             "offset": 46
            }
           ],
           "text": "breast cancer"
          }
         ],
         "infons": {
          "article-id_doi": "10.1038/s41598-018-34290-1",
          "article-id_pmc": "6207735",
          "article-id_pmid": "30375428",
          "article-id_publisher-id": "34290",
          "authors": "Watanabe K, Yamamoto S, Sakaguti S, Isayama K, Oka M, Nagano H, Mizukami Y",
          "elocation-id": "16000",
          "journal": "Sci Rep. 2018 Oct 30;8(1):16000. doi: 10.1038/s41598-018-34290-1.",
          "license": "Open Access This article is licensed under a Creative Commons Attribution 4.0 International License, which permits use, sharing, adaptation, distribution and reproduction in any medium or format, as long as you give appropriate credit to the original author(s) and the source, provide a link to the Creative Commons license, and indicate if changes were made. The images or other third party material in this article are included in the article's Creative Commons license, unless indicated otherwise in a credit line to the material. If material is not included in the article's Creative Commons license and your intended use is not permitted by statutory regulation or exceeds the permitted use, you will need to obtain permission directly from the copyright holder. To view a copy of this license, visit http://creativecommons.org/licenses/by/4.0/.",
          "name_0": "surname:Watanabe;given-names:Kenji",
          "name_1": "surname:Yamamoto;given-names:Shigeru",
          "name_2": "surname:Sakaguti;given-names:Syuiti",
          "name_3": "surname:Isayama;given-names:Keishiro",
          "name_4": "surname:Oka;given-names:Masaaki",
          "name_5": "surname:Nagano;given-names:Hiroaki",
          "name_6": "surname:Mizukami;given-names:Yoichi",
          "name_7": "surname:Mizukami;given-names:Yoichi",
          "section": "Title",
          "section_type": "TITLE",
          "type": "front",
          "volume": "8",
          "year": "2018"
         },
         "offset": 0,
         "relations": [],
         "sentences": [],
         "text": "A novel somatic mutation of SIN3A detected in breast cancer by whole-exome sequencing enhances cell proliferation through ERalpha expression"
        },
        {
         "annotations": [
          {
           "id": "38",
           "infons": {
            "identifier": "2099",
            "ncbi_homologene": "47906",
            "type": "Gene"
           },
           "locations": [
            {
             "length": 23,
             "offset": 246
            }
           ],
           "text": "estrogen receptor alpha"
          },
          {
           "id": "39",
           "infons": {
            "identifier": "2099",
            "ncbi_homologene": "47906",
            "type": "Gene"
           },
           "locations": [
            {
             "length": 7,
             "offset": 271
            }
           ],
           "text": "ERalpha"
          },
          {
           "id": "40",
           "infons": {
            "identifier": "2099",
            "ncbi_homologene": "47906",
            "type": "Gene"
           },
           "locations": [
            {
             "length": 4,
             "offset": 291
            }
           ],
           "text": "ESR1"
          },
          {
           "id": "41",
           "infons": {
            "identifier": "2099",
            "ncbi_homologene": "47906",
            "type": "Gene"
           },
           "locations": [
            {
             "length": 4,
             "offset": 392
            }
           ],
           "text": "ESR1"
          },
          {
           "id": "42",
           "infons": {
            "identifier": "2099",
            "ncbi_homologene": "47906",
            "type": "Gene"
           },
           "locations": [
            {
             "length": 4,
             "offset": 512
            }
           ],
           "text": "ESR1"
          },
          {
           "id": "43",
           "infons": {
            "identifier": "25942",
            "ncbi_homologene": "32124",
            "type": "Gene"
           },
           "locations": [
            {
             "length": 5,
             "offset": 720
            }
           ],
           "text": "SIN3A"
          },
          {
           "id": "44",
           "infons": {
            "identifier": "2099",
            "ncbi_homologene": "47906",
            "type": "Gene"
           },
           "locations": [
            {
             "length": 7,
             "offset": 868
            }
           ],
           "text": "ERalpha"
          },
          {
           "id": "45",
           "infons": {
            "identifier": "2099",
            "ncbi_homologene": "47906",
            "type": "Gene"
           },
           "locations": [
            {
             "length": 4,
             "offset": 915
            }
           ],
           "text": "ESR1"
          },
          {
           "id": "46",
           "infons": {
            "identifier": "25942",
            "ncbi_homologene": "32124",
            "type": "Gene"
           },
           "locations": [
            {
             "length": 5,
             "offset": 930
            }
           ],
           "text": "SIN3A"
          },
          {
           "id": "47",
           "infons": {
            "identifier": "25942",
            "ncbi_homologene": "32124",
            "type": "Gene"
           },
           "locations": [
            {
             "length": 5,
             "offset": 1048
            }
           ],
           "text": "SIN3A"
          },
          {
           "id": "48",
           "infons": {
            "identifier": "25942",
            "ncbi_homologene": "32124",
            "type": "Gene"
           },
           "locations": [
            {
             "length": 5,
             "offset": 1087
            }
           ],
           "text": "SIN3A"
          },
          {
           "id": "49",
           "infons": {
            "identifier": "25942",
            "ncbi_homologene": "32124",
            "type": "Gene"
           },
           "locations": [
            {
             "length": 5,
             "offset": 1201
            }
           ],
           "text": "SIN3A"
          },
          {
           "id": "50",
           "infons": {
            "identifier": "25942",
            "ncbi_homologene": "32124",
            "type": "Gene"
           },
           "locations": [
            {
             "length": 5,
             "offset": 1331
            }
           ],
           "text": "SIN3A"
          },
          {
           "id": "51",
           "infons": {
            "identifier": "9606",
            "type": "Species"
           },
           "locations": [
            {
             "length": 5,
             "offset": 185
            }
           ],
           "text": "women"
          },
          {
           "id": "52",
           "infons": {
            "identifier": "9606",
            "type": "Species"
           },
           "locations": [
            {
             "length": 7,
             "offset": 762
            }
           ],
           "text": "patient"
          },
          {
           "id": "53",
           "infons": {
            "identifier": "9606",
            "type": "Species"
           },
           "locations": [
            {
             "length": 7,
             "offset": 1031
            }
           ],
           "text": "patient"
          },
          {
           "id": "54",
           "infons": {
            "identifier": "29278",
            "type": "Species"
           },
           "locations": [
            {
             "length": 10,
             "offset": 397
            }
           ],
           "text": "expression"
          },
          {
           "id": "55",
           "infons": {
            "identifier": "29278",
            "type": "Species"
           },
           "locations": [
            {
             "length": 10,
             "offset": 517
            }
           ],
           "text": "expression"
          },
          {
           "id": "56",
           "infons": {
            "identifier": "c.2830C>T",
            "subtype": "DNAMutation",
            "type": "Mutation"
           },
           "locations": [
            {
             "length": 10,
             "offset": 1054
            }
           ],
           "text": "c.2830 C>T"
          },
          {
           "id": "57",
           "infons": {
            "identifier": "CVCL:0031",
            "type": "CellLine"
           },
           "locations": [
            {
             "length": 4,
             "offset": 964
            }
           ],
           "text": "MCF7"
          },
          {
           "id": "58",
           "infons": {
            "identifier": "MESH:D001943",
            "type": "Disease"
           },
           "locations": [
            {
             "length": 13,
             "offset": 1494
            }
           ],
           "text": "breast cancer"
          },
          {
           "id": "59",
           "infons": {
            "identifier": "MESH:D001943",
            "type": "Disease"
           },
           "locations": [
            {
             "length": 13,
             "offset": 346
            }
           ],
           "text": "breast cancer"
          },
          {
           "id": "60",
           "infons": {
            "identifier": "MESH:D001943",
            "type": "Disease"
           },
           "locations": [
            {
             "length": 13,
             "offset": 743
            }
           ],
           "text": "breast cancer"
          },
          {
           "id": "61",
           "infons": {
            "identifier": "MESH:D001943",
            "type": "Disease"
           },
           "locations": [
            {
             "length": 13,
             "offset": 1017
            }
           ],
           "text": "breast cancer"
          },
          {
           "id": "62",
           "infons": {
            "identifier": "MESH:D009369",
            "type": "Disease"
           },
           "locations": [
            {
             "length": 6,
             "offset": 477
            }
           ],
           "text": "cancer"
          },
          {
           "id": "63",
           "infons": {
            "identifier": "p.Q944*",
            "subtype": "ProteinMutation",
            "type": "Mutation"
           },
           "locations": [
            {
             "length": 9,
             "offset": 642
            }
           ],
           "text": "p.Gln944*"
          },
          {
           "id": "64",
           "infons": {
            "identifier": "MESH:D009369",
            "type": "Disease"
           },
           "locations": [
            {
             "length": 5,
             "offset": 1130
            }
           ],
           "text": "tumor"
          },
          {
           "id": "65",
           "infons": {
            "identifier": "MESH:D009369",
            "type": "Disease"
           },
           "locations": [
            {
             "length": 5,
             "offset": 176
            }
           ],
           "text": "tumor"
          },
          {
           "id": "66",
           "infons": {
            "identifier": "c.2830C>T",
            "subtype": "DNAMutation",
            "type": "Mutation"
           },
           "locations": [
            {
             "length": 10,
             "offset": 630
            }
           ],
           "text": "c.2830 C>T"
          },
          {
           "id": "67",
           "infons": {
            "identifier": "MESH:D001943",
            "type": "Disease"
           },
           "locations": [
            {
             "length": 14,
             "offset": 1258
            }
           ],
           "text": "breast cancers"
          },
          {
           "id": "68",
           "infons": {
            "identifier": "MESH:D009369",
            "type": "Disease"
           },
           "locations": [
            {
             "length": 6,
             "offset": 231
            }
           ],
           "text": "tumors"
          },
          {
           "id": "69",
           "infons": {
            "identifier": "MESH:D001943",
            "type": "Disease"
           },
           "locations": [
            {
             "length": 13,
             "offset": 141
            }
           ],
           "text": "Breast cancer"
          }
         ],
         "infons": {
          "section": "Abstract",
          "section_type": "ABSTRACT",
          "type": "abstract"
         },
         "offset": 141,
         "relations": [],
         "sentences": [],
         "text": "Breast cancer is the most frequent tumor in women, and in nearly two-thirds of cases, the tumors express estrogen receptor alpha (ERalpha, encoded by ESR1). Here, we performed whole-exome sequencing of 16 breast cancer tissues classified according to ESR1 expression and 12 samples of whole blood, and detected 310 somatic mutations in cancer tissues with high levels of ESR1 expression. Of the somatic mutations validated by a different deep sequencer, a novel nonsense somatic mutation, c.2830 C>T; p.Gln944*, in transcriptional regulator switch-independent 3 family member A (SIN3A) was detected in breast cancer of a patient. Part of the mutant protein localized in the cytoplasm in contrast to the nuclear localization of ERalpha, and induced a significant increase in ESR1 mRNA. The SIN3A mutation obviously enhanced MCF7 cell proliferation. In tissue sections from the breast cancer patient with the SIN3A c.2830 C>T mutation, cytoplasmic SIN3A localization was detected within the tumor regions where nuclear enlargement was observed. The reduction in SIN3A mRNA correlates with the recurrence of ER-positive breast cancers on Kaplan-Meier plots. These observations reveal that the SIN3A mutation has lost its transcriptional repression function due to its cytoplasmic localization, and that this repression may contribute to the progression of breast cancer."
        },
        {
         "annotations": [],
         "infons": {
          "section": "Introduction",
          "section_type": "INTRO",
          "type": "title_1"
         },
         "offset": 1509,
         "relations": [],
         "sentences": [],
         "text": "Introduction"
        },
        {
         "annotations": [
          {
           "id": "83",
           "infons": {
            "identifier": "9606",
            "type": "Species"
           },
           "locations": [
            {
             "length": 5,
             "offset": 1574
            }
           ],
           "text": "women"
          },
          {
           "id": "84",
           "infons": {
            "identifier": "9606",
            "type": "Species"
           },
           "locations": [
            {
             "length": 5,
             "offset": 1682
            }
           ],
           "text": "women"
          },
          {
           "id": "85",
           "infons": {
            "identifier": "9606",
            "type": "Species"
           },
           "locations": [
            {
             "length": 8,
             "offset": 1939
            }
           ],
           "text": "children"
          },
          {
           "id": "86",
           "infons": {
            "identifier": "9606",
            "type": "Species"
           },
           "locations": [
            {
             "length": 7,
             "offset": 2516
            }
           ],
           "text": "patient"
          },
          {
           "id": "87",
           "infons": {
            "identifier": "29278",
            "type": "Species"
           },
           "locations": [
            {
             "length": 10,
             "offset": 2444
            }
           ],
           "text": "expression"
          },
          {
           "id": "88",
           "infons": {
            "identifier": "MESH:D009369",
            "type": "Disease"
           },
           "locations": [
            {
             "length": 5,
             "offset": 1565
            }
           ],
           "text": "tumor"
          },
          {
           "id": "89",
           "infons": {
            "identifier": "MESH:D009369",
            "type": "Disease"
           },
           "locations": [
            {
             "length": 7,
             "offset": 2421
            }
           ],
           "text": "cancers"
          },
          {
           "id": "90",
           "infons": {
            "identifier": "MESH:D003643",
            "type": "Disease"
           },
           "locations": [
            {
             "length": 5,
             "offset": 1670
            }
           ],
           "text": "death"
          },
          {
           "id": "91",
           "infons": {
            "identifier": "MESH:D001943",
            "type": "Disease"
           },
           "locations": [
            {
             "length": 25,
             "offset": 2477
            }
           ],
           "text": "aggressive breast cancers"
          },
          {
           "id": "92",
           "infons": {
            "identifier": "MESH:D001943",
            "type": "Disease"
           },
           "locations": [
            {
             "length": 13,
             "offset": 1522
            }
           ],
           "text": "Breast cancer"
          },
          {
           "id": "93",
           "infons": {
            "identifier": "MESH:D001943",
            "type": "Disease"
           },
           "locations": [
            {
             "length": 14,
             "offset": 1796
            }
           ],
           "text": "breast cancers"
          },
          {
           "id": "94",
           "infons": {
            "identifier": "MESH:D001943",
            "type": "Disease"
           },
           "locations": [
            {
             "length": 13,
             "offset": 1971
            }
           ],
           "text": "breast cancer"
          },
          {
           "id": "95",
           "infons": {
            "identifier": "MESH:D001943",
            "type": "Disease"
           },
           "locations": [
            {
             "length": 13,
             "offset": 2310
            }
           ],
           "text": "breast-cancer"
          }
         ],
         "infons": {
          "section": "Introduction",
          "section_type": "INTRO",
          "type": "paragraph"
         },
         "offset": 1522,
         "relations": [],
         "sentences": [],
         "text": "Breast cancer is the most frequent primary tumor in women with an estimated 1.7 million cases diagnosed annually, and is the fifth leading cause of death among women. The female hormone estrogen (E2) is an important risk factor for the pathogenesis and progression of major breast cancers because increases in the lifetime exposure to E2 by life events such as early menarche, late natural menopause, and not bearing children are closely related to breast cancer. E2 has two types of receptors, nuclear receptors and a membrane receptor. Estrogen receptor (ER) alpha is a nuclear hormone receptor with transcriptional activity that can lead to cell proliferation in response to its ligand. A membrane type of estrogen receptor, G protein-coupled estrogen receptor (GPER), isolated from a breast-cancer cell line, is induced by the hypoxic stimulation involved in the progression of various types of cancers. The increased expression of GPER is related to aggressive breast cancers showing poor patient survival."
        },
        {
         "annotations": [
          {
           "id": "112",
           "infons": {
            "identifier": "2064",
            "ncbi_homologene": "3273",
            "type": "Gene"
           },
           "locations": [
            {
             "length": 34,
             "offset": 2630
            }
           ],
           "text": "epidermal growth factor receptor 2"
          },
          {
           "id": "113",
           "infons": {
            "identifier": "2064",
            "ncbi_homologene": "3273",
            "type": "Gene"
           },
           "locations": [
            {
             "length": 4,
             "offset": 2666
            }
           ],
           "text": "HER2"
          },
          {
           "id": "114",
           "infons": {
            "identifier": "2099",
            "ncbi_homologene": "47906",
            "type": "Gene"
           },
           "locations": [
            {
             "length": 7,
             "offset": 2722
            }
           ],
           "text": "ERalpha"
          },
          {
           "id": "115",
           "infons": {
            "identifier": "2099",
            "ncbi_homologene": "47906",
            "type": "Gene"
           },
           "locations": [
            {
             "length": 4,
             "offset": 2744
            }
           ],
           "text": "ESR1"
          },
          {
           "id": "116",
           "infons": {
            "identifier": "5241",
            "ncbi_homologene": "713",
            "type": "Gene"
           },
           "locations": [
            {
             "length": 21,
             "offset": 2756
            }
           ],
           "text": "progesterone receptor"
          },
          {
           "id": "117",
           "infons": {
            "identifier": "5241",
            "ncbi_homologene": "713",
            "type": "Gene"
           },
           "locations": [
            {
             "length": 3,
             "offset": 2792
            }
           ],
           "text": "PGR"
          },
          {
           "id": "118",
           "infons": {
            "identifier": "2064",
            "ncbi_homologene": "3273",
            "type": "Gene"
           },
           "locations": [
            {
             "length": 4,
             "offset": 2806
            }
           ],
           "text": "HER2"
          },
          {
           "id": "119",
           "infons": {
            "identifier": "2099",
            "ncbi_homologene": "47906",
            "type": "Gene"
           },
           "locations": [
            {
             "length": 7,
             "offset": 2812
            }
           ],
           "text": "ERalpha"
          },
          {
           "id": "120",
           "infons": {
            "identifier": "9606",
            "type": "Species"
           },
           "locations": [
            {
             "length": 5,
             "offset": 2624
            }
           ],
           "text": "human"
          },
          {
           "id": "121",
           "infons": {
            "identifier": "29278",
            "type": "Species"
           },
           "locations": [
            {
             "length": 10,
             "offset": 3262
            }
           ],
           "text": "expression"
          },
          {
           "id": "122",
           "infons": {
            "identifier": "MESH:D001943",
            "type": "Disease"
           },
           "locations": [
            {
             "length": 14,
             "offset": 2829
            }
           ],
           "text": "breast cancers"
          },
          {
           "id": "123",
           "infons": {
            "identifier": "MESH:D001943",
            "type": "Disease"
           },
           "locations": [
            {
             "length": 13,
             "offset": 3276
            }
           ],
           "text": "breast cancer"
          },
          {
           "id": "124",
           "infons": {
            "identifier": "MESH:D001943",
            "type": "Disease"
           },
           "locations": [
            {
             "length": 14,
             "offset": 2919
            }
           ],
           "text": "breast cancers"
          },
          {
           "id": "125",
           "infons": {
            "identifier": "MESH:D001943",
            "type": "Disease"
           },
           "locations": [
            {
             "length": 13,
             "offset": 2534
            }
           ],
           "text": "Breast cancer"
          },
          {
           "id": "126",
           "infons": {
            "identifier": "MESH:D001943",
            "type": "Disease"
           },
           "locations": [
            {
             "length": 14,
             "offset": 3355
            }
           ],
           "text": "breast cancers"
          },
          {
           "id": "127",
           "infons": {
            "identifier": "MESH:D001943",
            "type": "Disease"
           },
           "locations": [
            {
             "length": 30,
             "offset": 3013
            }
           ],
           "text": "luminal subtype breast cancers"
          }
         ],
         "infons": {
          "section": "Introduction",
          "section_type": "INTRO",
          "type": "paragraph"
         },
         "offset": 2534,
         "relations": [],
         "sentences": [],
         "text": "Breast cancer is a heterogeneous disease that is classified into three subtypes: luminal, human epidermal growth factor receptor 2 (HER2)-enriched, and basal-like based on the presence of ERalpha (coded by the ESR1 gene), progesterone receptor (coded by the PGR gene) and HER2. ERalpha-positive breast cancers belong largely to the luminal subtype that represents more than 60% of all breast cancers. E2 blockers are used clinically as the first choice for endocrine therapy for luminal subtype breast cancers, and can reduce the risk of disease recurrence, but their use in the long term often results in the development of hormone-resistance through various mechanisms. The elucidation of the molecular targets involved in ER expression in breast cancer is urgently needed to avoid the development of hormone-resistant breast cancers."
        },
        {
         "annotations": [
          {
           "id": "158",
           "infons": {
            "identifier": "2099",
            "ncbi_homologene": "47906",
            "type": "Gene"
           },
           "locations": [
            {
             "length": 7,
             "offset": 4577
            }
           ],
           "text": "ERalpha"
          },
          {
           "id": "159",
           "infons": {
            "identifier": "2064",
            "ncbi_homologene": "3273",
            "type": "Gene"
           },
           "locations": [
            {
             "length": 4,
             "offset": 4986
            }
           ],
           "text": "HER2"
          },
          {
           "id": "160",
           "infons": {
            "identifier": "2099",
            "ncbi_homologene": "47906",
            "type": "Gene"
           },
           "locations": [
            {
             "length": 4,
             "offset": 5171
            }
           ],
           "text": "ESR1"
          },
          {
           "id": "161",
           "infons": {
            "identifier": "2099",
            "ncbi_homologene": "47906",
            "type": "Gene"
           },
           "locations": [
            {
             "length": 4,
             "offset": 5279
            }
           ],
           "text": "ESR1"
          },
          {
           "id": "162",
           "infons": {
            "identifier": "2099",
            "ncbi_homologene": "47906",
            "type": "Gene"
           },
           "locations": [
            {
             "length": 7,
             "offset": 5403
            }
           ],
           "text": "ERalpha"
          },
          {
           "id": "163",
           "infons": {
            "identifier": "2099",
            "ncbi_homologene": "47906",
            "type": "Gene"
           },
           "locations": [
            {
             "length": 7,
             "offset": 5502
            }
           ],
           "text": "ERalpha"
          },
          {
           "id": "164",
           "infons": {
            "identifier": "25942",
            "ncbi_homologene": "32124",
            "type": "Gene"
           },
           "locations": [
            {
             "length": 5,
             "offset": 5673
            }
           ],
           "text": "SIN3A"
          },
          {
           "id": "165",
           "infons": {
            "identifier": "2099",
            "ncbi_homologene": "47906",
            "type": "Gene"
           },
           "locations": [
            {
             "length": 4,
             "offset": 5949
            }
           ],
           "text": "ESR1"
          },
          {
           "id": "166",
           "infons": {
            "identifier": "2099",
            "ncbi_homologene": "47906",
            "type": "Gene"
           },
           "locations": [
            {
             "length": 4,
             "offset": 6011
            }
           ],
           "text": "ESR1"
          },
          {
           "id": "167",
           "infons": {
            "identifier": "2099",
            "ncbi_homologene": "47906",
            "type": "Gene"
           },
           "locations": [
            {
             "length": 7,
             "offset": 6244
            }
           ],
           "text": "ERalpha"
          },
          {
           "id": "168",
           "infons": {
            "identifier": "2099",
            "ncbi_homologene": "47906",
            "type": "Gene"
           },
           "locations": [
            {
             "length": 4,
             "offset": 6372
            }
           ],
           "text": "ESR1"
          },
          {
           "id": "169",
           "infons": {
            "identifier": "2099",
            "ncbi_homologene": "47906",
            "type": "Gene"
           },
           "locations": [
            {
             "length": 4,
             "offset": 6502
            }
           ],
           "text": "ESR1"
          },
          {
           "id": "170",
           "infons": {
            "identifier": "29278",
            "type": "Species"
           },
           "locations": [
            {
             "length": 10,
             "offset": 5176
            }
           ],
           "text": "expression"
          },
          {
           "id": "171",
           "infons": {
            "identifier": "29278",
            "type": "Species"
           },
           "locations": [
            {
             "length": 10,
             "offset": 5972
            }
           ],
           "text": "expression"
          },
          {
           "id": "172",
           "infons": {
            "identifier": "29278",
            "type": "Species"
           },
           "locations": [
            {
             "length": 10,
             "offset": 6377
            }
           ],
           "text": "expression"
          },
          {
           "id": "173",
           "infons": {
            "identifier": "29278",
            "type": "Species"
           },
           "locations": [
            {
             "length": 10,
             "offset": 6484
            }
           ],
           "text": "expression"
          },
          {
           "id": "174",
           "infons": {
            "identifier": "MESH:D001943",
            "type": "Disease"
           },
           "locations": [
            {
             "length": 13,
             "offset": 5087
            }
           ],
           "text": "breast cancer"
          },
          {
           "id": "175",
           "infons": {
            "identifier": "MESH:D001943",
            "type": "Disease"
           },
           "locations": [
            {
             "length": 30,
             "offset": 5205
            }
           ],
           "text": "luminal subtype breast cancers"
          },
          {
           "id": "176",
           "infons": {
            "identifier": "MESH:D001943",
            "type": "Disease"
           },
           "locations": [
            {
             "length": 21,
             "offset": 4519
            }
           ],
           "text": "luminal breast cancer"
          },
          {
           "id": "177",
           "infons": {
            "identifier": "MESH:D001943",
            "type": "Disease"
           },
           "locations": [
            {
             "length": 14,
             "offset": 4133
            }
           ],
           "text": "breast cancers"
          },
          {
           "id": "178",
           "infons": {
            "identifier": "MESH:D001943",
            "type": "Disease"
           },
           "locations": [
            {
             "length": 14,
             "offset": 4871
            }
           ],
           "text": "breast cancers"
          },
          {
           "id": "179",
           "infons": {
            "identifier": "MESH:D001943",
            "type": "Disease"
           },
           "locations": [
            {
             "length": 14,
             "offset": 5871
            }
           ],
           "text": "breast cancers"
          },
          {
           "id": "180",
           "infons": {
            "identifier": "MESH:D009369",
            "type": "Disease"
           },
           "locations": [
            {
             "length": 6,
             "offset": 3390
            }
           ],
           "text": "tumors"
          },
          {
           "id": "181",
           "infons": {
            "identifier": "MESH:D001943",
            "type": "Disease"
           },
           "locations": [
            {
             "length": 14,
             "offset": 3840
            }
           ],
           "text": "breast cancers"
          },
          {
           "id": "182",
           "infons": {
            "identifier": "MESH:D001943",
            "type": "Disease"
           },
           "locations": [
            {
             "length": 30,
             "offset": 6391
            }
           ],
           "text": "luminal subtype breast cancers"
          },
          {
           "id": "183",
           "infons": {
            "identifier": "MESH:D001943",
            "type": "Disease"
           },
           "locations": [
            {
             "length": 14,
             "offset": 5421
            }
           ],
           "text": "breast cancers"
          },
          {
           "id": "184",
           "infons": {
            "identifier": "MESH:D001943",
            "type": "Disease"
           },
           "locations": [
            {
             "length": 14,
             "offset": 5520
            }
           ],
           "text": "breast cancers"
          },
          {
           "id": "185",
           "infons": {
            "identifier": "MESH:D009369",
            "type": "Disease"
           },
           "locations": [
            {
             "length": 5,
             "offset": 3751
            }
           ],
           "text": "tumor"
          },
          {
           "id": "186",
           "infons": {
            "identifier": "MESH:D003596",
            "type": "Chemical"
           },
           "locations": [
            {
             "length": 8,
             "offset": 5371
            }
           ],
           "text": "cytosine"
          },
          {
           "id": "187",
           "infons": {
            "identifier": "MESH:D001943",
            "type": "Disease"
           },
           "locations": [
            {
             "length": 14,
             "offset": 4338
            }
           ],
           "text": "breast cancers"
          }
         ],
         "infons": {
          "section": "Introduction",
          "section_type": "INTRO",
          "type": "paragraph"
         },
         "offset": 3371,
         "relations": [],
         "sentences": [],
         "text": "Common features of tumors are their various genetic alterations, such as base substitutions, insertions/deletions, and rearrangements that are observed in relation to disease progression. These mutations are divided into driver mutations that affect the disease and passenger mutations that have no effects on the disease. Since the identification of driver mutations involved in tumor progression contributes to effective therapies and disease prognosis, mutations in breast cancers are being examined aggressively using deep DNA sequencers. In a recent report, likely driver mutations were newly identified in the exon regions of AKT2, ARID1B, CASP8, CDKN1B, MAP3K1, MAP3K13, NCOR1, SMRCD1, and TBX3 based on analyses of the coding exon regions in 100 primary breast cancers in addition to the mutations previously identified in AKT1, BRCA1, CDH1, GATA3, PIK3CA, PTEN, RB1, and TP53. Nik-Zainail et al. carried out a large-scale analysis of the whole genome of 560 breast cancers, and identified 916 probable driver mutations including TP53, PIK3CA, MYC, CCND1, PTEN, ERBB2, ZNF703/FGFR1, RB1, and MAP3K1 as the most frequently mutated genes. In luminal breast cancer subtypes defined by the presence of ERalpha, somatic mutations of PIK3CA, MAP3K1, GATA3, and TP53 were found to be the most frequent mutations. To elucidate the pathogenetic factors activated by these genetic alterations, phosphoproteomic analysis by quantitative mass-spectrometry was carried out using 105 genetically annotated breast cancers. CDC42BPG, an effector kinase for RHO family GTPase was clearly detected as an active kinase in the HER2-enriched subtype, and two kinases, PRKDC and SPEG were significantly observed in the basal-like breast cancer subtype. The driver mutations directly connected to the activation of ESR1 expression remain unclear in luminal subtype breast cancers. The methylation of the promoter region in ESR1 gene is observed through DNA methyl transferases (DNMTs) that insert a methyl group to cytosine of CpG residues in the ERalpha -negative breast cancers in contrast to the unmethylation in the transcriptional region of ERalpha -positive breast cancers. The methylation region is covered with methyl-CpG binding protein 2 (MeCP2), which associates with switch-independent 3 family member A (SIN3A) that can form the large complex with various transcriptional regulators including Histone deacetylases (HDACs). The large complex plays a key role in transcriptional silencing. In high-grade breast cancers, HDAC1 and DNA methyl transferase 3B are also recruited to the ESR1 promoter by Twist expression, causing a reduction in the ESR1 transcription level. Recently, phosphoinositide-3-kinase (PI3K), coded by PIK3CA in which somatic mutations are frequently found, was found to phosphorylate histone methyltransferase KMT2D through Akt activation, which inhibits ERalpha-dependent transcription. There is as yet no report elucidating the relationship between somatic mutations and increased ESR1 expression in luminal subtype breast cancers, although epigenetic regulation appears to be involved in the expression of the ESR1 mRNA."
        },
        {
         "annotations": [
          {
           "id": "206",
           "infons": {
            "identifier": "2099",
            "ncbi_homologene": "47906",
            "type": "Gene"
           },
           "locations": [
            {
             "length": 4,
             "offset": 6604
            }
           ],
           "text": "ESR1"
          },
          {
           "id": "207",
           "infons": {
            "identifier": "2099",
            "ncbi_homologene": "47906",
            "type": "Gene"
           },
           "locations": [
            {
             "length": 4,
             "offset": 6842
            }
           ],
           "text": "ESR1"
          },
          {
           "id": "208",
           "infons": {
            "identifier": "25942",
            "ncbi_homologene": "32124",
            "type": "Gene"
           },
           "locations": [
            {
             "length": 5,
             "offset": 6998
            }
           ],
           "text": "SIN3A"
          },
          {
           "id": "209",
           "infons": {
            "identifier": "2099",
            "ncbi_homologene": "47906",
            "type": "Gene"
           },
           "locations": [
            {
             "length": 7,
             "offset": 7108
            }
           ],
           "text": "ERalpha"
          },
          {
           "id": "210",
           "infons": {
            "identifier": "2099",
            "ncbi_homologene": "47906",
            "type": "Gene"
           },
           "locations": [
            {
             "length": 4,
             "offset": 7202
            }
           ],
           "text": "ESR1"
          },
          {
           "id": "211",
           "infons": {
            "identifier": "2099",
            "ncbi_homologene": "47906",
            "type": "Gene"
           },
           "locations": [
            {
             "length": 7,
             "offset": 7362
            }
           ],
           "text": "ERalpha"
          },
          {
           "id": "212",
           "infons": {
            "identifier": "25942",
            "ncbi_homologene": "32124",
            "type": "Gene"
           },
           "locations": [
            {
             "length": 5,
             "offset": 7149
            }
           ],
           "text": "SIN3A"
          },
          {
           "id": "213",
           "infons": {
            "identifier": "9606",
            "type": "Species"
           },
           "locations": [
            {
             "length": 8,
             "offset": 6709
            }
           ],
           "text": "patients"
          },
          {
           "id": "214",
           "infons": {
            "identifier": "29278",
            "type": "Species"
           },
           "locations": [
            {
             "length": 10,
             "offset": 6609
            }
           ],
           "text": "expression"
          },
          {
           "id": "215",
           "infons": {
            "identifier": "29278",
            "type": "Species"
           },
           "locations": [
            {
             "length": 10,
             "offset": 6847
            }
           ],
           "text": "expression"
          },
          {
           "id": "216",
           "infons": {
            "identifier": "29278",
            "type": "Species"
           },
           "locations": [
            {
             "length": 10,
             "offset": 7116
            }
           ],
           "text": "expression"
          },
          {
           "id": "217",
           "infons": {
            "identifier": "29278",
            "type": "Species"
           },
           "locations": [
            {
             "length": 10,
             "offset": 7207
            }
           ],
           "text": "expression"
          },
          {
           "id": "218",
           "infons": {
            "identifier": "CVCL:0031",
            "type": "CellLine"
           },
           "locations": [
            {
             "length": 4,
             "offset": 7269
            }
           ],
           "text": "MCF7"
          },
          {
           "id": "219",
           "infons": {
            "identifier": "MESH:D001943",
            "type": "Disease"
           },
           "locations": [
            {
             "length": 14,
             "offset": 6575
            }
           ],
           "text": "breast cancers"
          },
          {
           "id": "220",
           "infons": {
            "identifier": "MESH:D001943",
            "type": "Disease"
           },
           "locations": [
            {
             "length": 13,
             "offset": 6723
            }
           ],
           "text": "breast cancer"
          },
          {
           "id": "221",
           "infons": {
            "identifier": "MESH:D001943",
            "type": "Disease"
           },
           "locations": [
            {
             "length": 14,
             "offset": 7080
            }
           ],
           "text": "breast cancers"
          },
          {
           "id": "222",
           "infons": {
            "identifier": "c.2830C>T",
            "subtype": "DNAMutation",
            "type": "Mutation"
           },
           "locations": [
            {
             "length": 10,
             "offset": 7155
            }
           ],
           "text": "c.2830 C>T"
          },
          {
           "id": "223",
           "infons": {
            "identifier": "p.Q944*",
            "subtype": "ProteinMutation",
            "type": "Mutation"
           },
           "locations": [
            {
             "length": 9,
             "offset": 7167
            }
           ],
           "text": "p.Gln944*"
          }
         ],
         "infons": {
          "section": "Introduction",
          "section_type": "INTRO",
          "type": "paragraph"
         },
         "offset": 6513,
         "relations": [],
         "sentences": [],
         "text": "Here, we carried out whole-exome sequencing (WES) analysis of breast cancers classified by ESR1 expression, and identified novel somatic mutations by exclusion of SNPs in the whole blood cells of patients with breast cancer. Of the somatic mutations validated by different types of DNA deep sequencers, genes directly related to ESR1 expression were selected from an Ingenuity Pathway Analysis (IPA) pathway database. We found a novel nonsense mutation of a transcriptional regulator, SIN3A, that can associate with HDACs but has lost its binding region for MeCP2 in breast cancers showing high ERalpha expression. The somatic mutation SIN3A c.2830 C>T; p.Gln944* enhances the increase in ESR1 expression, which, in turn, accelerates cell proliferation in MCF7 cells accompanied by cytoplasmic localization separate from the nuclear localization of ERalpha."
        },
        {
         "annotations": [],
         "infons": {
          "section": "Results",
          "section_type": "RESULTS",
          "type": "title_1"
         },
         "offset": 7371,
         "relations": [],
         "sentences": [],
         "text": "Results"
        },
        {
         "annotations": [
          {
           "id": "226",
           "infons": {
            "identifier": "2099",
            "ncbi_homologene": "47906",
            "type": "Gene"
           },
           "locations": [
            {
             "length": 4,
             "offset": 7449
            }
           ],
           "text": "ESR1"
          },
          {
           "id": "227",
           "infons": {
            "identifier": "MESH:D001943",
            "type": "Disease"
           },
           "locations": [
            {
             "length": 14,
             "offset": 7414
            }
           ],
           "text": "breast cancers"
          }
         ],
         "infons": {
          "section": "Results",
          "section_type": "RESULTS",
          "type": "title_2"
         },
         "offset": 7379,
         "relations": [],
         "sentences": [],
         "text": "Somatic mutations were detected in breast cancers with high levels of ESR1 expression"
        },
        {
         "annotations": [
          {
           "id": "247",
           "infons": {
            "identifier": "2099",
            "ncbi_homologene": "47906",
            "type": "Gene"
           },
           "locations": [
            {
             "length": 4,
             "offset": 7710
            }
           ],
           "text": "ESR1"
          },
          {
           "id": "248",
           "infons": {
            "identifier": "5241",
            "ncbi_homologene": "713",
            "type": "Gene"
           },
           "locations": [
            {
             "length": 3,
             "offset": 7725
            }
           ],
           "text": "PGR"
          },
          {
           "id": "249",
           "infons": {
            "identifier": "2064",
            "ncbi_homologene": "3273",
            "type": "Gene"
           },
           "locations": [
            {
             "length": 4,
             "offset": 7742
            }
           ],
           "text": "HER2"
          },
          {
           "id": "250",
           "infons": {
            "identifier": "2099",
            "ncbi_homologene": "47906",
            "type": "Gene"
           },
           "locations": [
            {
             "length": 4,
             "offset": 7913
            }
           ],
           "text": "ESR1"
          },
          {
           "id": "251",
           "infons": {
            "identifier": "2099",
            "ncbi_homologene": "47906",
            "type": "Gene"
           },
           "locations": [
            {
             "length": 4,
             "offset": 7980
            }
           ],
           "text": "ESR1"
          },
          {
           "id": "252",
           "infons": {
            "identifier": "2099",
            "ncbi_homologene": "47906",
            "type": "Gene"
           },
           "locations": [
            {
             "length": 4,
             "offset": 8015
            }
           ],
           "text": "ESR1"
          },
          {
           "id": "253",
           "infons": {
            "identifier": "2099",
            "ncbi_homologene": "47906",
            "type": "Gene"
           },
           "locations": [
            {
             "length": 4,
             "offset": 8068
            }
           ],
           "text": "ESR1"
          },
          {
           "id": "254",
           "infons": {
            "identifier": "2099",
            "ncbi_homologene": "47906",
            "type": "Gene"
           },
           "locations": [
            {
             "length": 4,
             "offset": 8083
            }
           ],
           "text": "ESR1"
          },
          {
           "id": "255",
           "infons": {
            "identifier": "2099",
            "ncbi_homologene": "47906",
            "type": "Gene"
           },
           "locations": [
            {
             "length": 4,
             "offset": 8129
            }
           ],
           "text": "ESR1"
          },
          {
           "id": "256",
           "infons": {
            "identifier": "2099",
            "ncbi_homologene": "47906",
            "type": "Gene"
           },
           "locations": [
            {
             "length": 4,
             "offset": 8152
            }
           ],
           "text": "ESR1"
          },
          {
           "id": "257",
           "infons": {
            "identifier": "2099",
            "ncbi_homologene": "47906",
            "type": "Gene"
           },
           "locations": [
            {
             "length": 4,
             "offset": 8184
            }
           ],
           "text": "ESR1"
          },
          {
           "id": "258",
           "infons": {
            "identifier": "29278",
            "type": "Species"
           },
           "locations": [
            {
             "length": 10,
             "offset": 7465
            }
           ],
           "text": "Expression"
          },
          {
           "id": "259",
           "infons": {
            "identifier": "29278",
            "type": "Species"
           },
           "locations": [
            {
             "length": 10,
             "offset": 7839
            }
           ],
           "text": "expression"
          },
          {
           "id": "260",
           "infons": {
            "identifier": "29278",
            "type": "Species"
           },
           "locations": [
            {
             "length": 10,
             "offset": 7990
            }
           ],
           "text": "expression"
          },
          {
           "id": "261",
           "infons": {
            "identifier": "29278",
            "type": "Species"
           },
           "locations": [
            {
             "length": 10,
             "offset": 8020
            }
           ],
           "text": "expression"
          },
          {
           "id": "262",
           "infons": {
            "identifier": "29278",
            "type": "Species"
           },
           "locations": [
            {
             "length": 10,
             "offset": 8088
            }
           ],
           "text": "expression"
          },
          {
           "id": "263",
           "infons": {
            "identifier": "29278",
            "type": "Species"
           },
           "locations": [
            {
             "length": 10,
             "offset": 8157
            }
           ],
           "text": "expression"
          },
          {
           "id": "264",
           "infons": {
            "identifier": "29278",
            "type": "Species"
           },
           "locations": [
            {
             "length": 10,
             "offset": 8292
            }
           ],
           "text": "expression"
          },
          {
           "id": "265",
           "infons": {
            "identifier": "MESH:D001943",
            "type": "Disease"
           },
           "locations": [
            {
             "length": 34,
             "offset": 7516
            }
           ],
           "text": "breast cancers (A-C) Breast cancer"
          }
         ],
         "infons": {
          "file": "41598_2018_34290_Fig1_HTML.jpg",
          "id": "Fig1",
          "section": "Results",
          "section_type": "FIG",
          "type": "fig_caption"
         },
         "offset": 7465,
         "relations": [],
         "sentences": [],
         "text": "Expression of mRNAs for conventional biomarkers of breast cancers (A-C) Breast cancer tissues (n = 40) were minced and homogenized with a mixer mill, and total RNA was extracted and converted to cDNA by reverse transcriptase. The expressions of ESR1 mRNA (A), PGR mRNA (B) and HER2 mRNA (C) were determined by qPCR using the primers indicated in Supplemental Table 10S. The expression values are shown as comparative values for the mean of the low ESR1 group. The tissues were classified according to the levels of ESR1 mRNA expression into the high ESR1 expression group greater than mean + 2 SD (high ESR1), the low ESR1 expression group less than mean-2SD (low ESR1), or the moderate ESR1 expression group (moderate ESR1) for all samples not characterized in the other groups. The expressions of mRNA were normalized to the expression of GAPDH. The red symbols show the samples used to whole exome sequences (WES). Statistical significance was determined by ANOVA with the Bonferoni post hoc test (*P < 0.05)."
        },
        {
         "annotations": [
          {
           "id": "281",
           "infons": {
            "identifier": "2099",
            "ncbi_homologene": "47906",
            "type": "Gene"
           },
           "locations": [
            {
             "length": 4,
             "offset": 8642
            }
           ],
           "text": "ESR1"
          },
          {
           "id": "282",
           "infons": {
            "identifier": "2099",
            "ncbi_homologene": "47906",
            "type": "Gene"
           },
           "locations": [
            {
             "length": 4,
             "offset": 8750
            }
           ],
           "text": "ESR1"
          },
          {
           "id": "283",
           "infons": {
            "identifier": "2099",
            "ncbi_homologene": "47906",
            "type": "Gene"
           },
           "locations": [
            {
             "length": 4,
             "offset": 8779
            }
           ],
           "text": "ESR1"
          },
          {
           "id": "284",
           "infons": {
            "identifier": "2099",
            "ncbi_homologene": "47906",
            "type": "Gene"
           },
           "locations": [
            {
             "length": 4,
             "offset": 8807
            }
           ],
           "text": "ESR1"
          },
          {
           "id": "285",
           "infons": {
            "identifier": "2099",
            "ncbi_homologene": "47906",
            "type": "Gene"
           },
           "locations": [
            {
             "length": 4,
             "offset": 9053
            }
           ],
           "text": "ESR1"
          },
          {
           "id": "286",
           "infons": {
            "identifier": "2099",
            "ncbi_homologene": "47906",
            "type": "Gene"
           },
           "locations": [
            {
             "length": 4,
             "offset": 9212
            }
           ],
           "text": "ESR1"
          },
          {
           "id": "287",
           "infons": {
            "identifier": "2099",
            "ncbi_homologene": "47906",
            "type": "Gene"
           },
           "locations": [
            {
             "length": 4,
             "offset": 9429
            }
           ],
           "text": "ESR1"
          },
          {
           "id": "288",
           "infons": {
            "identifier": "2099",
            "ncbi_homologene": "47906",
            "type": "Gene"
           },
           "locations": [
            {
             "length": 4,
             "offset": 9859
            }
           ],
           "text": "ESR1"
          },
          {
           "id": "289",
           "infons": {
            "identifier": "2099",
            "ncbi_homologene": "47906",
            "type": "Gene"
           },
           "locations": [
            {
             "length": 4,
             "offset": 9950
            }
           ],
           "text": "ESR1"
          },
          {
           "id": "290",
           "infons": {
            "identifier": "29278",
            "type": "Species"
           },
           "locations": [
            {
             "length": 10,
             "offset": 8647
            }
           ],
           "text": "expression"
          },
          {
           "id": "291",
           "infons": {
            "identifier": "29278",
            "type": "Species"
           },
           "locations": [
            {
             "length": 10,
             "offset": 9434
            }
           ],
           "text": "expression"
          },
          {
           "id": "292",
           "infons": {
            "identifier": "MESH:D001943",
            "type": "Disease"
           },
           "locations": [
            {
             "length": 13,
             "offset": 9395
            }
           ],
           "text": "breast cancer"
          },
          {
           "id": "293",
           "infons": {
            "identifier": "MESH:D001943",
            "type": "Disease"
           },
           "locations": [
            {
             "length": 13,
             "offset": 8707
            }
           ],
           "text": "breast cancer"
          },
          {
           "id": "294",
           "infons": {
            "identifier": "MESH:D001943",
            "type": "Disease"
           },
           "locations": [
            {
             "length": 13,
             "offset": 8608
            }
           ],
           "text": "breast cancer"
          },
          {
           "id": "295",
           "infons": {
            "identifier": "MESH:D001943",
            "type": "Disease"
           },
           "locations": [
            {
             "length": 14,
             "offset": 8527
            }
           ],
           "text": "breast cancers"
          }
         ],
         "infons": {
          "file": "41598_2018_34290_Fig2_HTML.jpg",
          "id": "Fig2",
          "section": "Results",
          "section_type": "FIG",
          "type": "fig_caption"
         },
         "offset": 8493,
         "relations": [],
         "sentences": [],
         "text": "Detection of somatic mutations in breast cancers by WES analysis (A) The workflow for somatic mutation analysis in breast cancer tissues in the high ESR1 expression group is shown. WES analysis was performed using breast cancer tissue samples from the high ESR1 group (n = 7), moderate ESR1 group (n = 3), and low ESR1 group (n = 6), resulting in 16,521 non-synonymous variants of 80,948 single nucleotide variants detected in all tissues. By removing SNPs detected in whole blood cells and SNPs on the dbSNP common database, 310 somatic mutations in the high ESR1 group were identified in the tissues. Using the database on Ingenuity Pathway Analysis (IPA) software, 232 somatic mutations in 226 genes associated with ESR1 were selected from the genes with somatic mutations. Finally, 213 somatic mutations in 208 genes were confirmed by target re-sequencing with an Ion PGM. (B) Genetic landscape of breast cancer tissues in the high ESR1 expression group is shown. Numbers of somatic mutations in each tissue are shown in the upper bar graph with the indicated mutation types. The lower panel shows the mutation types in representative genes detected by WES analysis. The types of molecular functions are shown on the right side of the bottom panel. (C) The identified genes were classified according to their biological functions. (D) The direct network between ESR1 and genes with somatic mutation is shown. (E) The direct and indirect network between ESR1 and transcriptional regulators with somatic mutation is shown. The networks were revealed as pictures for genes and lines for biological relationship. Solid lines mean direct interaction, and dotted lines show indirect interactions between the genes. The shapes of genes indicate their molecular functions."
        },
        {
         "annotations": [
          {
           "id": "339",
           "infons": {
            "identifier": "2099",
            "ncbi_homologene": "47906",
            "type": "Gene"
           },
           "locations": [
            {
             "length": 4,
             "offset": 10339
            }
           ],
           "text": "ESR1"
          },
          {
           "id": "340",
           "infons": {
            "identifier": "2099",
            "ncbi_homologene": "47906",
            "type": "Gene"
           },
           "locations": [
            {
             "length": 4,
             "offset": 10427
            }
           ],
           "text": "ESR1"
          },
          {
           "id": "341",
           "infons": {
            "identifier": "2099",
            "ncbi_homologene": "47906",
            "type": "Gene"
           },
           "locations": [
            {
             "length": 4,
             "offset": 10457
            }
           ],
           "text": "ESR1"
          },
          {
           "id": "342",
           "infons": {
            "identifier": "2099",
            "ncbi_homologene": "47906",
            "type": "Gene"
           },
           "locations": [
            {
             "length": 4,
             "offset": 10559
            }
           ],
           "text": "ESR1"
          },
          {
           "id": "343",
           "infons": {
            "identifier": "2099",
            "ncbi_homologene": "47906",
            "type": "Gene"
           },
           "locations": [
            {
             "length": 4,
             "offset": 10591
            }
           ],
           "text": "ESR1"
          },
          {
           "id": "344",
           "infons": {
            "identifier": "2099",
            "ncbi_homologene": "47906",
            "type": "Gene"
           },
           "locations": [
            {
             "length": 4,
             "offset": 10672
            }
           ],
           "text": "ESR1"
          },
          {
           "id": "345",
           "infons": {
            "identifier": "2099",
            "ncbi_homologene": "47906",
            "type": "Gene"
           },
           "locations": [
            {
             "length": 4,
             "offset": 10724
            }
           ],
           "text": "ESR1"
          },
          {
           "id": "346",
           "infons": {
            "identifier": "2099",
            "ncbi_homologene": "47906",
            "type": "Gene"
           },
           "locations": [
            {
             "length": 4,
             "offset": 10736
            }
           ],
           "text": "ESR1"
          },
          {
           "id": "347",
           "infons": {
            "identifier": "2099",
            "ncbi_homologene": "47906",
            "type": "Gene"
           },
           "locations": [
            {
             "length": 4,
             "offset": 10807
            }
           ],
           "text": "ESR1"
          },
          {
           "id": "348",
           "infons": {
            "identifier": "2099",
            "ncbi_homologene": "47906",
            "type": "Gene"
           },
           "locations": [
            {
             "length": 4,
             "offset": 10847
            }
           ],
           "text": "ESR1"
          },
          {
           "id": "349",
           "infons": {
            "identifier": "2099",
            "ncbi_homologene": "47906",
            "type": "Gene"
           },
           "locations": [
            {
             "length": 4,
             "offset": 10869
            }
           ],
           "text": "ESR1"
          },
          {
           "id": "350",
           "infons": {
            "identifier": "2099",
            "ncbi_homologene": "47906",
            "type": "Gene"
           },
           "locations": [
            {
             "length": 4,
             "offset": 10942
            }
           ],
           "text": "ESR1"
          },
          {
           "id": "351",
           "infons": {
            "identifier": "5241",
            "ncbi_homologene": "713",
            "type": "Gene"
           },
           "locations": [
            {
             "length": 3,
             "offset": 10982
            }
           ],
           "text": "PGR"
          },
          {
           "id": "352",
           "infons": {
            "identifier": "2099",
            "ncbi_homologene": "47906",
            "type": "Gene"
           },
           "locations": [
            {
             "length": 4,
             "offset": 11003
            }
           ],
           "text": "ESR1"
          },
          {
           "id": "353",
           "infons": {
            "identifier": "2099",
            "ncbi_homologene": "47906",
            "type": "Gene"
           },
           "locations": [
            {
             "length": 4,
             "offset": 11057
            }
           ],
           "text": "ESR1"
          },
          {
           "id": "354",
           "infons": {
            "identifier": "2064",
            "ncbi_homologene": "3273",
            "type": "Gene"
           },
           "locations": [
            {
             "length": 4,
             "offset": 11149
            }
           ],
           "text": "HER2"
          },
          {
           "id": "355",
           "infons": {
            "identifier": "2099",
            "ncbi_homologene": "47906",
            "type": "Gene"
           },
           "locations": [
            {
             "length": 4,
             "offset": 11216
            }
           ],
           "text": "ESR1"
          },
          {
           "id": "356",
           "infons": {
            "identifier": "2099",
            "ncbi_homologene": "47906",
            "type": "Gene"
           },
           "locations": [
            {
             "length": 4,
             "offset": 11326
            }
           ],
           "text": "ESR1"
          },
          {
           "id": "357",
           "infons": {
            "identifier": "2099",
            "ncbi_homologene": "47906",
            "type": "Gene"
           },
           "locations": [
            {
             "length": 4,
             "offset": 11860
            }
           ],
           "text": "ESR1"
          },
          {
           "id": "358",
           "infons": {
            "identifier": "2099",
            "ncbi_homologene": "47906",
            "type": "Gene"
           },
           "locations": [
            {
             "length": 4,
             "offset": 11875
            }
           ],
           "text": "ESR1"
          },
          {
           "id": "359",
           "infons": {
            "identifier": "2099",
            "ncbi_homologene": "47906",
            "type": "Gene"
           },
           "locations": [
            {
             "length": 4,
             "offset": 11889
            }
           ],
           "text": "ESR1"
          },
          {
           "id": "360",
           "infons": {
            "identifier": "2099",
            "ncbi_homologene": "47906",
            "type": "Gene"
           },
           "locations": [
            {
             "length": 4,
             "offset": 12339
            }
           ],
           "text": "ESR1"
          },
          {
           "id": "361",
           "infons": {
            "identifier": "2099",
            "ncbi_homologene": "47906",
            "type": "Gene"
           },
           "locations": [
            {
             "length": 4,
             "offset": 12427
            }
           ],
           "text": "ESR1"
          },
          {
           "id": "362",
           "infons": {
            "identifier": "2099",
            "ncbi_homologene": "47906",
            "type": "Gene"
           },
           "locations": [
            {
             "length": 4,
             "offset": 12445
            }
           ],
           "text": "ESR1"
          },
          {
           "id": "363",
           "infons": {
            "identifier": "2099",
            "ncbi_homologene": "47906",
            "type": "Gene"
           },
           "locations": [
            {
             "length": 4,
             "offset": 13032
            }
           ],
           "text": "ESR1"
          },
          {
           "id": "364",
           "infons": {
            "identifier": "2099",
            "ncbi_homologene": "47906",
            "type": "Gene"
           },
           "locations": [
            {
             "length": 4,
             "offset": 13077
            }
           ],
           "text": "ESR1"
          },
          {
           "id": "365",
           "infons": {
            "identifier": "9606",
            "type": "Species"
           },
           "locations": [
            {
             "length": 8,
             "offset": 11462
            }
           ],
           "text": "patients"
          },
          {
           "id": "366",
           "infons": {
            "identifier": "9606",
            "type": "Species"
           },
           "locations": [
            {
             "length": 5,
             "offset": 11632
            }
           ],
           "text": "human"
          },
          {
           "id": "367",
           "infons": {
            "identifier": "29278",
            "type": "Species"
           },
           "locations": [
            {
             "length": 10,
             "offset": 10325
            }
           ],
           "text": "expression"
          },
          {
           "id": "368",
           "infons": {
            "identifier": "29278",
            "type": "Species"
           },
           "locations": [
            {
             "length": 10,
             "offset": 10432
            }
           ],
           "text": "expression"
          },
          {
           "id": "369",
           "infons": {
            "identifier": "29278",
            "type": "Species"
           },
           "locations": [
            {
             "length": 10,
             "offset": 10536
            }
           ],
           "text": "expression"
          },
          {
           "id": "370",
           "infons": {
            "identifier": "29278",
            "type": "Species"
           },
           "locations": [
            {
             "length": 10,
             "offset": 10650
            }
           ],
           "text": "expression"
          },
          {
           "id": "371",
           "infons": {
            "identifier": "29278",
            "type": "Species"
           },
           "locations": [
            {
             "length": 10,
             "offset": 10780
            }
           ],
           "text": "expression"
          },
          {
           "id": "372",
           "infons": {
            "identifier": "29278",
            "type": "Species"
           },
           "locations": [
            {
             "length": 10,
             "offset": 10826
            }
           ],
           "text": "expression"
          },
          {
           "id": "373",
           "infons": {
            "identifier": "29278",
            "type": "Species"
           },
           "locations": [
            {
             "length": 10,
             "offset": 10968
            }
           ],
           "text": "expression"
          },
          {
           "id": "374",
           "infons": {
            "identifier": "29278",
            "type": "Species"
           },
           "locations": [
            {
             "length": 10,
             "offset": 11159
            }
           ],
           "text": "expression"
          },
          {
           "id": "375",
           "infons": {
            "identifier": "29278",
            "type": "Species"
           },
           "locations": [
            {
             "length": 10,
             "offset": 11221
            }
           ],
           "text": "expression"
          },
          {
           "id": "376",
           "infons": {
            "identifier": "MESH:D001943",
            "type": "Disease"
           },
           "locations": [
            {
             "length": 13,
             "offset": 12287
            }
           ],
           "text": "breast cancer"
          },
          {
           "id": "377",
           "infons": {
            "identifier": "MESH:D001943",
            "type": "Disease"
           },
           "locations": [
            {
             "length": 13,
             "offset": 10347
            }
           ],
           "text": "breast cancer"
          },
          {
           "id": "378",
           "infons": {
            "identifier": "MESH:D001943",
            "type": "Disease"
           },
           "locations": [
            {
             "length": 13,
             "offset": 12064
            }
           ],
           "text": "breast cancer"
          },
          {
           "id": "379",
           "infons": {
            "identifier": "MESH:D001943",
            "type": "Disease"
           },
           "locations": [
            {
             "length": 13,
             "offset": 12760
            }
           ],
           "text": "breast cancer"
          },
          {
           "id": "380",
           "infons": {
            "identifier": "MESH:D001943",
            "type": "Disease"
           },
           "locations": [
            {
             "length": 14,
             "offset": 11494
            }
           ],
           "text": "breast cancers"
          },
          {
           "id": "381",
           "infons": {
            "identifier": "MESH:D001943",
            "type": "Disease"
           },
           "locations": [
            {
             "length": 14,
             "offset": 11297
            }
           ],
           "text": "breast cancers"
          }
         ],
         "infons": {
          "section": "Results",
          "section_type": "RESULTS",
          "type": "paragraph"
         },
         "offset": 10275,
         "relations": [],
         "sentences": [],
         "text": "To examine somatic mutations involved in the high expression of ESR1 in breast cancer tissues, tissues were classified into 3 groups according to their ESR1 expression. Samples with ESR1 levels higher than mean + 2 SD of all samples were classified into a high expression group (high ESR1, n = 15), and samples with ESR1 levels lower than mean-2SD were classified into a low expression group (low ESR1, n = 14). Samples not classified into the high ESR1 or low ESR1 groups were assigned into the moderate expression group (moderate ESR1, n = 11). The expression levels of ESR1 mRNA in the high ESR1 group were more increased than 50-fold higher than those in the low ESR1 group (Fig. 1A). The expression of PGR mRNA in the high ESR1 group appeared to be higher than that in the low ESR1 group (Fig. 1B), but there were no significant differences among the groups (Fig. 1B). HER2 mRNA expression in the samples was unaffected by the level of ESR1 expression (Fig. 1C). WES analysis of genomic DNA extracted from tissues of breast cancers classified by ESR1 was carried out with a deep sequencer SOLiD5500. To remove variants unrelated to the disease, WES analysis of blood collected from patients with the corresponding breast cancers in each group were also analyzed as negative controls except for 4 uncollected samples. The measured reads were aligned on human reference sequences (hg19) using CLC Genomics Workbench software; the numbers of bases mapped on the exon regions in each group were approximately 2.1 Gb/sample. The average depth of sequencing in the exon region for high ESR1, moderate ESR1, and low ESR1 samples was 45, 50 and 51, respectively (Supplementary Table 1S). In the mapped sequences, 742,034 variants including 75,783 non-synonymous variants were detected in all breast cancer samples. Variants also detected in blood samples or listed in dbSNP (common, ver.150) were removed from the non-synonymous variants, leaving a total of 39,734 variants detected as somatic mutations related to breast cancer. Of these somatic mutations, the high ESR1 group samples had 19,228 mutations while 18,485 mutations were included in the low ESR1 and moderate ESR1 group samples, and 754 mutations were detected as common mutations in three groups (data not shown). The mapping parameters were modified to detect only point mutations as described under Materials & Methods. Under the analytical conditions used, 16,521 non-synonymous variants were detected in all samples of breast cancer including 80,948 variants. After removal of the variants detected in blood samples and listed in dbSNP (common, ver.150), 595 mutations were detected in the samples as novel somatic mutations. Of these somatic point mutations, 310 mutations were in the high ESR1 group and 171 mutations were in the low ESR1 group (Fig. 2A)."
        },
        {
         "annotations": [
          {
           "id": "383",
           "infons": {
            "identifier": "2099",
            "ncbi_homologene": "47906",
            "type": "Gene"
           },
           "locations": [
            {
             "length": 7,
             "offset": 13154
            }
           ],
           "text": "ERalpha"
          }
         ],
         "infons": {
          "section": "Results",
          "section_type": "RESULTS",
          "type": "title_2"
         },
         "offset": 13125,
         "relations": [],
         "sentences": [],
         "text": "Somatic mutations related to ERalpha were selected using the IPA database"
        },
        {
         "annotations": [
          {
           "id": "389",
           "infons": {
            "identifier": "2099",
            "ncbi_homologene": "47906",
            "type": "Gene"
           },
           "locations": [
            {
             "length": 4,
             "offset": 13260
            }
           ],
           "text": "ESR1"
          },
          {
           "id": "390",
           "infons": {
            "identifier": "2099",
            "ncbi_homologene": "47906",
            "type": "Gene"
           },
           "locations": [
            {
             "length": 7,
             "offset": 13374
            }
           ],
           "text": "ERalpha"
          },
          {
           "id": "391",
           "infons": {
            "identifier": "2099",
            "ncbi_homologene": "47906",
            "type": "Gene"
           },
           "locations": [
            {
             "length": 7,
             "offset": 13553
            }
           ],
           "text": "ERalpha"
          },
          {
           "id": "392",
           "infons": {
            "identifier": "29278",
            "type": "Species"
           },
           "locations": [
            {
             "length": 10,
             "offset": 13265
            }
           ],
           "text": "expression"
          },
          {
           "id": "393",
           "infons": {
            "identifier": "MESH:D001943",
            "type": "Disease"
           },
           "locations": [
            {
             "length": 14,
             "offset": 13481
            }
           ],
           "text": "breast cancers"
          }
         ],
         "infons": {
          "section": "Results",
          "section_type": "RESULTS",
          "type": "paragraph"
         },
         "offset": 13199,
         "relations": [],
         "sentences": [],
         "text": "To select the somatic mutations evoking the up-regulation of ESR1 expression, we examined whether the genes containing somatic mutations are included as genes associated with ERalpha in the IPA database of known protein interactions. Of 302 genes with somatic mutations detected in breast cancers, 226 genes were coincident with genes that interact with ERalpha in the IPA database pathway (Fig. 2A)."
        },
        {
         "annotations": [],
         "infons": {
          "section": "Results",
          "section_type": "RESULTS",
          "type": "title_2"
         },
         "offset": 13600,
         "relations": [],
         "sentences": [],
         "text": "Somatic mutations were validated by target sequencing with another deep sequencer"
        },
        {
         "annotations": [
          {
           "id": "407",
           "infons": {
            "identifier": "25942",
            "ncbi_homologene": "32124",
            "type": "Gene"
           },
           "locations": [
            {
             "length": 5,
             "offset": 14698
            }
           ],
           "text": "SIN3A"
          },
          {
           "id": "408",
           "infons": {
            "identifier": "25942",
            "ncbi_homologene": "32124",
            "type": "Gene"
           },
           "locations": [
            {
             "length": 5,
             "offset": 14828
            }
           ],
           "text": "SIN3A"
          },
          {
           "id": "409",
           "infons": {
            "identifier": "25942",
            "ncbi_homologene": "32124",
            "type": "Gene"
           },
           "locations": [
            {
             "length": 5,
             "offset": 14996
            }
           ],
           "text": "SIN3A"
          },
          {
           "id": "410",
           "infons": {
            "identifier": "2099",
            "ncbi_homologene": "47906",
            "type": "Gene"
           },
           "locations": [
            {
             "length": 4,
             "offset": 15006
            }
           ],
           "text": "ESR1"
          },
          {
           "id": "411",
           "infons": {
            "identifier": "25942",
            "ncbi_homologene": "32124",
            "type": "Gene"
           },
           "locations": [
            {
             "length": 5,
             "offset": 15054
            }
           ],
           "text": "SIN3A"
          },
          {
           "id": "412",
           "infons": {
            "identifier": "25942",
            "ncbi_homologene": "32124",
            "type": "Gene"
           },
           "locations": [
            {
             "length": 5,
             "offset": 15092
            }
           ],
           "text": "SIN3A"
          },
          {
           "id": "413",
           "infons": {
            "identifier": "2099",
            "ncbi_homologene": "47906",
            "type": "Gene"
           },
           "locations": [
            {
             "length": 7,
             "offset": 15139
            }
           ],
           "text": "ERalpha"
          },
          {
           "id": "414",
           "infons": {
            "identifier": "29278",
            "type": "Species"
           },
           "locations": [
            {
             "length": 10,
             "offset": 15011
            }
           ],
           "text": "expression"
          },
          {
           "id": "415",
           "infons": {
            "identifier": "p.Q944*",
            "subtype": "ProteinMutation",
            "type": "Mutation"
           },
           "locations": [
            {
             "length": 9,
             "offset": 14983
            }
           ],
           "text": "p.Gln944*"
          },
          {
           "id": "416",
           "infons": {
            "identifier": "MESH:D001943",
            "type": "Disease"
           },
           "locations": [
            {
             "length": 13,
             "offset": 14877
            }
           ],
           "text": "breast cancer"
          },
          {
           "id": "417",
           "infons": {
            "identifier": "c.2830C>T",
            "subtype": "DNAMutation",
            "type": "Mutation"
           },
           "locations": [
            {
             "length": 10,
             "offset": 14971
            }
           ],
           "text": "c.2830 C>T"
          },
          {
           "id": "418",
           "infons": {
            "identifier": "MESH:D001943",
            "type": "Disease"
           },
           "locations": [
            {
             "length": 13,
             "offset": 15025
            }
           ],
           "text": "breast cancer"
          },
          {
           "id": "419",
           "infons": {
            "identifier": "MESH:D009369",
            "type": "Disease"
           },
           "locations": [
            {
             "length": 6,
             "offset": 14448
            }
           ],
           "text": "cancer"
          }
         ],
         "infons": {
          "section": "Results",
          "section_type": "RESULTS",
          "type": "paragraph"
         },
         "offset": 13682,
         "relations": [],
         "sentences": [],
         "text": "To confirm the somatic mutations detected by WES, all of the detected genes were amplified by a custom panel consisting of 359 primer sets, and the amplicons were analyzed with Ion Personal Genome Machine (PGM). The average depth of the sequencing was more than 1200-fold for all of the targeted genes, and 213 mutations in 208 genes were confirmed as point mutations identical to those in WES (Fig. 2A, Supplementary Table 2S and 3S). Most of the 19 mutations that were not detected by target re-sequencing may have been false-positives, since coverage of most of the detected sequences was less than 6 reads, and their levels were near the detection limit of the experiment. Among the 208 confirmed genes, mutations in NUP37, C18orf8, and BBS12 were detected in 2 cancer tissues. The genes containing somatic mutations belonged mainly to 3 categories, enzymes, transporters, and transcription regulators (Fig. 2B,C, Supplementary Table 4S and 5S). The following genes were included among transcription regulators, SIN3A, GATA2, KDM3A, MIB2, ANKLE2, ANKRD32, PHF1, RREB1 and SHPRH (Fig. 2D,E). Of the transcriptional regulators, GATA2, PHF1 and SIN3A were previously reported to be involved in breast cancer (Fig. 2D,E). We focused on the relationship between the nonsense point mutation c.2830 C>T; p.Gln944* in SIN3A and ESR1 expression in breast cancer cells, because SIN3A, which is coded by the gene for SIN3A, works as a transcriptional repressor of ERalpha as reported."
        },
        {
         "annotations": [
          {
           "id": "424",
           "infons": {
            "identifier": "2099",
            "ncbi_homologene": "47906",
            "type": "Gene"
           },
           "locations": [
            {
             "length": 4,
             "offset": 15165
            }
           ],
           "text": "ESR1"
          },
          {
           "id": "425",
           "infons": {
            "identifier": "25942",
            "ncbi_homologene": "32124",
            "type": "Gene"
           },
           "locations": [
            {
             "length": 5,
             "offset": 15198
            }
           ],
           "text": "SIN3A"
          },
          {
           "id": "426",
           "infons": {
            "identifier": "p.Q944*",
            "subtype": "ProteinMutation",
            "type": "Mutation"
           },
           "locations": [
            {
             "length": 9,
             "offset": 15216
            }
           ],
           "text": "p.Gln944*"
          },
          {
           "id": "427",
           "infons": {
            "identifier": "c.2830C>T",
            "subtype": "DNAMutation",
            "type": "Mutation"
           },
           "locations": [
            {
             "length": 10,
             "offset": 15204
            }
           ],
           "text": "c.2830 C>T"
          }
         ],
         "infons": {
          "section": "Results",
          "section_type": "RESULTS",
          "type": "title_2"
         },
         "offset": 15165,
         "relations": [],
         "sentences": [],
         "text": "ESR1 mRNA is up-regulated by the SIN3A c.2830 C>T; p.Gln944* mutant"
        },
        {
         "annotations": [
          {
           "id": "472",
           "infons": {
            "identifier": "25942",
            "ncbi_homologene": "32124",
            "type": "Gene"
           },
           "locations": [
            {
             "length": 5,
             "offset": 15283
            }
           ],
           "text": "SIN3A"
          },
          {
           "id": "473",
           "infons": {
            "identifier": "25942",
            "ncbi_homologene": "32124",
            "type": "Gene"
           },
           "locations": [
            {
             "length": 5,
             "offset": 15356
            }
           ],
           "text": "SIN3A"
          },
          {
           "id": "474",
           "infons": {
            "identifier": "25942",
            "ncbi_homologene": "32124",
            "type": "Gene"
           },
           "locations": [
            {
             "length": 5,
             "offset": 15508
            }
           ],
           "text": "SIN3A"
          },
          {
           "id": "475",
           "infons": {
            "identifier": "25942",
            "ncbi_homologene": "32124",
            "type": "Gene"
           },
           "locations": [
            {
             "length": 5,
             "offset": 15568
            }
           ],
           "text": "SIN3A"
          },
          {
           "id": "476",
           "infons": {
            "identifier": "25942",
            "ncbi_homologene": "32124",
            "type": "Gene"
           },
           "locations": [
            {
             "length": 5,
             "offset": 15729
            }
           ],
           "text": "SIN3A"
          },
          {
           "id": "477",
           "infons": {
            "identifier": "25942",
            "ncbi_homologene": "32124",
            "type": "Gene"
           },
           "locations": [
            {
             "length": 5,
             "offset": 15774
            }
           ],
           "text": "SIN3A"
          },
          {
           "id": "478",
           "infons": {
            "identifier": "2099",
            "ncbi_homologene": "47906",
            "type": "Gene"
           },
           "locations": [
            {
             "length": 4,
             "offset": 15846
            }
           ],
           "text": "ESR1"
          },
          {
           "id": "479",
           "infons": {
            "identifier": "25942",
            "ncbi_homologene": "32124",
            "type": "Gene"
           },
           "locations": [
            {
             "length": 5,
             "offset": 15916
            }
           ],
           "text": "SIN3A"
          },
          {
           "id": "480",
           "infons": {
            "identifier": "2099",
            "ncbi_homologene": "47906",
            "type": "Gene"
           },
           "locations": [
            {
             "length": 4,
             "offset": 16073
            }
           ],
           "text": "ESR1"
          },
          {
           "id": "481",
           "infons": {
            "identifier": "25942",
            "ncbi_homologene": "32124",
            "type": "Gene"
           },
           "locations": [
            {
             "length": 5,
             "offset": 16369
            }
           ],
           "text": "SIN3A"
          },
          {
           "id": "482",
           "infons": {
            "identifier": "25942",
            "ncbi_homologene": "32124",
            "type": "Gene"
           },
           "locations": [
            {
             "length": 5,
             "offset": 16424
            }
           ],
           "text": "SIN3A"
          },
          {
           "id": "483",
           "infons": {
            "identifier": "2099",
            "ncbi_homologene": "47906",
            "type": "Gene"
           },
           "locations": [
            {
             "length": 7,
             "offset": 16518
            }
           ],
           "text": "ERalpha"
          },
          {
           "id": "484",
           "infons": {
            "identifier": "25942",
            "ncbi_homologene": "32124",
            "type": "Gene"
           },
           "locations": [
            {
             "length": 5,
             "offset": 16694
            }
           ],
           "text": "SIN3A"
          },
          {
           "id": "485",
           "infons": {
            "identifier": "2099",
            "ncbi_homologene": "47906",
            "type": "Gene"
           },
           "locations": [
            {
             "length": 7,
             "offset": 16707
            }
           ],
           "text": "ERalpha"
          },
          {
           "id": "486",
           "infons": {
            "identifier": "25942",
            "ncbi_homologene": "32124",
            "type": "Gene"
           },
           "locations": [
            {
             "length": 5,
             "offset": 16959
            }
           ],
           "text": "SIN3A"
          },
          {
           "id": "487",
           "infons": {
            "identifier": "25942",
            "ncbi_homologene": "32124",
            "type": "Gene"
           },
           "locations": [
            {
             "length": 5,
             "offset": 17288
            }
           ],
           "text": "SIN3A"
          },
          {
           "id": "488",
           "infons": {
            "identifier": "4932",
            "type": "Species"
           },
           "locations": [
            {
             "length": 6,
             "offset": 15824
            }
           ],
           "text": "yeasts"
          },
          {
           "id": "489",
           "infons": {
            "identifier": "9606",
            "type": "Species"
           },
           "locations": [
            {
             "length": 6,
             "offset": 15834
            }
           ],
           "text": "humans"
          },
          {
           "id": "490",
           "infons": {
            "identifier": "29278",
            "type": "Species"
           },
           "locations": [
            {
             "length": 10,
             "offset": 15856
            }
           ],
           "text": "expression"
          },
          {
           "id": "491",
           "infons": {
            "identifier": "29278",
            "type": "Species"
           },
           "locations": [
            {
             "length": 10,
             "offset": 16526
            }
           ],
           "text": "expression"
          },
          {
           "id": "492",
           "infons": {
            "identifier": "p.Q944*",
            "subtype": "ProteinMutation",
            "type": "Mutation"
           },
           "locations": [
            {
             "length": 9,
             "offset": 15301
            }
           ],
           "text": "p.Gln944*"
          },
          {
           "id": "493",
           "infons": {
            "identifier": "CVCL:0031",
            "type": "CellLine"
           },
           "locations": [
            {
             "length": 4,
             "offset": 16438
            }
           ],
           "text": "MCF7"
          },
          {
           "id": "494",
           "infons": {
            "identifier": "CVCL:0031",
            "type": "CellLine"
           },
           "locations": [
            {
             "length": 4,
             "offset": 16392
            }
           ],
           "text": "MCF7"
          },
          {
           "id": "495",
           "infons": {
            "identifier": "MESH:C017807",
            "type": "Chemical"
           },
           "locations": [
            {
             "length": 12,
             "offset": 16633
            }
           ],
           "text": "Hoechst33342"
          },
          {
           "id": "496",
           "infons": {
            "identifier": "c.2830C>T",
            "subtype": "DNAMutation",
            "type": "Mutation"
           },
           "locations": [
            {
             "length": 10,
             "offset": 15922
            }
           ],
           "text": "c.2830 C>T"
          },
          {
           "id": "497",
           "infons": {
            "identifier": "-",
            "type": "Chemical"
           },
           "locations": [
            {
             "length": 3,
             "offset": 16599
            }
           ],
           "text": "TMR"
          },
          {
           "id": "498",
           "infons": {
            "identifier": "c.2830C>T",
            "subtype": "DNAMutation",
            "type": "Mutation"
           },
           "locations": [
            {
             "length": 10,
             "offset": 15289
            }
           ],
           "text": "c.2830 C>T"
          },
          {
           "id": "499",
           "infons": {
            "identifier": "MESH:D001943",
            "type": "Disease"
           },
           "locations": [
            {
             "length": 13,
             "offset": 15611
            }
           ],
           "text": "breast cancer"
          },
          {
           "id": "500",
           "infons": {
            "identifier": "c.2830C>T",
            "subtype": "DNAMutation",
            "type": "Mutation"
           },
           "locations": [
            {
             "length": 10,
             "offset": 17294
            }
           ],
           "text": "c.2830 C>T"
          },
          {
           "id": "501",
           "infons": {
            "identifier": "p.Q944*",
            "subtype": "ProteinMutation",
            "type": "Mutation"
           },
           "locations": [
            {
             "length": 9,
             "offset": 17306
            }
           ],
           "text": "p.Gln944*"
          },
          {
           "id": "502",
           "infons": {
            "identifier": "c.2830C>T",
            "subtype": "DNAMutation",
            "type": "Mutation"
           },
           "locations": [
            {
             "length": 10,
             "offset": 16965
            }
           ],
           "text": "c.2830 C>T"
          },
          {
           "id": "503",
           "infons": {
            "identifier": "-",
            "type": "Chemical"
           },
           "locations": [
            {
             "length": 6,
             "offset": 15719
            }
           ],
           "text": "Gln944"
          },
          {
           "id": "504",
           "infons": {
            "identifier": "-",
            "type": "Chemical"
           },
           "locations": [
            {
             "length": 4,
             "offset": 15759
            }
           ],
           "text": "PAH4"
          },
          {
           "id": "505",
           "infons": {
            "identifier": "CVCL:0031",
            "type": "CellLine"
           },
           "locations": [
            {
             "length": 4,
             "offset": 15945
            }
           ],
           "text": "MCF7"
          },
          {
           "id": "506",
           "infons": {
            "identifier": "p.Q944*",
            "subtype": "ProteinMutation",
            "type": "Mutation"
           },
           "locations": [
            {
             "length": 9,
             "offset": 15934
            }
           ],
           "text": "p.Gln944*"
          },
          {
           "id": "507",
           "infons": {
            "identifier": "p.Q944*",
            "subtype": "ProteinMutation",
            "type": "Mutation"
           },
           "locations": [
            {
             "length": 9,
             "offset": 15374
            }
           ],
           "text": "p.Gln944*"
          },
          {
           "id": "508",
           "infons": {
            "identifier": "MESH:C536751",
            "type": "Disease"
           },
           "locations": [
            {
             "length": 8,
             "offset": 17247
            }
           ],
           "text": "SIN3A-WT"
          },
          {
           "id": "509",
           "infons": {
            "identifier": "CVCL:0031",
            "type": "CellLine"
           },
           "locations": [
            {
             "length": 4,
             "offset": 15884
            }
           ],
           "text": "MCF7"
          },
          {
           "id": "510",
           "infons": {
            "identifier": "c.2830C>T",
            "subtype": "DNAMutation",
            "type": "Mutation"
           },
           "locations": [
            {
             "length": 10,
             "offset": 15574
            }
           ],
           "text": "c.2830 C>T"
          },
          {
           "id": "511",
           "infons": {
            "identifier": "MESH:C536751",
            "type": "Disease"
           },
           "locations": [
            {
             "length": 8,
             "offset": 15339
            }
           ],
           "text": "SIN3A-WT"
          },
          {
           "id": "512",
           "infons": {
            "identifier": "p.Q944*",
            "subtype": "ProteinMutation",
            "type": "Mutation"
           },
           "locations": [
            {
             "length": 9,
             "offset": 16977
            }
           ],
           "text": "p.Gln944*"
          },
          {
           "id": "513",
           "infons": {
            "identifier": "MESH:C536751",
            "type": "Disease"
           },
           "locations": [
            {
             "length": 8,
             "offset": 16947
            }
           ],
           "text": "SIN3A-WT"
          },
          {
           "id": "514",
           "infons": {
            "identifier": "c.2830C>T",
            "subtype": "DNAMutation",
            "type": "Mutation"
           },
           "locations": [
            {
             "length": 10,
             "offset": 15362
            }
           ],
           "text": "c.2830 C>T"
          },
          {
           "id": "515",
           "infons": {
            "identifier": "p.Q944*",
            "subtype": "ProteinMutation",
            "type": "Mutation"
           },
           "locations": [
            {
             "length": 9,
             "offset": 15586
            }
           ],
           "text": "p.Gln944*"
          }
         ],
         "infons": {
          "file": "41598_2018_34290_Fig3_HTML.jpg",
          "id": "Fig3",
          "section": "Results",
          "section_type": "FIG",
          "type": "fig_caption"
         },
         "offset": 15235,
         "relations": [],
         "sentences": [],
         "text": "Molecular structure and biological functions of SIN3A c.2830 C>T; p.Gln944* (A) Molecular structures of SIN3A-WT and the SIN3A c.2830 C>T; p.Gln944* nonsense mutant are shown in the upper panel and lower panel, respectively. (B) The sequenced reads of the coding region in SIN3A using SOLiD5500 were shown. (C) The point mutation of SIN3A c.2830 C>T; p.Gln944* as detected in breast cancer tissue was confirmed by Sanger sequencing. (D) Alignments of amino acid sequences adjacent to Gln944 in SIN3A in various species. The PAH4 domain on SIN3A is highly conserved in various species from yeasts to humans. (E) ESR1 mRNA expression was increased in MCF7 cells transfected with the SIN3A c.2830 C>T; p.Gln944*. MCF7 cells were transfected with the indicated vectors together with pMACS4.1 and were incubated with 100 nM E2 for 24 hrs. The ESR1 mRNA was measured by qPCR after the separation with an autoMACS pro. The data represent the means +- SE obtained in 4 independent experiments. Statistical significance was calculated by ANOVA with the Tukey-Kramer multiple comparison test (*P < 0.05). (F) The intracellular localizations of SIN3A were observed in MCF7 cells transfected with the SIN3A mutant. MCF7 cells were transfected with the indicated vectors together with GFP-tagged ERalpha expression vector. The cells were incubated in culture medium containing TMR ligand for Halo-tag stain and Hoechst33342 for nucleus stain at 24 hrs after transfection. SIN3A (red), ERalpha (green) and nucleus (blue) were observed under a confocal microscope LSM710. The pictures show representative results obtained from 6 independent experiments. Scale bar shows 20 microm. (G) Changes in intracellular localizations of SIN3A-WT or SIN3A c.2830 C>T; p.Gln944* were calculated from the total fluorescence intensities in the nucleus and the cytoplasm using an IN Cell analyzer 2000 and IN Carta software. The data represent the means +- SE obtained from 190 cells transfected with empty vector, 183 cells transfected with SIN3A-WT, and 341 cells transfected with SIN3A c.2830 C>T; p.Gln944*. Statistical significances were determined by ANOVA with the Tukey-Kramer multiple comparison test (*P < 0.05)."
        },
        {
         "annotations": [
          {
           "id": "569",
           "infons": {
            "identifier": "25942",
            "ncbi_homologene": "32124",
            "type": "Gene"
           },
           "locations": [
            {
             "length": 5,
             "offset": 17455
            }
           ],
           "text": "SIN3A"
          },
          {
           "id": "570",
           "infons": {
            "identifier": "25942",
            "ncbi_homologene": "32124",
            "type": "Gene"
           },
           "locations": [
            {
             "length": 5,
             "offset": 17730
            }
           ],
           "text": "SIN3A"
          },
          {
           "id": "571",
           "infons": {
            "identifier": "25942",
            "ncbi_homologene": "32124",
            "type": "Gene"
           },
           "locations": [
            {
             "length": 5,
             "offset": 18139
            }
           ],
           "text": "SIN3A"
          },
          {
           "id": "572",
           "infons": {
            "identifier": "25942",
            "ncbi_homologene": "32124",
            "type": "Gene"
           },
           "locations": [
            {
             "length": 5,
             "offset": 18372
            }
           ],
           "text": "SIN3A"
          },
          {
           "id": "573",
           "infons": {
            "identifier": "25942",
            "ncbi_homologene": "32124",
            "type": "Gene"
           },
           "locations": [
            {
             "length": 5,
             "offset": 18488
            }
           ],
           "text": "SIN3A"
          },
          {
           "id": "574",
           "infons": {
            "identifier": "25942",
            "ncbi_homologene": "32124",
            "type": "Gene"
           },
           "locations": [
            {
             "length": 5,
             "offset": 18737
            }
           ],
           "text": "SIN3A"
          },
          {
           "id": "575",
           "infons": {
            "identifier": "25942",
            "ncbi_homologene": "32124",
            "type": "Gene"
           },
           "locations": [
            {
             "length": 5,
             "offset": 18885
            }
           ],
           "text": "SIN3A"
          },
          {
           "id": "576",
           "infons": {
            "identifier": "25942",
            "ncbi_homologene": "32124",
            "type": "Gene"
           },
           "locations": [
            {
             "length": 5,
             "offset": 19324
            }
           ],
           "text": "SIN3A"
          },
          {
           "id": "577",
           "infons": {
            "identifier": "2099",
            "ncbi_homologene": "47906",
            "type": "Gene"
           },
           "locations": [
            {
             "length": 4,
             "offset": 19341
            }
           ],
           "text": "ESR1"
          },
          {
           "id": "578",
           "infons": {
            "identifier": "2099",
            "ncbi_homologene": "47906",
            "type": "Gene"
           },
           "locations": [
            {
             "length": 4,
             "offset": 19485
            }
           ],
           "text": "ESR1"
          },
          {
           "id": "579",
           "infons": {
            "identifier": "25942",
            "ncbi_homologene": "32124",
            "type": "Gene"
           },
           "locations": [
            {
             "length": 5,
             "offset": 19558
            }
           ],
           "text": "SIN3A"
          },
          {
           "id": "580",
           "infons": {
            "identifier": "2099",
            "ncbi_homologene": "47906",
            "type": "Gene"
           },
           "locations": [
            {
             "length": 4,
             "offset": 19696
            }
           ],
           "text": "ESR1"
          },
          {
           "id": "581",
           "infons": {
            "identifier": "2099",
            "ncbi_homologene": "47906",
            "type": "Gene"
           },
           "locations": [
            {
             "length": 4,
             "offset": 19848
            }
           ],
           "text": "ESR1"
          },
          {
           "id": "582",
           "infons": {
            "identifier": "25942",
            "ncbi_homologene": "32124",
            "type": "Gene"
           },
           "locations": [
            {
             "length": 5,
             "offset": 19983
            }
           ],
           "text": "SIN3A"
          },
          {
           "id": "583",
           "infons": {
            "identifier": "25942",
            "ncbi_homologene": "32124",
            "type": "Gene"
           },
           "locations": [
            {
             "length": 5,
             "offset": 20057
            }
           ],
           "text": "SIN3A"
          },
          {
           "id": "584",
           "infons": {
            "identifier": "25942",
            "ncbi_homologene": "32124",
            "type": "Gene"
           },
           "locations": [
            {
             "length": 5,
             "offset": 20103
            }
           ],
           "text": "SIN3A"
          },
          {
           "id": "585",
           "infons": {
            "identifier": "25942",
            "ncbi_homologene": "32124",
            "type": "Gene"
           },
           "locations": [
            {
             "length": 5,
             "offset": 20175
            }
           ],
           "text": "SIN3A"
          },
          {
           "id": "586",
           "infons": {
            "identifier": "25942",
            "ncbi_homologene": "32124",
            "type": "Gene"
           },
           "locations": [
            {
             "length": 5,
             "offset": 20259
            }
           ],
           "text": "SIN3A"
          },
          {
           "id": "587",
           "infons": {
            "identifier": "2099",
            "ncbi_homologene": "47906",
            "type": "Gene"
           },
           "locations": [
            {
             "length": 4,
             "offset": 20299
            }
           ],
           "text": "ESR1"
          },
          {
           "id": "588",
           "infons": {
            "identifier": "25942",
            "ncbi_homologene": "32124",
            "type": "Gene"
           },
           "locations": [
            {
             "length": 5,
             "offset": 20341
            }
           ],
           "text": "SIN3A"
          },
          {
           "id": "589",
           "infons": {
            "identifier": "2064",
            "ncbi_homologene": "3273",
            "type": "Gene"
           },
           "locations": [
            {
             "length": 4,
             "offset": 18961
            }
           ],
           "text": "Her2"
          },
          {
           "id": "590",
           "infons": {
            "identifier": "2064",
            "ncbi_homologene": "3273",
            "type": "Gene"
           },
           "locations": [
            {
             "length": 4,
             "offset": 18601
            }
           ],
           "text": "Her2"
          },
          {
           "id": "591",
           "infons": {
            "identifier": "25942",
            "ncbi_homologene": "32124",
            "type": "Gene"
           },
           "locations": [
            {
             "length": 5,
             "offset": 19802
            }
           ],
           "text": "SIN3A"
          },
          {
           "id": "592",
           "infons": {
            "identifier": "4932",
            "type": "Species"
           },
           "locations": [
            {
             "length": 5,
             "offset": 19118
            }
           ],
           "text": "yeast"
          },
          {
           "id": "593",
           "infons": {
            "identifier": "29278",
            "type": "Species"
           },
           "locations": [
            {
             "length": 10,
             "offset": 19346
            }
           ],
           "text": "expression"
          },
          {
           "id": "594",
           "infons": {
            "identifier": "29278",
            "type": "Species"
           },
           "locations": [
            {
             "length": 10,
             "offset": 19467
            }
           ],
           "text": "expression"
          },
          {
           "id": "595",
           "infons": {
            "identifier": "29278",
            "type": "Species"
           },
           "locations": [
            {
             "length": 10,
             "offset": 19682
            }
           ],
           "text": "expression"
          },
          {
           "id": "596",
           "infons": {
            "identifier": "29278",
            "type": "Species"
           },
           "locations": [
            {
             "length": 10,
             "offset": 19853
            }
           ],
           "text": "expression"
          },
          {
           "id": "597",
           "infons": {
            "identifier": "29278",
            "type": "Species"
           },
           "locations": [
            {
             "length": 10,
             "offset": 20304
            }
           ],
           "text": "expression"
          },
          {
           "id": "598",
           "infons": {
            "identifier": "25942",
            "ncbi_homologene": "32124",
            "type": "Gene"
           },
           "locations": [
            {
             "length": 5,
             "offset": 19605
            }
           ],
           "text": "SIN3A"
          },
          {
           "id": "599",
           "infons": {
            "identifier": "MESH:D009369",
            "type": "Disease"
           },
           "locations": [
            {
             "length": 5,
             "offset": 18056
            }
           ],
           "text": "tumor"
          },
          {
           "id": "600",
           "infons": {
            "identifier": "p.Q944*",
            "subtype": "ProteinMutation",
            "type": "Mutation"
           },
           "locations": [
            {
             "length": 9,
             "offset": 20359
            }
           ],
           "text": "p.Gln944*"
          },
          {
           "id": "601",
           "infons": {
            "identifier": "MESH:D001943",
            "type": "Disease"
           },
           "locations": [
            {
             "length": 14,
             "offset": 18975
            }
           ],
           "text": "breast cancers"
          },
          {
           "id": "602",
           "infons": {
            "identifier": "MESH:D005973",
            "type": "Chemical"
           },
           "locations": [
            {
             "length": 9,
             "offset": 17928
            }
           ],
           "text": "glutamine"
          },
          {
           "id": "603",
           "infons": {
            "identifier": "c.2830C>T",
            "subtype": "DNAMutation",
            "type": "Mutation"
           },
           "locations": [
            {
             "length": 10,
             "offset": 19808
            }
           ],
           "text": "c.2830 C>T"
          },
          {
           "id": "604",
           "infons": {
            "identifier": "c.2830C>T",
            "subtype": "DNAMutation",
            "type": "Mutation"
           },
           "locations": [
            {
             "length": 10,
             "offset": 17876
            }
           ],
           "text": "c.2830 C>T"
          },
          {
           "id": "605",
           "infons": {
            "identifier": "MESH:D001943",
            "type": "Disease"
           },
           "locations": [
            {
             "length": 14,
             "offset": 18529
            }
           ],
           "text": "breast cancers"
          },
          {
           "id": "606",
           "infons": {
            "identifier": "MESH:D001943",
            "type": "Disease"
           },
           "locations": [
            {
             "length": 13,
             "offset": 18263
            }
           ],
           "text": "breast cancer"
          },
          {
           "id": "607",
           "infons": {
            "identifier": "-",
            "type": "Chemical"
           },
           "locations": [
            {
             "length": 4,
             "offset": 19059
            }
           ],
           "text": "PAH4"
          },
          {
           "id": "608",
           "infons": {
            "identifier": "CVCL:0031",
            "type": "CellLine"
           },
           "locations": [
            {
             "length": 4,
             "offset": 19525
            }
           ],
           "text": "MCF7"
          },
          {
           "id": "609",
           "infons": {
            "identifier": "MESH:C536751",
            "type": "Disease"
           },
           "locations": [
            {
             "length": 8,
             "offset": 19941
            }
           ],
           "text": "SIN3A-WT"
          },
          {
           "id": "610",
           "infons": {
            "identifier": "c.2830C>T",
            "subtype": "DNAMutation",
            "type": "Mutation"
           },
           "locations": [
            {
             "length": 10,
             "offset": 18145
            }
           ],
           "text": "c.2830 C>T"
          },
          {
           "id": "611",
           "infons": {
            "identifier": "MESH:D003597",
            "type": "Chemical"
           },
           "locations": [
            {
             "length": 19,
             "offset": 17812
            }
           ],
           "text": "cytosine nucleotide"
          },
          {
           "id": "612",
           "infons": {
            "identifier": "MESH:D009369",
            "type": "Disease"
           },
           "locations": [
            {
             "length": 6,
             "offset": 18416
            }
           ],
           "text": "Cancer"
          },
          {
           "id": "613",
           "infons": {
            "identifier": "MESH:C566528",
            "type": "Disease"
           },
           "locations": [
            {
             "length": 3,
             "offset": 17629
            }
           ],
           "text": "HID"
          },
          {
           "id": "614",
           "infons": {
            "identifier": "p.Q944*",
            "subtype": "ProteinMutation",
            "type": "Mutation"
           },
           "locations": [
            {
             "length": 9,
             "offset": 19820
            }
           ],
           "text": "p.Gln944*"
          },
          {
           "id": "615",
           "infons": {
            "identifier": "MESH:D001943",
            "type": "Disease"
           },
           "locations": [
            {
             "length": 13,
             "offset": 19500
            }
           ],
           "text": "breast cancer"
          },
          {
           "id": "616",
           "infons": {
            "identifier": "c.2830C>T",
            "subtype": "DNAMutation",
            "type": "Mutation"
           },
           "locations": [
            {
             "length": 10,
             "offset": 18358
            }
           ],
           "text": "c.2830 C>T"
          },
          {
           "id": "617",
           "infons": {
            "identifier": "MESH:D013942",
            "type": "Chemical"
           },
           "locations": [
            {
             "length": 18,
             "offset": 17839
            }
           ],
           "text": "thymine nucleotide"
          },
          {
           "id": "618",
           "infons": {
            "identifier": "CVCL:0031",
            "type": "CellLine"
           },
           "locations": [
            {
             "length": 4,
             "offset": 19638
            }
           ],
           "text": "MCF7"
          },
          {
           "id": "619",
           "infons": {
            "identifier": "MESH:D001943",
            "type": "Disease"
           },
           "locations": [
            {
             "length": 14,
             "offset": 18615
            }
           ],
           "text": "breast cancers"
          },
          {
           "id": "620",
           "infons": {
            "identifier": "c.2830C>T",
            "subtype": "DNAMutation",
            "type": "Mutation"
           },
           "locations": [
            {
             "length": 10,
             "offset": 20347
            }
           ],
           "text": "c.2830 C>T"
          },
          {
           "id": "621",
           "infons": {
            "identifier": "p.Q944*",
            "subtype": "ProteinMutation",
            "type": "Mutation"
           },
           "locations": [
            {
             "length": 9,
             "offset": 17973
            }
           ],
           "text": "p.Gln944*"
          }
         ],
         "infons": {
          "section": "Results",
          "section_type": "RESULTS",
          "type": "paragraph"
         },
         "offset": 17455,
         "relations": [],
         "sentences": [],
         "text": "SIN3A is a protein with a molecular mass of 145 kDa comprosing 1273 amino acids, and containing four paired amphipathic alpha-helix (PAH) motifs, an HDAC interaction domain (HID) and a highly conserved region (HCR) (Fig. 3A). In the deep sequencers, approximately 30% of the SIN3A sequence reads in the tissue samples showed a point mutation that changed a cytosine nucleotide into a thymine nucleotide at position 2830 (c.2830 C>T). This mutation leads to a change from a glutamine into a stop codon at position 944 (p.Gln944*), and may be heterozygous, since the largest frequency of alleles in the tumor was within the range 50% to 60% (data not shown). As shown in Fig. 3B,C, the SIN3A c.2830 C>T mutation was re-confirmed by Sanger sequencing, showing the same fraction as the deep sequencers. Among 40 breast cancer samples examined by Sanger sequencing, one sample contained a nonsense mutation, c.2830 C>T in SIN3A. In the cohort database International Cancer Genome Consortium (ICGC, https://icgc.org), somatic mutations of SIN3A were found in 12.1% of ER-positive breast cancers (n = 569), 4.3% of triple negative (n = 141), or 9.7% of Her2-positive breast cancers (n = 72) (Supplementary Table 6S). Nonsense and frameshift mutations that deleted the C-terminal region of SIN3A were detected in 3 cases (0.52%) (Supplementary Table 7S). No nonsense or frameshift mutations resulting in the deletion of the C-terminus of SIN3A were detected in triple negative (n = 141, Supplementary Table 8S) or Her2-positive breast cancers (n = 72, Supplementary Table 9S). The mutation is present within the PAH4 domain, which is a conserved region in organisms from yeast to mammals (Fig. 3D), and leads to the deletion of the downstream sequence from the point mutation including the latter part of the PAH4 domain and the HCR region (Fig. 3A). This nonsense mutation of SIN3A may affect ESR1 expression because the deleted regions bind to various regulators to act as a transcriptional repressor. We observed the expression of the ESR1 mRNA in a breast cancer cell line, MCF7 cells, transfected with the SIN3A mutant in the presence of 100 nM E2. The SIN3A-wild type (WT)-transfected MCF7 cells showed a significantly decreased expression of ESR1 mRNA as compared with cells transfected with empty vector at 24 hrs after transfection (Fig. 3E). In SIN3A c.2830 C>T; p.Gln944* expressing cells, ESR1 expression was significantly increased as compared with those in cells transfected with SIN3A-WT and empty vector. The background SIN3A protein may have little influence on the functions of the exogenous SIN3A mutant because the amount of endogenous SIN3A protein was less than 1% as compared with the amount of exogenous SIN3A mutant protein (data not shown). These findings indicate that the function of SIN3A as a transcriptional repressor of ESR1 expression is interfered with by the SIN3A c.2830 C>T; p.Gln944* mutant."
        },
        {
         "annotations": [
          {
           "id": "625",
           "infons": {
            "identifier": "25942",
            "ncbi_homologene": "32124",
            "type": "Gene"
           },
           "locations": [
            {
             "length": 5,
             "offset": 20417
            }
           ],
           "text": "SIN3A"
          },
          {
           "id": "626",
           "infons": {
            "identifier": "p.Q944*",
            "subtype": "ProteinMutation",
            "type": "Mutation"
           },
           "locations": [
            {
             "length": 9,
             "offset": 20423
            }
           ],
           "text": "p.Gln944*"
          },
          {
           "id": "627",
           "infons": {
            "identifier": "CVCL:0031",
            "type": "CellLine"
           },
           "locations": [
            {
             "length": 4,
             "offset": 20470
            }
           ],
           "text": "MCF7"
          }
         ],
         "infons": {
          "section": "Results",
          "section_type": "RESULTS",
          "type": "title_2"
         },
         "offset": 20417,
         "relations": [],
         "sentences": [],
         "text": "SIN3A p.Gln944* mutant localizes in the cytoplasm of MCF7 cells"
        },
        {
         "annotations": [
          {
           "id": "643",
           "infons": {
            "identifier": "25942",
            "ncbi_homologene": "32124",
            "type": "Gene"
           },
           "locations": [
            {
             "length": 5,
             "offset": 20513
            }
           ],
           "text": "SIN3A"
          },
          {
           "id": "644",
           "infons": {
            "identifier": "2099",
            "ncbi_homologene": "47906",
            "type": "Gene"
           },
           "locations": [
            {
             "length": 7,
             "offset": 20537
            }
           ],
           "text": "ERalpha"
          },
          {
           "id": "645",
           "infons": {
            "identifier": "2099",
            "ncbi_homologene": "47906",
            "type": "Gene"
           },
           "locations": [
            {
             "length": 4,
             "offset": 20667
            }
           ],
           "text": "ESR1"
          },
          {
           "id": "646",
           "infons": {
            "identifier": "25942",
            "ncbi_homologene": "32124",
            "type": "Gene"
           },
           "locations": [
            {
             "length": 5,
             "offset": 20680
            }
           ],
           "text": "SIN3A"
          },
          {
           "id": "647",
           "infons": {
            "identifier": "25942",
            "ncbi_homologene": "32124",
            "type": "Gene"
           },
           "locations": [
            {
             "length": 5,
             "offset": 20754
            }
           ],
           "text": "SIN3A"
          },
          {
           "id": "648",
           "infons": {
            "identifier": "25942",
            "ncbi_homologene": "32124",
            "type": "Gene"
           },
           "locations": [
            {
             "length": 5,
             "offset": 21013
            }
           ],
           "text": "SIN3A"
          },
          {
           "id": "649",
           "infons": {
            "identifier": "25942",
            "ncbi_homologene": "32124",
            "type": "Gene"
           },
           "locations": [
            {
             "length": 5,
             "offset": 21348
            }
           ],
           "text": "SIN3A"
          },
          {
           "id": "650",
           "infons": {
            "identifier": "2099",
            "ncbi_homologene": "47906",
            "type": "Gene"
           },
           "locations": [
            {
             "length": 4,
             "offset": 21454
            }
           ],
           "text": "ESR1"
          },
          {
           "id": "651",
           "infons": {
            "identifier": "29278",
            "type": "Species"
           },
           "locations": [
            {
             "length": 10,
             "offset": 21459
            }
           ],
           "text": "expression"
          },
          {
           "id": "652",
           "infons": {
            "identifier": "MESH:C017807",
            "type": "Chemical"
           },
           "locations": [
            {
             "length": 12,
             "offset": 20848
            }
           ],
           "text": "Hoechst33342"
          },
          {
           "id": "653",
           "infons": {
            "identifier": "CVCL:0031",
            "type": "CellLine"
           },
           "locations": [
            {
             "length": 4,
             "offset": 20770
            }
           ],
           "text": "MCF7"
          },
          {
           "id": "654",
           "infons": {
            "identifier": "CVCL:0031",
            "type": "CellLine"
           },
           "locations": [
            {
             "length": 4,
             "offset": 20604
            }
           ],
           "text": "MCF7"
          },
          {
           "id": "655",
           "infons": {
            "identifier": "MESH:C536751",
            "type": "Disease"
           },
           "locations": [
            {
             "length": 8,
             "offset": 20999
            }
           ],
           "text": "SIN3A-WT"
          },
          {
           "id": "656",
           "infons": {
            "identifier": "MESH:C536751",
            "type": "Disease"
           },
           "locations": [
            {
             "length": 8,
             "offset": 20794
            }
           ],
           "text": "SIN3A-WT"
          },
          {
           "id": "657",
           "infons": {
            "identifier": "p.Q944*",
            "subtype": "ProteinMutation",
            "type": "Mutation"
           },
           "locations": [
            {
             "length": 9,
             "offset": 20686
            }
           ],
           "text": "p.Gln944*"
          }
         ],
         "infons": {
          "section": "Results",
          "section_type": "RESULTS",
          "type": "paragraph"
         },
         "offset": 20481,
         "relations": [],
         "sentences": [],
         "text": "It was previously reported that SIN3A co-localizes with ERalpha in the nucleus, and acts as a transcriptional repressor in MCF7 cells. To elucidate the mechanism of the up-regulation of ESR1 mRNA by SIN3A p.Gln944* mutant, we observed the intracellular localization of the SIN3A mutant in MCF7 cells. Halo-tagged SIN3A-WT was present in the nucleus as indicated by a Hoechst33342 a nuclear marker, and the staining was identical to that of GFP-tagged ERning four paired a (Fig. 3F). In contrast to the localization of SIN3A-WT, the SIN3A mutant was observed not only in the nucleus, but also in the cytoplasm, although GFP-ERning four paired a remained confined to the nucleus (Fig. 3F). This result was supported by high-throughput analysis of the data determined from the pictures (Fig. 3G and Supplementary Fig. 1S). The findings indicate that the presence of the SIN3A mutant in the cytoplasm may lead to the reduction in its activity as a transcriptional repressor of ESR1 expression."
        },
        {
         "annotations": [
          {
           "id": "661",
           "infons": {
            "identifier": "25942",
            "ncbi_homologene": "32124",
            "type": "Gene"
           },
           "locations": [
            {
             "length": 5,
             "offset": 21472
            }
           ],
           "text": "SIN3A"
          },
          {
           "id": "662",
           "infons": {
            "identifier": "2099",
            "ncbi_homologene": "47906",
            "type": "Gene"
           },
           "locations": [
            {
             "length": 4,
             "offset": 21532
            }
           ],
           "text": "ESR1"
          },
          {
           "id": "663",
           "infons": {
            "identifier": "p.Q944*",
            "subtype": "ProteinMutation",
            "type": "Mutation"
           },
           "locations": [
            {
             "length": 9,
             "offset": 21478
            }
           ],
           "text": "p.Gln944*"
          }
         ],
         "infons": {
          "section": "Results",
          "section_type": "RESULTS",
          "type": "title_2"
         },
         "offset": 21472,
         "relations": [],
         "sentences": [],
         "text": "SIN3A p.Gln944* mutant increases cell proliferation through ESR1 expression"
        },
        {
         "annotations": [
          {
           "id": "678",
           "infons": {
            "identifier": "25942",
            "ncbi_homologene": "32124",
            "type": "Gene"
           },
           "locations": [
            {
             "length": 5,
             "offset": 21590
            }
           ],
           "text": "SIN3A"
          },
          {
           "id": "679",
           "infons": {
            "identifier": "920",
            "ncbi_homologene": "513",
            "type": "Gene"
           },
           "locations": [
            {
             "length": 3,
             "offset": 21720
            }
           ],
           "text": "CD4"
          },
          {
           "id": "680",
           "infons": {
            "identifier": "920",
            "ncbi_homologene": "513",
            "type": "Gene"
           },
           "locations": [
            {
             "length": 3,
             "offset": 22499
            }
           ],
           "text": "CD4"
          },
          {
           "id": "681",
           "infons": {
            "identifier": "2099",
            "ncbi_homologene": "47906",
            "type": "Gene"
           },
           "locations": [
            {
             "length": 4,
             "offset": 22625
            }
           ],
           "text": "ESR1"
          },
          {
           "id": "682",
           "infons": {
            "identifier": "920",
            "ncbi_homologene": "513",
            "type": "Gene"
           },
           "locations": [
            {
             "length": 3,
             "offset": 21969
            }
           ],
           "text": "CD4"
          },
          {
           "id": "683",
           "infons": {
            "identifier": "920",
            "ncbi_homologene": "513",
            "type": "Gene"
           },
           "locations": [
            {
             "length": 3,
             "offset": 22806
            }
           ],
           "text": "CD4"
          },
          {
           "id": "684",
           "infons": {
            "identifier": "29278",
            "type": "Species"
           },
           "locations": [
            {
             "length": 10,
             "offset": 21738
            }
           ],
           "text": "expression"
          },
          {
           "id": "685",
           "infons": {
            "identifier": "29278",
            "type": "Species"
           },
           "locations": [
            {
             "length": 10,
             "offset": 22517
            }
           ],
           "text": "expression"
          },
          {
           "id": "686",
           "infons": {
            "identifier": "CVCL:0031",
            "type": "CellLine"
           },
           "locations": [
            {
             "length": 4,
             "offset": 22649
            }
           ],
           "text": "MCF7"
          },
          {
           "id": "687",
           "infons": {
            "identifier": "CVCL:0031",
            "type": "CellLine"
           },
           "locations": [
            {
             "length": 4,
             "offset": 22390
            }
           ],
           "text": "MCF7"
          },
          {
           "id": "688",
           "infons": {
            "identifier": "CVCL:0031",
            "type": "CellLine"
           },
           "locations": [
            {
             "length": 4,
             "offset": 21819
            }
           ],
           "text": "MCF7"
          },
          {
           "id": "689",
           "infons": {
            "identifier": "CVCL:0031",
            "type": "CellLine"
           },
           "locations": [
            {
             "length": 4,
             "offset": 21611
            }
           ],
           "text": "MCF7"
          },
          {
           "id": "690",
           "infons": {
            "identifier": "CVCL:0031",
            "type": "CellLine"
           },
           "locations": [
            {
             "length": 4,
             "offset": 21562
            }
           ],
           "text": "MCF7"
          },
          {
           "id": "691",
           "infons": {
            "identifier": "c.2830C>T",
            "subtype": "DNAMutation",
            "type": "Mutation"
           },
           "locations": [
            {
             "length": 10,
             "offset": 21596
            }
           ],
           "text": "c.2830 C>T"
          }
         ],
         "infons": {
          "file": "41598_2018_34290_Fig4_HTML.jpg",
          "id": "Fig4",
          "section": "Results",
          "section_type": "FIG",
          "type": "fig_caption"
         },
         "offset": 21548,
         "relations": [],
         "sentences": [],
         "text": "Impedances of MCF7 cells transfected with SIN3A c.2830 C>T (A) MCF7 cells were transfected with indicated vectors together with pMACS 4.1 vector that expresses a truncated CD4 gene and pGFP expression vector for normalization for gene expressing cells. The untransfected MCF7 cells were also used as control cells. After transfection, the cells were cultured for 24 hrs and the transfected cells were separated with anti-CD4 antibody magnet beads. The separated cells were seeded at a density of 2.5 x 105 cells/ml on a 16 well E-plate, and were incubated in the presence of 100 nM E2. Cell impedances were then continuously monitored at 15 min intervals for 24 hrs using the xCELLigence system. The data represent the means +- SE determined from 3 wells, and the figure shows representative data obtained from 2 independent experiments. (B) MCF7 cells were transfected with indicated vectors together with pMACS 4.1 vector that expresses a truncated CD4 gene and pGFP expression vector for normalization for gene expressing cells in the presence of control siRNA or siRNA for ESR1. The untransfected MCF7 cells were also used as control cells. After transfection, the cells were cultured for 24 hrs and the vector-transfected cells were separated with anti-CD4 antibody magnet beads. The separated cells were seeded at a density of 2.5 x 105 cells/ml on a 16 well E-plate, and were incubated in the presence of 100 nM E2. Cell impedances were then continuously monitored at 15 min intervals for 24 hrs using the xCELLigence system. The data represent the means +- SE determined from 6 wells, and the figure shows representative data obtained from 3 independent experiments. (C) The normalized cell indexes were determined from data of Fig. 5A, and GFP fluorescence intensities were calculated using an IN Cell analyzer 2000 at 24 hrs from the start. The data represent the means +- SE determined from 3 wells. Statistical significances were determined by ANOVA with the Tukey-Kramer multiple comparison test (*P < 0.05). (D) The normalized cell indexes were determined from data of Fig. 5B as similar to Fig. 5C."
        },
        {
         "annotations": [
          {
           "id": "715",
           "infons": {
            "identifier": "2099",
            "ncbi_homologene": "47906",
            "type": "Gene"
           },
           "locations": [
            {
             "length": 4,
             "offset": 23743
            }
           ],
           "text": "ESR1"
          },
          {
           "id": "716",
           "infons": {
            "identifier": "25942",
            "ncbi_homologene": "32124",
            "type": "Gene"
           },
           "locations": [
            {
             "length": 5,
             "offset": 23770
            }
           ],
           "text": "SIN3A"
          },
          {
           "id": "717",
           "infons": {
            "identifier": "25942",
            "ncbi_homologene": "32124",
            "type": "Gene"
           },
           "locations": [
            {
             "length": 5,
             "offset": 24001
            }
           ],
           "text": "SIN3A"
          },
          {
           "id": "718",
           "infons": {
            "identifier": "2099",
            "ncbi_homologene": "47906",
            "type": "Gene"
           },
           "locations": [
            {
             "length": 4,
             "offset": 24178
            }
           ],
           "text": "ESR1"
          },
          {
           "id": "719",
           "infons": {
            "identifier": "2099",
            "ncbi_homologene": "47906",
            "type": "Gene"
           },
           "locations": [
            {
             "length": 4,
             "offset": 24238
            }
           ],
           "text": "ESR1"
          },
          {
           "id": "720",
           "infons": {
            "identifier": "25942",
            "ncbi_homologene": "32124",
            "type": "Gene"
           },
           "locations": [
            {
             "length": 5,
             "offset": 24329
            }
           ],
           "text": "SIN3A"
          },
          {
           "id": "721",
           "infons": {
            "identifier": "2099",
            "ncbi_homologene": "47906",
            "type": "Gene"
           },
           "locations": [
            {
             "length": 4,
             "offset": 24463
            }
           ],
           "text": "ESR1"
          },
          {
           "id": "722",
           "infons": {
            "identifier": "25942",
            "ncbi_homologene": "32124",
            "type": "Gene"
           },
           "locations": [
            {
             "length": 5,
             "offset": 24528
            }
           ],
           "text": "SIN3A"
          },
          {
           "id": "723",
           "infons": {
            "identifier": "25942",
            "ncbi_homologene": "32124",
            "type": "Gene"
           },
           "locations": [
            {
             "length": 5,
             "offset": 24751
            }
           ],
           "text": "SIN3A"
          },
          {
           "id": "724",
           "infons": {
            "identifier": "25942",
            "ncbi_homologene": "32124",
            "type": "Gene"
           },
           "locations": [
            {
             "length": 5,
             "offset": 24873
            }
           ],
           "text": "SIN3A"
          },
          {
           "id": "725",
           "infons": {
            "identifier": "2099",
            "ncbi_homologene": "47906",
            "type": "Gene"
           },
           "locations": [
            {
             "length": 4,
             "offset": 24935
            }
           ],
           "text": "ESR1"
          },
          {
           "id": "726",
           "infons": {
            "identifier": "29278",
            "type": "Species"
           },
           "locations": [
            {
             "length": 10,
             "offset": 23748
            }
           ],
           "text": "expression"
          },
          {
           "id": "727",
           "infons": {
            "identifier": "29278",
            "type": "Species"
           },
           "locations": [
            {
             "length": 10,
             "offset": 24248
            }
           ],
           "text": "expression"
          },
          {
           "id": "728",
           "infons": {
            "identifier": "29278",
            "type": "Species"
           },
           "locations": [
            {
             "length": 10,
             "offset": 24534
            }
           ],
           "text": "expression"
          },
          {
           "id": "729",
           "infons": {
            "identifier": "29278",
            "type": "Species"
           },
           "locations": [
            {
             "length": 10,
             "offset": 24707
            }
           ],
           "text": "expression"
          },
          {
           "id": "730",
           "infons": {
            "identifier": "29278",
            "type": "Species"
           },
           "locations": [
            {
             "length": 10,
             "offset": 24940
            }
           ],
           "text": "expression"
          },
          {
           "id": "731",
           "infons": {
            "identifier": "MESH:C536751",
            "type": "Disease"
           },
           "locations": [
            {
             "length": 8,
             "offset": 24124
            }
           ],
           "text": "SIN3A-WT"
          },
          {
           "id": "732",
           "infons": {
            "identifier": "MESH:C536751",
            "type": "Disease"
           },
           "locations": [
            {
             "length": 8,
             "offset": 24387
            }
           ],
           "text": "SIN3A-WT"
          },
          {
           "id": "733",
           "infons": {
            "identifier": "p.Q944*",
            "subtype": "ProteinMutation",
            "type": "Mutation"
           },
           "locations": [
            {
             "length": 9,
             "offset": 24879
            }
           ],
           "text": "p.Gln944*"
          },
          {
           "id": "734",
           "infons": {
            "identifier": "p.Q944*",
            "subtype": "ProteinMutation",
            "type": "Mutation"
           },
           "locations": [
            {
             "length": 9,
             "offset": 23776
            }
           ],
           "text": "p.Gln944*"
          },
          {
           "id": "735",
           "infons": {
            "identifier": "CVCL:0031",
            "type": "CellLine"
           },
           "locations": [
            {
             "length": 4,
             "offset": 24188
            }
           ],
           "text": "MCF7"
          },
          {
           "id": "736",
           "infons": {
            "identifier": "MESH:C536751",
            "type": "Disease"
           },
           "locations": [
            {
             "length": 8,
             "offset": 24738
            }
           ],
           "text": "SIN3A-WT"
          },
          {
           "id": "737",
           "infons": {
            "identifier": "CVCL:0031",
            "type": "CellLine"
           },
           "locations": [
            {
             "length": 4,
             "offset": 24025
            }
           ],
           "text": "MCF7"
          }
         ],
         "infons": {
          "section": "Results",
          "section_type": "RESULTS",
          "type": "paragraph"
         },
         "offset": 23703,
         "relations": [],
         "sentences": [],
         "text": "To examine whether the up-regulation of ESR1 expression induced by SIN3A p.Gln944* is involved in cell proliferation, we observed changes in cell area that represent cell proliferation by measuring cell impedance using an electrode in real time in the presence of 100 nM E2. The cell impedances of SIN3A mutant-expressing MCF7 cells were obviously increased over the levels of cells transfected with the empty vector and SIN3A-WT (Fig. 4A). The transfection of the siRNA for ESR1 into MCF7 cells resulted in a significant reduction in ESR1 mRNA expression (Supplementary Fig. 2S). The cell impedance that was increased by the SIN3A mutant was reduced to the level in cells containing SIN3A-WT introduced with control siRNA by the introduction of the siRNA for ESR1 (Fig. 4B). To remove the effects of variations in exogenous SIN3A expression, the levels of cell impedance at 24 hrs were normalized by the fluorescence contents observed under the fluorescence microscope IN Cell analyzer 2000 using a GFP expression vector. The data in SIN3A-WT and SIN3A mutant were mostly consistent with those of the time-lapse impedances (Fig. 4C,D). These observations indicate that SIN3A p.Gln944* enhances cell proliferation through increased ESR1 expression."
        },
        {
         "annotations": [
          {
           "id": "742",
           "infons": {
            "identifier": "25942",
            "ncbi_homologene": "32124",
            "type": "Gene"
           },
           "locations": [
            {
             "length": 5,
             "offset": 24958
            }
           ],
           "text": "SIN3A"
          },
          {
           "id": "743",
           "infons": {
            "identifier": "c.2830C>T",
            "subtype": "DNAMutation",
            "type": "Mutation"
           },
           "locations": [
            {
             "length": 10,
             "offset": 24964
            }
           ],
           "text": "c.2830 C>T"
          },
          {
           "id": "744",
           "infons": {
            "identifier": "MESH:D001943",
            "type": "Disease"
           },
           "locations": [
            {
             "length": 13,
             "offset": 25019
            }
           ],
           "text": "breast cancer"
          },
          {
           "id": "745",
           "infons": {
            "identifier": "p.Q944*",
            "subtype": "ProteinMutation",
            "type": "Mutation"
           },
           "locations": [
            {
             "length": 9,
             "offset": 24976
            }
           ],
           "text": "p.Gln944*"
          }
         ],
         "infons": {
          "section": "Results",
          "section_type": "RESULTS",
          "type": "title_2"
         },
         "offset": 24958,
         "relations": [],
         "sentences": [],
         "text": "SIN3A c.2830 C>T; p.Gln944* was observed in the cytoplasm of breast cancer tissue removed from a patient"
        },
        {
         "annotations": [
          {
           "id": "770",
           "infons": {
            "identifier": "25942",
            "ncbi_homologene": "32124",
            "type": "Gene"
           },
           "locations": [
            {
             "length": 5,
             "offset": 25095
            }
           ],
           "text": "SIN3A"
          },
          {
           "id": "771",
           "infons": {
            "identifier": "25942",
            "ncbi_homologene": "32124",
            "type": "Gene"
           },
           "locations": [
            {
             "length": 5,
             "offset": 25167
            }
           ],
           "text": "SIN3A"
          },
          {
           "id": "772",
           "infons": {
            "identifier": "25942",
            "ncbi_homologene": "32124",
            "type": "Gene"
           },
           "locations": [
            {
             "length": 5,
             "offset": 25387
            }
           ],
           "text": "SIN3A"
          },
          {
           "id": "773",
           "infons": {
            "identifier": "25942",
            "ncbi_homologene": "32124",
            "type": "Gene"
           },
           "locations": [
            {
             "length": 5,
             "offset": 25559
            }
           ],
           "text": "SIN3A"
          },
          {
           "id": "774",
           "infons": {
            "identifier": "25942",
            "ncbi_homologene": "32124",
            "type": "Gene"
           },
           "locations": [
            {
             "length": 5,
             "offset": 25784
            }
           ],
           "text": "SIN3A"
          },
          {
           "id": "775",
           "infons": {
            "identifier": "25942",
            "ncbi_homologene": "32124",
            "type": "Gene"
           },
           "locations": [
            {
             "length": 5,
             "offset": 25878
            }
           ],
           "text": "SIN3A"
          },
          {
           "id": "776",
           "infons": {
            "identifier": "25942",
            "ncbi_homologene": "32124",
            "type": "Gene"
           },
           "locations": [
            {
             "length": 5,
             "offset": 26112
            }
           ],
           "text": "SIN3A"
          },
          {
           "id": "777",
           "infons": {
            "identifier": "25942",
            "ncbi_homologene": "32124",
            "type": "Gene"
           },
           "locations": [
            {
             "length": 5,
             "offset": 26206
            }
           ],
           "text": "SIN3A"
          },
          {
           "id": "778",
           "infons": {
            "identifier": "c.2830C>T",
            "subtype": "DNAMutation",
            "type": "Mutation"
           },
           "locations": [
            {
             "length": 10,
             "offset": 25884
            }
           ],
           "text": "c.2830 C>T"
          },
          {
           "id": "779",
           "infons": {
            "identifier": "MESH:D006416",
            "type": "Chemical"
           },
           "locations": [
            {
             "length": 11,
             "offset": 25467
            }
           ],
           "text": "hematoxylin"
          },
          {
           "id": "780",
           "infons": {
            "identifier": "MESH:D001943",
            "type": "Disease"
           },
           "locations": [
            {
             "length": 13,
             "offset": 25826
            }
           ],
           "text": "breast cancer"
          },
          {
           "id": "781",
           "infons": {
            "identifier": "MESH:D001943",
            "type": "Disease"
           },
           "locations": [
            {
             "length": 13,
             "offset": 25114
            }
           ],
           "text": "breast cancer"
          },
          {
           "id": "782",
           "infons": {
            "identifier": "MESH:C003043",
            "type": "Chemical"
           },
           "locations": [
            {
             "length": 16,
             "offset": 25921
            }
           ],
           "text": "paraformaldehyde"
          },
          {
           "id": "783",
           "infons": {
            "identifier": "MESH:C536751",
            "type": "Disease"
           },
           "locations": [
            {
             "length": 8,
             "offset": 25859
            }
           ],
           "text": "SIN3A-WT"
          },
          {
           "id": "784",
           "infons": {
            "identifier": "MESH:D006416",
            "type": "Chemical"
           },
           "locations": [
            {
             "length": 11,
             "offset": 26047
            }
           ],
           "text": "hematoxylin"
          },
          {
           "id": "785",
           "infons": {
            "identifier": "MESH:C536751",
            "type": "Disease"
           },
           "locations": [
            {
             "length": 8,
             "offset": 25149
            }
           ],
           "text": "SIN3A-WT"
          },
          {
           "id": "786",
           "infons": {
            "identifier": "c.2830C>T",
            "subtype": "DNAMutation",
            "type": "Mutation"
           },
           "locations": [
            {
             "length": 10,
             "offset": 25173
            }
           ],
           "text": "c.2830 C>T"
          },
          {
           "id": "787",
           "infons": {
            "identifier": "MESH:D006416",
            "type": "Chemical"
           },
           "locations": [
            {
             "length": 11,
             "offset": 25331
            }
           ],
           "text": "hematoxylin"
          },
          {
           "id": "788",
           "infons": {
            "identifier": "MESH:D004801",
            "type": "Chemical"
           },
           "locations": [
            {
             "length": 5,
             "offset": 25347
            }
           ],
           "text": "eosin"
          },
          {
           "id": "789",
           "infons": {
            "identifier": "MESH:D010232",
            "type": "Chemical"
           },
           "locations": [
            {
             "length": 8,
             "offset": 25951
            }
           ],
           "text": "paraffin"
          },
          {
           "id": "790",
           "infons": {
            "identifier": "MESH:C003043",
            "type": "Chemical"
           },
           "locations": [
            {
             "length": 16,
             "offset": 25209
            }
           ],
           "text": "paraformaldehyde"
          },
          {
           "id": "791",
           "infons": {
            "identifier": "MESH:D004801",
            "type": "Chemical"
           },
           "locations": [
            {
             "length": 5,
             "offset": 26077
            }
           ],
           "text": "eosin"
          },
          {
           "id": "792",
           "infons": {
            "identifier": "p.Q944*",
            "subtype": "ProteinMutation",
            "type": "Mutation"
           },
           "locations": [
            {
             "length": 9,
             "offset": 25101
            }
           ],
           "text": "p.Gln944*"
          },
          {
           "id": "793",
           "infons": {
            "identifier": "MESH:D010232",
            "type": "Chemical"
           },
           "locations": [
            {
             "length": 8,
             "offset": 25283
            }
           ],
           "text": "paraffin"
          }
         ],
         "infons": {
          "file": "41598_2018_34290_Fig5_HTML.jpg",
          "id": "Fig5",
          "section": "Results",
          "section_type": "FIG",
          "type": "fig_caption"
         },
         "offset": 25065,
         "relations": [],
         "sentences": [],
         "text": "Intracellular distribution of SIN3A p.Gln944* in breast cancer tissues Tissues with SIN3A-WT (A-C) or SIN3A c.2830 C>T (D-F) were fixed with 4% paraformaldehyde, and cut into 4 microm thick sections after embedding in paraffin blocks. The sections were stained with hematoxylin and eosin (A-D), and then stained with anti-SIN3A antibody for the N-terminal region concurrently with counterstaining with hematoxylin to detect the nuclei (B-F). The boxed regions in the pictures stained with anti-SIN3A antibody (B-E) are magnified 4-fold (C-F). The arrows indicate the typical nuclear regions. The scale bars are 200 microm (A-E) and 50 microm (C-F). For the quantitative analysis of the areas of the nuclear regions and SIN3A localization on the tissues slides, breast cancer tissues containing SIN3A-WT (BC74) or SIN3A c.2830 C>T (BC76) were fixed with 4% paraformaldehyde, embedded in paraffin, and sliced into 4 microm thick sections. The sections were independently stained with hematoxylin to detect nuclei, eosin to detect the cells, or anti-SIN3A antibody. The areas of the nuclear regions in 50 cells (G) and the total intensities of SIN3A in each region in 20 cells (H) were determined using Metamorph software. The data represent the means +- SE. Statistical significances were determined by two-tailed Student's t test (*P < 0.05)."
        },
        {
         "annotations": [
          {
           "id": "825",
           "infons": {
            "identifier": "25942",
            "ncbi_homologene": "32124",
            "type": "Gene"
           },
           "locations": [
            {
             "length": 5,
             "offset": 26464
            }
           ],
           "text": "SIN3A"
          },
          {
           "id": "826",
           "infons": {
            "identifier": "25942",
            "ncbi_homologene": "32124",
            "type": "Gene"
           },
           "locations": [
            {
             "length": 5,
             "offset": 26625
            }
           ],
           "text": "SIN3A"
          },
          {
           "id": "827",
           "infons": {
            "identifier": "25942",
            "ncbi_homologene": "32124",
            "type": "Gene"
           },
           "locations": [
            {
             "length": 5,
             "offset": 26706
            }
           ],
           "text": "SIN3A"
          },
          {
           "id": "828",
           "infons": {
            "identifier": "25942",
            "ncbi_homologene": "32124",
            "type": "Gene"
           },
           "locations": [
            {
             "length": 5,
             "offset": 26845
            }
           ],
           "text": "SIN3A"
          },
          {
           "id": "829",
           "infons": {
            "identifier": "25942",
            "ncbi_homologene": "32124",
            "type": "Gene"
           },
           "locations": [
            {
             "length": 5,
             "offset": 26868
            }
           ],
           "text": "SIN3A"
          },
          {
           "id": "830",
           "infons": {
            "identifier": "25942",
            "ncbi_homologene": "32124",
            "type": "Gene"
           },
           "locations": [
            {
             "length": 5,
             "offset": 27036
            }
           ],
           "text": "SIN3A"
          },
          {
           "id": "831",
           "infons": {
            "identifier": "25942",
            "ncbi_homologene": "32124",
            "type": "Gene"
           },
           "locations": [
            {
             "length": 5,
             "offset": 27128
            }
           ],
           "text": "SIN3A"
          },
          {
           "id": "832",
           "infons": {
            "identifier": "25942",
            "ncbi_homologene": "32124",
            "type": "Gene"
           },
           "locations": [
            {
             "length": 5,
             "offset": 27135
            }
           ],
           "text": "SIN3A"
          },
          {
           "id": "833",
           "infons": {
            "identifier": "25942",
            "ncbi_homologene": "32124",
            "type": "Gene"
           },
           "locations": [
            {
             "length": 5,
             "offset": 27279
            }
           ],
           "text": "SIN3A"
          },
          {
           "id": "834",
           "infons": {
            "identifier": "25942",
            "ncbi_homologene": "32124",
            "type": "Gene"
           },
           "locations": [
            {
             "length": 5,
             "offset": 27629
            }
           ],
           "text": "SIN3A"
          },
          {
           "id": "835",
           "infons": {
            "identifier": "25942",
            "ncbi_homologene": "32124",
            "type": "Gene"
           },
           "locations": [
            {
             "length": 5,
             "offset": 27750
            }
           ],
           "text": "SIN3A"
          },
          {
           "id": "836",
           "infons": {
            "identifier": "25942",
            "ncbi_homologene": "32124",
            "type": "Gene"
           },
           "locations": [
            {
             "length": 5,
             "offset": 27806
            }
           ],
           "text": "SIN3A"
          },
          {
           "id": "837",
           "infons": {
            "identifier": "25942",
            "ncbi_homologene": "32124",
            "type": "Gene"
           },
           "locations": [
            {
             "length": 5,
             "offset": 27842
            }
           ],
           "text": "SIN3A"
          },
          {
           "id": "838",
           "infons": {
            "identifier": "2099",
            "ncbi_homologene": "47906",
            "type": "Gene"
           },
           "locations": [
            {
             "length": 7,
             "offset": 28145
            }
           ],
           "text": "ERalpha"
          },
          {
           "id": "839",
           "infons": {
            "identifier": "25942",
            "ncbi_homologene": "32124",
            "type": "Gene"
           },
           "locations": [
            {
             "length": 5,
             "offset": 28259
            }
           ],
           "text": "SIN3A"
          },
          {
           "id": "840",
           "infons": {
            "identifier": "9606",
            "type": "Species"
           },
           "locations": [
            {
             "length": 8,
             "offset": 26494
            }
           ],
           "text": "patients"
          },
          {
           "id": "841",
           "infons": {
            "identifier": "29278",
            "type": "Species"
           },
           "locations": [
            {
             "length": 10,
             "offset": 28131
            }
           ],
           "text": "expression"
          },
          {
           "id": "842",
           "infons": {
            "identifier": "c.2830C>T",
            "subtype": "DNAMutation",
            "type": "Mutation"
           },
           "locations": [
            {
             "length": 10,
             "offset": 27105
            }
           ],
           "text": "c.2830 C>T"
          },
          {
           "id": "843",
           "infons": {
            "identifier": "MESH:D009369",
            "type": "Disease"
           },
           "locations": [
            {
             "length": 6,
             "offset": 28106
            }
           ],
           "text": "cancer"
          },
          {
           "id": "844",
           "infons": {
            "identifier": "MESH:D001943",
            "type": "Disease"
           },
           "locations": [
            {
             "length": 14,
             "offset": 26508
            }
           ],
           "text": "breast cancers"
          },
          {
           "id": "845",
           "infons": {
            "identifier": "MESH:D001943",
            "type": "Disease"
           },
           "locations": [
            {
             "length": 14,
             "offset": 27986
            }
           ],
           "text": "breast cancers"
          },
          {
           "id": "846",
           "infons": {
            "identifier": "MESH:D009062",
            "type": "Disease"
           },
           "locations": [
            {
             "length": 14,
             "offset": 27198
            }
           ],
           "text": "cancer lesions"
          },
          {
           "id": "847",
           "infons": {
            "identifier": "p.Q944*",
            "subtype": "ProteinMutation",
            "type": "Mutation"
           },
           "locations": [
            {
             "length": 9,
             "offset": 28265
            }
           ],
           "text": "p.Gln944*"
          },
          {
           "id": "848",
           "infons": {
            "identifier": "MESH:C536751",
            "type": "Disease"
           },
           "locations": [
            {
             "length": 8,
             "offset": 26747
            }
           ],
           "text": "SIN3A-WT"
          },
          {
           "id": "849",
           "infons": {
            "identifier": "MESH:D009369",
            "type": "Disease"
           },
           "locations": [
            {
             "length": 6,
             "offset": 27444
            }
           ],
           "text": "cancer"
          },
          {
           "id": "850",
           "infons": {
            "identifier": "MESH:C536751",
            "type": "Disease"
           },
           "locations": [
            {
             "length": 8,
             "offset": 27705
            }
           ],
           "text": "SIN3A-WT"
          },
          {
           "id": "851",
           "infons": {
            "identifier": "MESH:D006416",
            "type": "Chemical"
           },
           "locations": [
            {
             "length": 11,
             "offset": 26976
            }
           ],
           "text": "hematoxylin"
          },
          {
           "id": "852",
           "infons": {
            "identifier": "MESH:D006416",
            "type": "Chemical"
           },
           "locations": [
            {
             "length": 11,
             "offset": 27338
            }
           ],
           "text": "hematoxylin"
          },
          {
           "id": "853",
           "infons": {
            "identifier": "MESH:D001943",
            "type": "Disease"
           },
           "locations": [
            {
             "length": 13,
             "offset": 27069
            }
           ],
           "text": "breast cancer"
          },
          {
           "id": "854",
           "infons": {
            "identifier": "MESH:C536751",
            "type": "Disease"
           },
           "locations": [
            {
             "length": 8,
             "offset": 27954
            }
           ],
           "text": "SIN3A-WT"
          },
          {
           "id": "855",
           "infons": {
            "identifier": "MESH:D009369",
            "type": "Disease"
           },
           "locations": [
            {
             "length": 6,
             "offset": 26771
            }
           ],
           "text": "cancer"
          }
         ],
         "infons": {
          "section": "Results",
          "section_type": "RESULTS",
          "type": "paragraph"
         },
         "offset": 26433,
         "relations": [],
         "sentences": [],
         "text": "To examine the distribution of SIN3A in tissues removed from patients with breast cancers, immunohistochemical observation was carried out using the antibody against the N-terminal peptide of SIN3A as an antigen to detect the WT and the mutant deleting C-terminal regions. SIN3A staining in tissue sections of the SIN3A-WT coincided with cancer lesions observed in clusters similar to the staining of the mutant SIN3A (Fig. 5A,B), but SIN3A staining was strongly detected within the nuclei under magnified imaging, and the nuclear staining of hematoxylin disappeared due to the staining overlapped with SIN3A staining (Fig. 5C). In the breast cancer tissue containing the c.2830 C>T mutation of SIN3A, SIN3A staining was strongly observed within the regions of the cancer lesions (Fig. 5D,E), and the magnified imaging showed the distribution of SIN3A mutant to be cytoplasmic, since the blue staining by hematoxylin used as a counterstain was clearly detected in the nuclear regions (Fig. 5F). The progressive cancer lesions with enlarged nuclei were observed in clusters covering approximately 30% of the region within the sections. The areas of the nuclear regions on the slide containing the SIN3A mutant were increased nearly 2-fold as compared with those containing SIN3A-WT (Fig. 5G). Quantitative analysis of SIN3A staining in each region of the slides also showed SIN3A staining on the slide for the SIN3A mutant in both the nucleus and cytoplasm in contrast to staining confined to the nucleus on the slide for SIN3A-WT (Fig. 5H). In sporadic breast cancers, similar data were observed (Supplementary Fig. 3S). These observations indicate that the progression of cancer cells through the expression of ERalpha was enhanced due to the loss of transcriptional suppression caused by the cytoplasmic localization of the SIN3A p.Gln944* mutant."
        },
        {
         "annotations": [
          {
           "id": "861",
           "infons": {
            "identifier": "25942",
            "ncbi_homologene": "32124",
            "type": "Gene"
           },
           "locations": [
            {
             "length": 5,
             "offset": 28306
            }
           ],
           "text": "SIN3A"
          },
          {
           "id": "862",
           "infons": {
            "identifier": "2099",
            "ncbi_homologene": "47906",
            "type": "Gene"
           },
           "locations": [
            {
             "length": 7,
             "offset": 28386
            }
           ],
           "text": "ERalpha"
          },
          {
           "id": "863",
           "infons": {
            "identifier": "9606",
            "type": "Species"
           },
           "locations": [
            {
             "length": 8,
             "offset": 28372
            }
           ],
           "text": "patients"
          },
          {
           "id": "864",
           "infons": {
            "identifier": "29278",
            "type": "Species"
           },
           "locations": [
            {
             "length": 10,
             "offset": 28317
            }
           ],
           "text": "expression"
          },
          {
           "id": "865",
           "infons": {
            "identifier": "MESH:D001943",
            "type": "Disease"
           },
           "locations": [
            {
             "length": 13,
             "offset": 28403
            }
           ],
           "text": "breast cancer"
          }
         ],
         "infons": {
          "section": "Results",
          "section_type": "RESULTS",
          "type": "title_2"
         },
         "offset": 28289,
         "relations": [],
         "sentences": [],
         "text": "The reduction in SIN3A mRNA expression affects the relapse-free survival curves of patients with ERalpha-positive breast cancer"
        },
        {
         "annotations": [
          {
           "id": "887",
           "infons": {
            "identifier": "25942",
            "ncbi_homologene": "32124",
            "type": "Gene"
           },
           "locations": [
            {
             "length": 5,
             "offset": 28431
            }
           ],
           "text": "SIN3A"
          },
          {
           "id": "888",
           "infons": {
            "identifier": "25942",
            "ncbi_homologene": "32124",
            "type": "Gene"
           },
           "locations": [
            {
             "length": 5,
             "offset": 28546
            }
           ],
           "text": "SIN3A"
          },
          {
           "id": "889",
           "infons": {
            "identifier": "25942",
            "ncbi_homologene": "32124",
            "type": "Gene"
           },
           "locations": [
            {
             "length": 5,
             "offset": 28617
            }
           ],
           "text": "SIN3A"
          },
          {
           "id": "890",
           "infons": {
            "identifier": "25942",
            "ncbi_homologene": "32124",
            "type": "Gene"
           },
           "locations": [
            {
             "length": 5,
             "offset": 29420
            }
           ],
           "text": "SIN3A"
          },
          {
           "id": "891",
           "infons": {
            "identifier": "25942",
            "ncbi_homologene": "32124",
            "type": "Gene"
           },
           "locations": [
            {
             "length": 5,
             "offset": 29457
            }
           ],
           "text": "SIN3A"
          },
          {
           "id": "892",
           "infons": {
            "identifier": "920",
            "ncbi_homologene": "513",
            "type": "Gene"
           },
           "locations": [
            {
             "length": 3,
             "offset": 28778
            }
           ],
           "text": "CD4"
          },
          {
           "id": "893",
           "infons": {
            "identifier": "9606",
            "type": "Species"
           },
           "locations": [
            {
             "length": 8,
             "offset": 28505
            }
           ],
           "text": "patients"
          },
          {
           "id": "894",
           "infons": {
            "identifier": "9606",
            "type": "Species"
           },
           "locations": [
            {
             "length": 8,
             "offset": 29580
            }
           ],
           "text": "patients"
          },
          {
           "id": "895",
           "infons": {
            "identifier": "29278",
            "type": "Species"
           },
           "locations": [
            {
             "length": 10,
             "offset": 28417
            }
           ],
           "text": "Expression"
          },
          {
           "id": "896",
           "infons": {
            "identifier": "29278",
            "type": "Species"
           },
           "locations": [
            {
             "length": 10,
             "offset": 28557
            }
           ],
           "text": "expression"
          },
          {
           "id": "897",
           "infons": {
            "identifier": "29278",
            "type": "Species"
           },
           "locations": [
            {
             "length": 10,
             "offset": 29426
            }
           ],
           "text": "expression"
          },
          {
           "id": "898",
           "infons": {
            "identifier": "29278",
            "type": "Species"
           },
           "locations": [
            {
             "length": 10,
             "offset": 29463
            }
           ],
           "text": "expression"
          },
          {
           "id": "899",
           "infons": {
            "identifier": "MESH:D012967",
            "type": "Chemical"
           },
           "locations": [
            {
             "length": 3,
             "offset": 29029
            }
           ],
           "text": "SDS"
          },
          {
           "id": "900",
           "infons": {
            "identifier": "MESH:D001943",
            "type": "Disease"
           },
           "locations": [
            {
             "length": 13,
             "offset": 29566
            }
           ],
           "text": "breast cancer"
          },
          {
           "id": "901",
           "infons": {
            "identifier": "MESH:C536751",
            "type": "Disease"
           },
           "locations": [
            {
             "length": 8,
             "offset": 28607
            }
           ],
           "text": "SIN3A-WT"
          },
          {
           "id": "902",
           "infons": {
            "identifier": "MESH:D012967",
            "type": "Chemical"
           },
           "locations": [
            {
             "length": 3,
             "offset": 28901
            }
           ],
           "text": "SDS"
          },
          {
           "id": "903",
           "infons": {
            "identifier": "c.2830C>T",
            "subtype": "DNAMutation",
            "type": "Mutation"
           },
           "locations": [
            {
             "length": 10,
             "offset": 28623
            }
           ],
           "text": "c.2830 C>T"
          },
          {
           "id": "904",
           "infons": {
            "identifier": "p.Q944*",
            "subtype": "ProteinMutation",
            "type": "Mutation"
           },
           "locations": [
            {
             "length": 9,
             "offset": 28437
            }
           ],
           "text": "p.Gln944*"
          },
          {
           "id": "905",
           "infons": {
            "identifier": "MESH:D001943",
            "type": "Disease"
           },
           "locations": [
            {
             "length": 13,
             "offset": 28519
            }
           ],
           "text": "breast cancer"
          },
          {
           "id": "906",
           "infons": {
            "identifier": "CVCL:0031",
            "type": "CellLine"
           },
           "locations": [
            {
             "length": 4,
             "offset": 28574
            }
           ],
           "text": "MCF7"
          },
          {
           "id": "907",
           "infons": {
            "identifier": "CVCL:0031",
            "type": "CellLine"
           },
           "locations": [
            {
             "length": 4,
             "offset": 28458
            }
           ],
           "text": "MCF7"
          }
         ],
         "infons": {
          "file": "41598_2018_34290_Fig6_HTML.jpg",
          "id": "Fig6",
          "section": "Results",
          "section_type": "FIG",
          "type": "fig_caption"
         },
         "offset": 28417,
         "relations": [],
         "sentences": [],
         "text": "Expression of SIN3A p.Gln944* protein in MCF7 cells and relapse-free survival curves of patients with breast cancer according to SIN3A mRNA expression (A-D) MCF7 cells were transfected with SIN3A-WT, SIN3A c.2830 C>T, or empty vector together with pMACS4.1 and pGFP, and the cells were cultured for 24 hrs. The vector-transfected cells were separated with anti-CD4 antibody magnet beads. The cells were extracted, and were added Halo-tag ligand TMR (A). The samples were subjected to SDS-PAGE or immunoblotting using anti-GFP antibody (B) or anti-alpha-Actin antibody (C). The fluorescence of Halo-tag ligand on SDS-PAGE was detected with a Typhoon FLA9000. The bands corresponded to the indicated proteins were analyzed by Image Quant QL. The figure shows representative data obtained from 3 independent experiments. The data represent the means +- SE. Statistical significances were determined by two-tailed Student's t test (*P < 0.05) (D). (E-G) Relapse-free survival curves were drawn for the high SIN3A expression group (red) and low SIN3A expression group (black) for all (E, n = 1764), ER-positive (F, n = 1248), or ER-negative (G, n = 516) breast cancer patients using the Kaplan-Meier Plotter."
        },
        {
         "annotations": [
          {
           "id": "954",
           "infons": {
            "identifier": "25942",
            "ncbi_homologene": "32124",
            "type": "Gene"
           },
           "locations": [
            {
             "length": 5,
             "offset": 29689
            }
           ],
           "text": "SIN3A"
          },
          {
           "id": "955",
           "infons": {
            "identifier": "25942",
            "ncbi_homologene": "32124",
            "type": "Gene"
           },
           "locations": [
            {
             "length": 5,
             "offset": 30050
            }
           ],
           "text": "SIN3A"
          },
          {
           "id": "956",
           "infons": {
            "identifier": "25942",
            "ncbi_homologene": "32124",
            "type": "Gene"
           },
           "locations": [
            {
             "length": 5,
             "offset": 30169
            }
           ],
           "text": "SIN3A"
          },
          {
           "id": "957",
           "infons": {
            "identifier": "25942",
            "ncbi_homologene": "32124",
            "type": "Gene"
           },
           "locations": [
            {
             "length": 5,
             "offset": 30432
            }
           ],
           "text": "SIN3A"
          },
          {
           "id": "958",
           "infons": {
            "identifier": "25942",
            "ncbi_homologene": "32124",
            "type": "Gene"
           },
           "locations": [
            {
             "length": 5,
             "offset": 30487
            }
           ],
           "text": "SIN3A"
          },
          {
           "id": "959",
           "infons": {
            "identifier": "25942",
            "ncbi_homologene": "32124",
            "type": "Gene"
           },
           "locations": [
            {
             "length": 5,
             "offset": 30582
            }
           ],
           "text": "SIN3A"
          },
          {
           "id": "960",
           "infons": {
            "identifier": "25942",
            "ncbi_homologene": "32124",
            "type": "Gene"
           },
           "locations": [
            {
             "length": 5,
             "offset": 30600
            }
           ],
           "text": "SIN3A"
          },
          {
           "id": "961",
           "infons": {
            "identifier": "25942",
            "ncbi_homologene": "32124",
            "type": "Gene"
           },
           "locations": [
            {
             "length": 5,
             "offset": 30648
            }
           ],
           "text": "SIN3A"
          },
          {
           "id": "962",
           "infons": {
            "identifier": "25942",
            "ncbi_homologene": "32124",
            "type": "Gene"
           },
           "locations": [
            {
             "length": 5,
             "offset": 30724
            }
           ],
           "text": "SIN3A"
          },
          {
           "id": "963",
           "infons": {
            "identifier": "25942",
            "ncbi_homologene": "32124",
            "type": "Gene"
           },
           "locations": [
            {
             "length": 5,
             "offset": 30826
            }
           ],
           "text": "SIN3A"
          },
          {
           "id": "964",
           "infons": {
            "identifier": "25942",
            "ncbi_homologene": "32124",
            "type": "Gene"
           },
           "locations": [
            {
             "length": 5,
             "offset": 30962
            }
           ],
           "text": "SIN3A"
          },
          {
           "id": "965",
           "infons": {
            "identifier": "2099",
            "ncbi_homologene": "47906",
            "type": "Gene"
           },
           "locations": [
            {
             "length": 4,
             "offset": 31027
            }
           ],
           "text": "ESR1"
          },
          {
           "id": "966",
           "infons": {
            "identifier": "25942",
            "ncbi_homologene": "32124",
            "type": "Gene"
           },
           "locations": [
            {
             "length": 5,
             "offset": 31168
            }
           ],
           "text": "SIN3A"
          },
          {
           "id": "967",
           "infons": {
            "identifier": "2099",
            "ncbi_homologene": "47906",
            "type": "Gene"
           },
           "locations": [
            {
             "length": 4,
             "offset": 31209
            }
           ],
           "text": "ESR1"
          },
          {
           "id": "968",
           "infons": {
            "identifier": "25942",
            "ncbi_homologene": "32124",
            "type": "Gene"
           },
           "locations": [
            {
             "length": 5,
             "offset": 31371
            }
           ],
           "text": "SIN3A"
          },
          {
           "id": "969",
           "infons": {
            "identifier": "25942",
            "ncbi_homologene": "32124",
            "type": "Gene"
           },
           "locations": [
            {
             "length": 5,
             "offset": 31490
            }
           ],
           "text": "SIN3A"
          },
          {
           "id": "970",
           "infons": {
            "identifier": "25942",
            "ncbi_homologene": "32124",
            "type": "Gene"
           },
           "locations": [
            {
             "length": 5,
             "offset": 31664
            }
           ],
           "text": "SIN3A"
          },
          {
           "id": "971",
           "infons": {
            "identifier": "9606",
            "type": "Species"
           },
           "locations": [
            {
             "length": 8,
             "offset": 30875
            }
           ],
           "text": "patients"
          },
          {
           "id": "972",
           "infons": {
            "identifier": "9606",
            "type": "Species"
           },
           "locations": [
            {
             "length": 8,
             "offset": 30994
            }
           ],
           "text": "patients"
          },
          {
           "id": "973",
           "infons": {
            "identifier": "9606",
            "type": "Species"
           },
           "locations": [
            {
             "length": 8,
             "offset": 31116
            }
           ],
           "text": "patients"
          },
          {
           "id": "974",
           "infons": {
            "identifier": "9606",
            "type": "Species"
           },
           "locations": [
            {
             "length": 8,
             "offset": 31389
            }
           ],
           "text": "patients"
          },
          {
           "id": "975",
           "infons": {
            "identifier": "29278",
            "type": "Species"
           },
           "locations": [
            {
             "length": 10,
             "offset": 30304
            }
           ],
           "text": "expression"
          },
          {
           "id": "976",
           "infons": {
            "identifier": "29278",
            "type": "Species"
           },
           "locations": [
            {
             "length": 10,
             "offset": 30443
            }
           ],
           "text": "expression"
          },
          {
           "id": "977",
           "infons": {
            "identifier": "29278",
            "type": "Species"
           },
           "locations": [
            {
             "length": 10,
             "offset": 30806
            }
           ],
           "text": "expression"
          },
          {
           "id": "978",
           "infons": {
            "identifier": "29278",
            "type": "Species"
           },
           "locations": [
            {
             "length": 10,
             "offset": 30968
            }
           ],
           "text": "expression"
          },
          {
           "id": "979",
           "infons": {
            "identifier": "29278",
            "type": "Species"
           },
           "locations": [
            {
             "length": 10,
             "offset": 31032
            }
           ],
           "text": "expression"
          },
          {
           "id": "980",
           "infons": {
            "identifier": "29278",
            "type": "Species"
           },
           "locations": [
            {
             "length": 10,
             "offset": 31174
            }
           ],
           "text": "expression"
          },
          {
           "id": "981",
           "infons": {
            "identifier": "29278",
            "type": "Species"
           },
           "locations": [
            {
             "length": 10,
             "offset": 31214
            }
           ],
           "text": "expression"
          },
          {
           "id": "982",
           "infons": {
            "identifier": "29278",
            "type": "Species"
           },
           "locations": [
            {
             "length": 10,
             "offset": 31353
            }
           ],
           "text": "expression"
          },
          {
           "id": "983",
           "infons": {
            "identifier": "29278",
            "type": "Species"
           },
           "locations": [
            {
             "length": 10,
             "offset": 31496
            }
           ],
           "text": "expression"
          },
          {
           "id": "984",
           "infons": {
            "identifier": "29278",
            "type": "Species"
           },
           "locations": [
            {
             "length": 10,
             "offset": 31650
            }
           ],
           "text": "expression"
          },
          {
           "id": "985",
           "infons": {
            "identifier": "MESH:D055882",
            "type": "Disease"
           },
           "locations": [
            {
             "length": 27,
             "offset": 29751
            }
           ],
           "text": "Halo-SIN3A-WT or Halo-SIN3A"
          },
          {
           "id": "986",
           "infons": {
            "identifier": "CVCL:0031",
            "type": "CellLine"
           },
           "locations": [
            {
             "length": 4,
             "offset": 29724
            }
           ],
           "text": "MCF7"
          },
          {
           "id": "987",
           "infons": {
            "identifier": "MESH:C536751",
            "type": "Disease"
           },
           "locations": [
            {
             "length": 8,
             "offset": 30544
            }
           ],
           "text": "SIN3A-WT"
          },
          {
           "id": "988",
           "infons": {
            "identifier": "MESH:D001943",
            "type": "Disease"
           },
           "locations": [
            {
             "length": 14,
             "offset": 31721
            }
           ],
           "text": "breast cancers"
          },
          {
           "id": "989",
           "infons": {
            "identifier": "p.Q944*",
            "subtype": "ProteinMutation",
            "type": "Mutation"
           },
           "locations": [
            {
             "length": 9,
             "offset": 30056
            }
           ],
           "text": "p.Gln944*"
          },
          {
           "id": "990",
           "infons": {
            "identifier": "MESH:D001943",
            "type": "Disease"
           },
           "locations": [
            {
             "length": 14,
             "offset": 31462
            }
           ],
           "text": "breast cancers"
          },
          {
           "id": "991",
           "infons": {
            "identifier": "p.Q944*",
            "subtype": "ProteinMutation",
            "type": "Mutation"
           },
           "locations": [
            {
             "length": 9,
             "offset": 30175
            }
           ],
           "text": "p.Gln944*"
          },
          {
           "id": "992",
           "infons": {
            "identifier": "MESH:D001943",
            "type": "Disease"
           },
           "locations": [
            {
             "length": 14,
             "offset": 31572
            }
           ],
           "text": "breast cancers"
          },
          {
           "id": "993",
           "infons": {
            "identifier": "MESH:D001943",
            "type": "Disease"
           },
           "locations": [
            {
             "length": 13,
             "offset": 30461
            }
           ],
           "text": "breast cancer"
          },
          {
           "id": "994",
           "infons": {
            "identifier": "MESH:D001943",
            "type": "Disease"
           },
           "locations": [
            {
             "length": 14,
             "offset": 30889
            }
           ],
           "text": "breast cancers"
          },
          {
           "id": "995",
           "infons": {
            "identifier": "c.2830C>T",
            "subtype": "DNAMutation",
            "type": "Mutation"
           },
           "locations": [
            {
             "length": 10,
             "offset": 30493
            }
           ],
           "text": "c.2830 C>T"
          },
          {
           "id": "996",
           "infons": {
            "identifier": "MESH:C536751",
            "type": "Disease"
           },
           "locations": [
            {
             "length": 8,
             "offset": 30217
            }
           ],
           "text": "SIN3A-WT"
          },
          {
           "id": "997",
           "infons": {
            "identifier": "MESH:D012967",
            "type": "Chemical"
           },
           "locations": [
            {
             "length": 3,
             "offset": 29814
            }
           ],
           "text": "SDS"
          },
          {
           "id": "998",
           "infons": {
            "identifier": "c.2830C>T",
            "subtype": "DNAMutation",
            "type": "Mutation"
           },
           "locations": [
            {
             "length": 10,
             "offset": 29779
            }
           ],
           "text": "c.2830 C>T"
          },
          {
           "id": "999",
           "infons": {
            "identifier": "MESH:C536751",
            "type": "Disease"
           },
           "locations": [
            {
             "length": 8,
             "offset": 29892
            }
           ],
           "text": "SIN3A-WT"
          }
         ],
         "infons": {
          "section": "Results",
          "section_type": "RESULTS",
          "type": "paragraph"
         },
         "offset": 29646,
         "relations": [],
         "sentences": [],
         "text": "To confirm the molecular mass of exogenous SIN3A protein, the proteins in the MCF7 cell transfected with Halo-SIN3A-WT or Halo-SIN3A c.2830 C>T mutant were detected by SDS-PAGE using fluorescence-conjugated Halo-tag ligand. The molecular mass of SIN3A-WT was observed around the approximately 185 kDa, which was corresponded to the calculated molecular mass (Fig. 6A). The band of the C-terminal deleted SIN3A p.Gln944* mutant was detected around 150 kDa consistent with the theoretical molecular mass. The band density of SIN3A p.Gln944* was obviously decreased that of SIN3A-WT (Fig. 6A,D, and Supplementary Fig. 4S), although the bands of GFP used as the expression control and alpha-Actin used as loading control were almost constant among the samples (Fig. 6B and C). The level of SIN3A mRNA expression in the breast cancer tissue with SIN3A c.2830 C>T appeared to be lower than in those with SIN3A-WT (Supplementary Fig. 5S), and SIN3A mRNA in the SIN3A mutant samples included approximately 20% SIN3A mutant sequence (data not shown). The cytoplasmic localization of the SIN3A mutant causes its loss of function resulting in cell proliferation, and the expression level of SIN3A mRNA may influence the survival curves for patients with breast cancers. The overall and relapse-free survival curves relative to SIN3A expression were drawn for patients classified according to ESR1 expression on the Kaplan-Meier Plotters website. The overall survival curve for all patients revealed a lower shift of the curve in low SIN3A expression group, and no effect of ESR1 expression on the curves was observed (Supplemental Fig. 6S). The relapse-free survival curves showed a clear lower shift with the reduced expression of the SIN3A mRNA in all patients, and the lower shift was identical to that seen for ER-positive breast cancers (Fig. 6E,F). SIN3A expression had no effect on the relapse-free survival curve for ER-negative breast cancers (Fig. 6G). These observations reveal that the reduction in the expression of SIN3A mRNA plays a role in the recurrence of ER-positive breast cancers."
        },
        {
         "annotations": [],
         "infons": {
          "section": "Discussion",
          "section_type": "DISCUSS",
          "type": "title_1"
         },
         "offset": 31750,
         "relations": [],
         "sentences": [],
         "text": "Discussion"
        },
        {
         "annotations": [
          {
           "id": "1016",
           "infons": {
            "identifier": "2099",
            "ncbi_homologene": "47906",
            "type": "Gene"
           },
           "locations": [
            {
             "length": 7,
             "offset": 31922
            }
           ],
           "text": "ERalpha"
          },
          {
           "id": "1017",
           "infons": {
            "identifier": "25942",
            "ncbi_homologene": "32124",
            "type": "Gene"
           },
           "locations": [
            {
             "length": 5,
             "offset": 32031
            }
           ],
           "text": "SIN3A"
          },
          {
           "id": "1018",
           "infons": {
            "identifier": "2099",
            "ncbi_homologene": "47906",
            "type": "Gene"
           },
           "locations": [
            {
             "length": 4,
             "offset": 32082
            }
           ],
           "text": "ESR1"
          },
          {
           "id": "1019",
           "infons": {
            "identifier": "25942",
            "ncbi_homologene": "32124",
            "type": "Gene"
           },
           "locations": [
            {
             "length": 5,
             "offset": 32145
            }
           ],
           "text": "SIN3A"
          },
          {
           "id": "1020",
           "infons": {
            "identifier": "2099",
            "ncbi_homologene": "47906",
            "type": "Gene"
           },
           "locations": [
            {
             "length": 7,
             "offset": 32211
            }
           ],
           "text": "ERalpha"
          },
          {
           "id": "1021",
           "infons": {
            "identifier": "2099",
            "ncbi_homologene": "47906",
            "type": "Gene"
           },
           "locations": [
            {
             "length": 7,
             "offset": 32294
            }
           ],
           "text": "ERalpha"
          },
          {
           "id": "1022",
           "infons": {
            "identifier": "25942",
            "ncbi_homologene": "32124",
            "type": "Gene"
           },
           "locations": [
            {
             "length": 5,
             "offset": 32360
            }
           ],
           "text": "SIN3A"
          },
          {
           "id": "1023",
           "infons": {
            "identifier": "2099",
            "ncbi_homologene": "47906",
            "type": "Gene"
           },
           "locations": [
            {
             "length": 4,
             "offset": 32393
            }
           ],
           "text": "ESR1"
          },
          {
           "id": "1024",
           "infons": {
            "identifier": "29278",
            "type": "Species"
           },
           "locations": [
            {
             "length": 10,
             "offset": 32092
            }
           ],
           "text": "expression"
          },
          {
           "id": "1025",
           "infons": {
            "identifier": "29278",
            "type": "Species"
           },
           "locations": [
            {
             "length": 10,
             "offset": 32398
            }
           ],
           "text": "expression"
          },
          {
           "id": "1026",
           "infons": {
            "identifier": "CVCL:0031",
            "type": "CellLine"
           },
           "locations": [
            {
             "length": 4,
             "offset": 32129
            }
           ],
           "text": "MCF7"
          },
          {
           "id": "1027",
           "infons": {
            "identifier": "p.Q944*",
            "subtype": "ProteinMutation",
            "type": "Mutation"
           },
           "locations": [
            {
             "length": 9,
             "offset": 32049
            }
           ],
           "text": "p.Gln944*"
          },
          {
           "id": "1028",
           "infons": {
            "identifier": "c.2830C>T",
            "subtype": "DNAMutation",
            "type": "Mutation"
           },
           "locations": [
            {
             "length": 10,
             "offset": 32037
            }
           ],
           "text": "c.2830 C>T"
          },
          {
           "id": "1029",
           "infons": {
            "identifier": "MESH:C536751",
            "type": "Disease"
           },
           "locations": [
            {
             "length": 8,
             "offset": 32262
            }
           ],
           "text": "SIN3A-WT"
          },
          {
           "id": "1030",
           "infons": {
            "identifier": "MESH:D001943",
            "type": "Disease"
           },
           "locations": [
            {
             "length": 14,
             "offset": 32480
            }
           ],
           "text": "breast cancers"
          },
          {
           "id": "1031",
           "infons": {
            "identifier": "MESH:D001943",
            "type": "Disease"
           },
           "locations": [
            {
             "length": 14,
             "offset": 31879
            }
           ],
           "text": "breast cancers"
          }
         ],
         "infons": {
          "section": "Discussion",
          "section_type": "DISCUSS",
          "type": "paragraph"
         },
         "offset": 31761,
         "relations": [],
         "sentences": [],
         "text": "In this report, we found 213 non-synonymous somatic mutations on the exon regions in 208 genes of DNAs extracted from breast cancers showing high expressions of ERalpha using different types of next-generation sequencers. Of the 213 somatic mutations, a novel mutation, SIN3A c.2830 C>T; p.Gln944*, caused an increase in ESR1 mRNA expression and cell proliferation in MCF7 cells. The SIN3A mutant localized mainly in the cytoplasm apart from nuclear ERalpha in contrast to the nuclear localization of SIN3A-WT that co-localizes with ERalpha. The cytoplasmic localization attenuates the functions of SIN3A, leading to an increase in ESR1 expression that accelerates the cell proliferation involved in the progression of breast cancers."
        },
        {
         "annotations": [
          {
           "id": "1081",
           "infons": {
            "identifier": "25942",
            "ncbi_homologene": "32124",
            "type": "Gene"
           },
           "locations": [
            {
             "length": 5,
             "offset": 32496
            }
           ],
           "text": "SIN3A"
          },
          {
           "id": "1082",
           "infons": {
            "identifier": "25942",
            "ncbi_homologene": "32124",
            "type": "Gene"
           },
           "locations": [
            {
             "length": 5,
             "offset": 32945
            }
           ],
           "text": "SIN3A"
          },
          {
           "id": "1083",
           "infons": {
            "identifier": "25942",
            "ncbi_homologene": "32124",
            "type": "Gene"
           },
           "locations": [
            {
             "length": 5,
             "offset": 33072
            }
           ],
           "text": "SIN3A"
          },
          {
           "id": "1084",
           "infons": {
            "identifier": "25942",
            "ncbi_homologene": "32124",
            "type": "Gene"
           },
           "locations": [
            {
             "length": 5,
             "offset": 33294
            }
           ],
           "text": "SIN3A"
          },
          {
           "id": "1085",
           "infons": {
            "identifier": "2099",
            "ncbi_homologene": "47906",
            "type": "Gene"
           },
           "locations": [
            {
             "length": 4,
             "offset": 33386
            }
           ],
           "text": "ESR1"
          },
          {
           "id": "1086",
           "infons": {
            "identifier": "25942",
            "ncbi_homologene": "32124",
            "type": "Gene"
           },
           "locations": [
            {
             "length": 5,
             "offset": 33540
            }
           ],
           "text": "SIN3A"
          },
          {
           "id": "1087",
           "infons": {
            "identifier": "25942",
            "ncbi_homologene": "32124",
            "type": "Gene"
           },
           "locations": [
            {
             "length": 5,
             "offset": 33780
            }
           ],
           "text": "SIN3A"
          },
          {
           "id": "1088",
           "infons": {
            "identifier": "25942",
            "ncbi_homologene": "32124",
            "type": "Gene"
           },
           "locations": [
            {
             "length": 5,
             "offset": 33857
            }
           ],
           "text": "SIN3A"
          },
          {
           "id": "1089",
           "infons": {
            "identifier": "25942",
            "ncbi_homologene": "32124",
            "type": "Gene"
           },
           "locations": [
            {
             "length": 5,
             "offset": 34343
            }
           ],
           "text": "SIN3A"
          },
          {
           "id": "1090",
           "infons": {
            "identifier": "2099",
            "ncbi_homologene": "47906",
            "type": "Gene"
           },
           "locations": [
            {
             "length": 4,
             "offset": 34535
            }
           ],
           "text": "ESR1"
          },
          {
           "id": "1091",
           "infons": {
            "identifier": "25942",
            "ncbi_homologene": "32124",
            "type": "Gene"
           },
           "locations": [
            {
             "length": 5,
             "offset": 34584
            }
           ],
           "text": "SIN3A"
          },
          {
           "id": "1092",
           "infons": {
            "identifier": "25942",
            "ncbi_homologene": "32124",
            "type": "Gene"
           },
           "locations": [
            {
             "length": 5,
             "offset": 34658
            }
           ],
           "text": "SIN3A"
          },
          {
           "id": "1093",
           "infons": {
            "identifier": "2099",
            "ncbi_homologene": "47906",
            "type": "Gene"
           },
           "locations": [
            {
             "length": 4,
             "offset": 34687
            }
           ],
           "text": "ESR1"
          },
          {
           "id": "1094",
           "infons": {
            "identifier": "2099",
            "ncbi_homologene": "47906",
            "type": "Gene"
           },
           "locations": [
            {
             "length": 4,
             "offset": 34769
            }
           ],
           "text": "ESR1"
          },
          {
           "id": "1095",
           "infons": {
            "identifier": "25942",
            "ncbi_homologene": "32124",
            "type": "Gene"
           },
           "locations": [
            {
             "length": 5,
             "offset": 34984
            }
           ],
           "text": "SIN3A"
          },
          {
           "id": "1096",
           "infons": {
            "identifier": "25942",
            "ncbi_homologene": "32124",
            "type": "Gene"
           },
           "locations": [
            {
             "length": 5,
             "offset": 35078
            }
           ],
           "text": "SIN3A"
          },
          {
           "id": "1097",
           "infons": {
            "identifier": "2099",
            "ncbi_homologene": "47906",
            "type": "Gene"
           },
           "locations": [
            {
             "length": 4,
             "offset": 35139
            }
           ],
           "text": "ESR1"
          },
          {
           "id": "1098",
           "infons": {
            "identifier": "4932",
            "type": "Species"
           },
           "locations": [
            {
             "length": 5,
             "offset": 33125
            }
           ],
           "text": "yeast"
          },
          {
           "id": "1099",
           "infons": {
            "identifier": "29278",
            "type": "Species"
           },
           "locations": [
            {
             "length": 10,
             "offset": 33365
            }
           ],
           "text": "expression"
          },
          {
           "id": "1100",
           "infons": {
            "identifier": "29278",
            "type": "Species"
           },
           "locations": [
            {
             "length": 10,
             "offset": 34517
            }
           ],
           "text": "expression"
          },
          {
           "id": "1101",
           "infons": {
            "identifier": "29278",
            "type": "Species"
           },
           "locations": [
            {
             "length": 10,
             "offset": 34692
            }
           ],
           "text": "expression"
          },
          {
           "id": "1102",
           "infons": {
            "identifier": "29278",
            "type": "Species"
           },
           "locations": [
            {
             "length": 10,
             "offset": 34915
            }
           ],
           "text": "expression"
          },
          {
           "id": "1103",
           "infons": {
            "identifier": "29278",
            "type": "Species"
           },
           "locations": [
            {
             "length": 10,
             "offset": 35119
            }
           ],
           "text": "expression"
          },
          {
           "id": "1104",
           "infons": {
            "identifier": "CVCL:0031",
            "type": "CellLine"
           },
           "locations": [
            {
             "length": 4,
             "offset": 34816
            }
           ],
           "text": "MCF7"
          },
          {
           "id": "1105",
           "infons": {
            "identifier": "MESH:C536751",
            "type": "Disease"
           },
           "locations": [
            {
             "length": 8,
             "offset": 34844
            }
           ],
           "text": "SIN3A-WT"
          },
          {
           "id": "1106",
           "infons": {
            "identifier": "c.2830C>T",
            "subtype": "DNAMutation",
            "type": "Mutation"
           },
           "locations": [
            {
             "length": 10,
             "offset": 34990
            }
           ],
           "text": "c.2830 C>T"
          },
          {
           "id": "1107",
           "infons": {
            "identifier": "p.Q944*",
            "subtype": "ProteinMutation",
            "type": "Mutation"
           },
           "locations": [
            {
             "length": 9,
             "offset": 35002
            }
           ],
           "text": "p.Gln944*"
          },
          {
           "id": "1108",
           "infons": {
            "identifier": "MESH:D005973",
            "type": "Chemical"
           },
           "locations": [
            {
             "length": 9,
             "offset": 33453
            }
           ],
           "text": "glutamine"
          },
          {
           "id": "1109",
           "infons": {
            "identifier": "-",
            "type": "Chemical"
           },
           "locations": [
            {
             "length": 4,
             "offset": 33006
            }
           ],
           "text": "PAH3"
          },
          {
           "id": "1110",
           "infons": {
            "identifier": "MESH:C566528",
            "type": "Disease"
           },
           "locations": [
            {
             "length": 3,
             "offset": 32986
            }
           ],
           "text": "HID"
          },
          {
           "id": "1111",
           "infons": {
            "identifier": "MESH:D001943",
            "type": "Disease"
           },
           "locations": [
            {
             "length": 13,
             "offset": 35154
            }
           ],
           "text": "breast cancer"
          },
          {
           "id": "1112",
           "infons": {
            "identifier": "p.Q944*",
            "subtype": "ProteinMutation",
            "type": "Mutation"
           },
           "locations": [
            {
             "length": 9,
             "offset": 33551
            }
           ],
           "text": "p.Gln944*"
          },
          {
           "id": "1113",
           "infons": {
            "identifier": "-",
            "type": "Chemical"
           },
           "locations": [
            {
             "length": 3,
             "offset": 32972
            }
           ],
           "text": "PAH"
          },
          {
           "id": "1114",
           "infons": {
            "identifier": "MESH:D003597",
            "type": "Chemical"
           },
           "locations": [
            {
             "length": 19,
             "offset": 33204
            }
           ],
           "text": "cytosine nucleotide"
          },
          {
           "id": "1115",
           "infons": {
            "identifier": "MESH:D001943",
            "type": "Disease"
           },
           "locations": [
            {
             "length": 13,
             "offset": 35046
            }
           ],
           "text": "breast cancer"
          },
          {
           "id": "1116",
           "infons": {
            "identifier": "-",
            "type": "Chemical"
           },
           "locations": [
            {
             "length": 44,
             "offset": 34004
            }
           ],
           "text": "O-linked N-acetylglucosamine monosaccharides"
          },
          {
           "id": "1117",
           "infons": {
            "identifier": "MESH:D009369",
            "type": "Disease"
           },
           "locations": [
            {
             "length": 6,
             "offset": 34462
            }
           ],
           "text": "cancer"
          },
          {
           "id": "1118",
           "infons": {
            "identifier": "-",
            "type": "Chemical"
           },
           "locations": [
            {
             "length": 4,
             "offset": 33015
            }
           ],
           "text": "PAH4"
          },
          {
           "id": "1119",
           "infons": {
            "identifier": "p.Q944*",
            "subtype": "ProteinMutation",
            "type": "Mutation"
           },
           "locations": [
            {
             "length": 9,
             "offset": 35084
            }
           ],
           "text": "p.Gln944*"
          },
          {
           "id": "1120",
           "infons": {
            "identifier": "p.Q944*",
            "subtype": "ProteinMutation",
            "type": "Mutation"
           },
           "locations": [
            {
             "length": 9,
             "offset": 34602
            }
           ],
           "text": "p.Gln944*"
          },
          {
           "id": "1121",
           "infons": {
            "identifier": "MESH:D008715",
            "type": "Chemical"
           },
           "locations": [
            {
             "length": 10,
             "offset": 33528
            }
           ],
           "text": "methionine"
          },
          {
           "id": "1122",
           "infons": {
            "identifier": "c.2830C>T",
            "subtype": "DNAMutation",
            "type": "Mutation"
           },
           "locations": [
            {
             "length": 10,
             "offset": 34590
            }
           ],
           "text": "c.2830 C>T"
          },
          {
           "id": "1123",
           "infons": {
            "identifier": "p.Q944*",
            "subtype": "ProteinMutation",
            "type": "Mutation"
           },
           "locations": [
            {
             "length": 9,
             "offset": 34349
            }
           ],
           "text": "p.Gln944*"
          },
          {
           "id": "1124",
           "infons": {
            "identifier": "p.Q944*",
            "subtype": "ProteinMutation",
            "type": "Mutation"
           },
           "locations": [
            {
             "length": 9,
             "offset": 33482
            }
           ],
           "text": "p.Gln944*"
          },
          {
           "id": "1125",
           "infons": {
            "identifier": "MESH:D001943",
            "type": "Disease"
           },
           "locations": [
            {
             "length": 13,
             "offset": 33331
            }
           ],
           "text": "breast cancer"
          },
          {
           "id": "1126",
           "infons": {
            "identifier": "MESH:C536751",
            "type": "Disease"
           },
           "locations": [
            {
             "length": 8,
             "offset": 35187
            }
           ],
           "text": "SIN3A-WT"
          },
          {
           "id": "1127",
           "infons": {
            "identifier": "c.2830C>T",
            "subtype": "DNAMutation",
            "type": "Mutation"
           },
           "locations": [
            {
             "length": 10,
             "offset": 33301
            }
           ],
           "text": "c.2830 C>T"
          },
          {
           "id": "1128",
           "infons": {
            "identifier": "MESH:D013942",
            "type": "Chemical"
           },
           "locations": [
            {
             "length": 18,
             "offset": 33231
            }
           ],
           "text": "thymine nucleotide"
          },
          {
           "id": "1129",
           "infons": {
            "identifier": "-",
            "type": "Chemical"
           },
           "locations": [
            {
             "length": 4,
             "offset": 33643
            }
           ],
           "text": "PAH4"
          }
         ],
         "infons": {
          "section": "Discussion",
          "section_type": "DISCUSS",
          "type": "paragraph"
         },
         "offset": 32496,
         "relations": [],
         "sentences": [],
         "text": "SIN3A has critical functions related to transcriptional regulation including nucleosome remodeling, DNA methylation, and N-acetyl-glucosamine transferase activity although it has no transcriptional activity by itself. The functions are exclusively carried out by providing a platform for the assembly of transcriptional regulatory factors such as HDAC, MeCP2, Mad1, Elk-1, and p53 as a master scaffold. As shown in Fig. 3A, the domain structures of SIN3A are composed of four PAH motifs, a HID present between PAH3 and PAH4, and a HCR in the C-terminal region. The domains in SIN3A are evolutionarily conserved in organisms from yeast to mammals. In this study, a novel somatic point mutation that changed a cytosine nucleotide into a thymine nucleotide at position of 2830 from the start codon of SIN3A (c.2830 C>T) was detected in a breast cancer tissue showing high expression levels of ESR1. The mutation is a nonsense mutation that changes a codon for glutamine into a stop codon (p.Gln944*) at position of 944 from that start methionine. SIN3A with p.Gln944* somatic mutation has a deleted C-terminal region including the C-terminal half of PAH4 and the entire HCR. In the C-terminal region, MeCP2 and O-linked N-acetylglucosamine transferase (OGT) and Alien can associate with SIN3A. MeCP2 that associates with the C-terminal region including the HCR of SIN3A mediates transcriptional repression through its interaction with methylated DNA. OGT also inhibits transcriptional activities by introducing O-linked N-acetylglucosamine monosaccharides at the phosphorylation sites of transcription factors. Alien functions as a co-repressor for selected members of the nuclear receptor superfamily such as vitamin D3 receptor and thyroid hormone receptor. The assembly platform for these transcriptional repressors disappears in cells expressing SIN3A p.Gln944* due to its cytoplasmic localization, indicating that transcriptional activities may be dysregulated in cancer cells carrying the mutation. In this study, the expression of the ESR1 mRNA was examined in cells transfected with SIN3A c.2830 C>T; p.Gln944* because Ellison-Zelski et al. have shown that SIN3A specifically represses ESR1 expression at promoter regions in an estrogen-dependent manner. In practice, ESR1 mRNA levels were significantly reduced in MCF7 cells transfected with SIN3A-WT as compared with those transfected with empty vector, and the expression was enhanced more than control level by transfection with SIN3A c.2830 C>T; p.Gln944* in the presence of 100 nM E2. The breast cancer tissue containing SIN3A p.Gln944* showed a 1.6-fold higher expression level of ESR1 mRNA than breast cancer tissues containing SIN3A-WT."
        },
        {
         "annotations": [
          {
           "id": "1189",
           "infons": {
            "identifier": "25942",
            "ncbi_homologene": "32124",
            "type": "Gene"
           },
           "locations": [
            {
             "length": 5,
             "offset": 35249
            }
           ],
           "text": "SIN3A"
          },
          {
           "id": "1190",
           "infons": {
            "identifier": "25942",
            "ncbi_homologene": "32124",
            "type": "Gene"
           },
           "locations": [
            {
             "length": 5,
             "offset": 35281
            }
           ],
           "text": "SIN3A"
          },
          {
           "id": "1191",
           "infons": {
            "identifier": "25942",
            "ncbi_homologene": "32124",
            "type": "Gene"
           },
           "locations": [
            {
             "length": 5,
             "offset": 35388
            }
           ],
           "text": "SIN3A"
          },
          {
           "id": "1192",
           "infons": {
            "identifier": "25942",
            "ncbi_homologene": "32124",
            "type": "Gene"
           },
           "locations": [
            {
             "length": 5,
             "offset": 35494
            }
           ],
           "text": "SIN3A"
          },
          {
           "id": "1193",
           "infons": {
            "identifier": "25942",
            "ncbi_homologene": "32124",
            "type": "Gene"
           },
           "locations": [
            {
             "length": 5,
             "offset": 35688
            }
           ],
           "text": "SIN3A"
          },
          {
           "id": "1194",
           "infons": {
            "identifier": "25942",
            "ncbi_homologene": "32124",
            "type": "Gene"
           },
           "locations": [
            {
             "length": 5,
             "offset": 35829
            }
           ],
           "text": "SIN3A"
          },
          {
           "id": "1195",
           "infons": {
            "identifier": "25942",
            "ncbi_homologene": "32124",
            "type": "Gene"
           },
           "locations": [
            {
             "length": 5,
             "offset": 35890
            }
           ],
           "text": "SIN3A"
          },
          {
           "id": "1196",
           "infons": {
            "identifier": "25942",
            "ncbi_homologene": "32124",
            "type": "Gene"
           },
           "locations": [
            {
             "length": 5,
             "offset": 36102
            }
           ],
           "text": "SIN3A"
          },
          {
           "id": "1197",
           "infons": {
            "identifier": "25942",
            "ncbi_homologene": "32124",
            "type": "Gene"
           },
           "locations": [
            {
             "length": 5,
             "offset": 36222
            }
           ],
           "text": "SIN3A"
          },
          {
           "id": "1198",
           "infons": {
            "identifier": "25942",
            "ncbi_homologene": "32124",
            "type": "Gene"
           },
           "locations": [
            {
             "length": 5,
             "offset": 36400
            }
           ],
           "text": "SIN3A"
          },
          {
           "id": "1199",
           "infons": {
            "identifier": "25942",
            "ncbi_homologene": "32124",
            "type": "Gene"
           },
           "locations": [
            {
             "length": 5,
             "offset": 36540
            }
           ],
           "text": "SIN3A"
          },
          {
           "id": "1200",
           "infons": {
            "identifier": "25942",
            "ncbi_homologene": "32124",
            "type": "Gene"
           },
           "locations": [
            {
             "length": 5,
             "offset": 36727
            }
           ],
           "text": "SIN3A"
          },
          {
           "id": "1201",
           "infons": {
            "identifier": "25942",
            "ncbi_homologene": "32124",
            "type": "Gene"
           },
           "locations": [
            {
             "length": 5,
             "offset": 36791
            }
           ],
           "text": "SIN3A"
          },
          {
           "id": "1202",
           "infons": {
            "identifier": "25942",
            "ncbi_homologene": "32124",
            "type": "Gene"
           },
           "locations": [
            {
             "length": 5,
             "offset": 36898
            }
           ],
           "text": "SIN3A"
          },
          {
           "id": "1203",
           "infons": {
            "identifier": "2099",
            "ncbi_homologene": "47906",
            "type": "Gene"
           },
           "locations": [
            {
             "length": 4,
             "offset": 36931
            }
           ],
           "text": "ESR1"
          },
          {
           "id": "1204",
           "infons": {
            "identifier": "2099",
            "ncbi_homologene": "47906",
            "type": "Gene"
           },
           "locations": [
            {
             "length": 4,
             "offset": 37002
            }
           ],
           "text": "ESR1"
          },
          {
           "id": "1205",
           "infons": {
            "identifier": "2099",
            "ncbi_homologene": "47906",
            "type": "Gene"
           },
           "locations": [
            {
             "length": 4,
             "offset": 37105
            }
           ],
           "text": "ESR1"
          },
          {
           "id": "1206",
           "infons": {
            "identifier": "2099",
            "ncbi_homologene": "47906",
            "type": "Gene"
           },
           "locations": [
            {
             "length": 7,
             "offset": 37130
            }
           ],
           "text": "ERalpha"
          },
          {
           "id": "1207",
           "infons": {
            "identifier": "25942",
            "ncbi_homologene": "32124",
            "type": "Gene"
           },
           "locations": [
            {
             "length": 5,
             "offset": 37278
            }
           ],
           "text": "SIN3A"
          },
          {
           "id": "1208",
           "infons": {
            "identifier": "25942",
            "ncbi_homologene": "32124",
            "type": "Gene"
           },
           "locations": [
            {
             "length": 5,
             "offset": 37370
            }
           ],
           "text": "SIN3A"
          },
          {
           "id": "1209",
           "infons": {
            "identifier": "25942",
            "ncbi_homologene": "32124",
            "type": "Gene"
           },
           "locations": [
            {
             "length": 5,
             "offset": 37571
            }
           ],
           "text": "SIN3A"
          },
          {
           "id": "1210",
           "infons": {
            "identifier": "25942",
            "ncbi_homologene": "32124",
            "type": "Gene"
           },
           "locations": [
            {
             "length": 5,
             "offset": 37713
            }
           ],
           "text": "SIN3A"
          },
          {
           "id": "1211",
           "infons": {
            "identifier": "25942",
            "ncbi_homologene": "32124",
            "type": "Gene"
           },
           "locations": [
            {
             "length": 5,
             "offset": 37876
            }
           ],
           "text": "SIN3A"
          },
          {
           "id": "1212",
           "infons": {
            "identifier": "25942",
            "ncbi_homologene": "32124",
            "type": "Gene"
           },
           "locations": [
            {
             "length": 5,
             "offset": 37992
            }
           ],
           "text": "SIN3A"
          },
          {
           "id": "1213",
           "infons": {
            "identifier": "25942",
            "ncbi_homologene": "32124",
            "type": "Gene"
           },
           "locations": [
            {
             "length": 5,
             "offset": 38014
            }
           ],
           "text": "SIN3A"
          },
          {
           "id": "1214",
           "infons": {
            "identifier": "25942",
            "ncbi_homologene": "32124",
            "type": "Gene"
           },
           "locations": [
            {
             "length": 5,
             "offset": 38114
            }
           ],
           "text": "SIN3A"
          },
          {
           "id": "1215",
           "infons": {
            "identifier": "25942",
            "ncbi_homologene": "32124",
            "type": "Gene"
           },
           "locations": [
            {
             "length": 5,
             "offset": 38271
            }
           ],
           "text": "SIN3A"
          },
          {
           "id": "1216",
           "infons": {
            "identifier": "25942",
            "ncbi_homologene": "32124",
            "type": "Gene"
           },
           "locations": [
            {
             "length": 5,
             "offset": 38362
            }
           ],
           "text": "SIN3A"
          },
          {
           "id": "1217",
           "infons": {
            "identifier": "25942",
            "ncbi_homologene": "32124",
            "type": "Gene"
           },
           "locations": [
            {
             "length": 5,
             "offset": 38482
            }
           ],
           "text": "SIN3A"
          },
          {
           "id": "1218",
           "infons": {
            "identifier": "29278",
            "type": "Species"
           },
           "locations": [
            {
             "length": 10,
             "offset": 36917
            }
           ],
           "text": "expression"
          },
          {
           "id": "1219",
           "infons": {
            "identifier": "29278",
            "type": "Species"
           },
           "locations": [
            {
             "length": 10,
             "offset": 37188
            }
           ],
           "text": "expression"
          },
          {
           "id": "1220",
           "infons": {
            "identifier": "29278",
            "type": "Species"
           },
           "locations": [
            {
             "length": 10,
             "offset": 38100
            }
           ],
           "text": "expression"
          },
          {
           "id": "1221",
           "infons": {
            "identifier": "29278",
            "type": "Species"
           },
           "locations": [
            {
             "length": 10,
             "offset": 38348
            }
           ],
           "text": "expression"
          },
          {
           "id": "1222",
           "infons": {
            "identifier": "p.Q944*",
            "subtype": "ProteinMutation",
            "type": "Mutation"
           },
           "locations": [
            {
             "length": 9,
             "offset": 36816
            }
           ],
           "text": "p.Gln944*"
          },
          {
           "id": "1223",
           "infons": {
            "identifier": "c.2830C>T",
            "subtype": "DNAMutation",
            "type": "Mutation"
           },
           "locations": [
            {
             "length": 10,
             "offset": 36797
            }
           ],
           "text": "c.2830 C>T"
          },
          {
           "id": "1224",
           "infons": {
            "identifier": "MESH:D001943",
            "type": "Disease"
           },
           "locations": [
            {
             "length": 13,
             "offset": 37958
            }
           ],
           "text": "breast cancer"
          },
          {
           "id": "1225",
           "infons": {
            "identifier": "p.Q944*",
            "subtype": "ProteinMutation",
            "type": "Mutation"
           },
           "locations": [
            {
             "length": 9,
             "offset": 37577
            }
           ],
           "text": "p.Gln944*"
          },
          {
           "id": "1226",
           "infons": {
            "identifier": "c.2830C>T",
            "subtype": "DNAMutation",
            "type": "Mutation"
           },
           "locations": [
            {
             "length": 10,
             "offset": 37998
            }
           ],
           "text": "c.2830 C>T"
          },
          {
           "id": "1227",
           "infons": {
            "identifier": "MESH:D001943",
            "type": "Disease"
           },
           "locations": [
            {
             "length": 13,
             "offset": 37677
            }
           ],
           "text": "breast cancer"
          },
          {
           "id": "1228",
           "infons": {
            "identifier": "MESH:D001943",
            "type": "Disease"
           },
           "locations": [
            {
             "length": 14,
             "offset": 37935
            }
           ],
           "text": "breast cancers"
          },
          {
           "id": "1229",
           "infons": {
            "identifier": "MESH:C536751",
            "type": "Disease"
           },
           "locations": [
            {
             "length": 8,
             "offset": 37555
            }
           ],
           "text": "SIN3A-WT"
          },
          {
           "id": "1230",
           "infons": {
            "identifier": "MESH:D001943",
            "type": "Disease"
           },
           "locations": [
            {
             "length": 13,
             "offset": 38200
            }
           ],
           "text": "breast cancer"
          },
          {
           "id": "1231",
           "infons": {
            "identifier": "-",
            "type": "Chemical"
           },
           "locations": [
            {
             "length": 6,
             "offset": 36092
            }
           ],
           "text": "Ile909"
          },
          {
           "id": "1232",
           "infons": {
            "identifier": "p.Q944*",
            "subtype": "ProteinMutation",
            "type": "Mutation"
           },
           "locations": [
            {
             "length": 9,
             "offset": 36418
            }
           ],
           "text": "p.Gln944*"
          },
          {
           "id": "1233",
           "infons": {
            "identifier": "MESH:C538614",
            "type": "Disease"
           },
           "locations": [
            {
             "length": 21,
             "offset": 38437
            }
           ],
           "text": "renal cell carcinomas"
          },
          {
           "id": "1234",
           "infons": {
            "identifier": "MESH:D001943",
            "type": "Disease"
           },
           "locations": [
            {
             "length": 13,
             "offset": 37432
            }
           ],
           "text": "breast cancer"
          },
          {
           "id": "1235",
           "infons": {
            "identifier": "c.2830C>T",
            "subtype": "DNAMutation",
            "type": "Mutation"
           },
           "locations": [
            {
             "length": 10,
             "offset": 36406
            }
           ],
           "text": "c.2830 C>T"
          },
          {
           "id": "1236",
           "infons": {
            "identifier": "MESH:D009369",
            "type": "Disease"
           },
           "locations": [
            {
             "length": 5,
             "offset": 37775
            }
           ],
           "text": "tumor"
          },
          {
           "id": "1237",
           "infons": {
            "identifier": "-",
            "type": "Chemical"
           },
           "locations": [
            {
             "length": 6,
             "offset": 36212
            }
           ],
           "text": "Gln944"
          },
          {
           "id": "1238",
           "infons": {
            "identifier": "MESH:D001943",
            "type": "Disease"
           },
           "locations": [
            {
             "length": 13,
             "offset": 38651
            }
           ],
           "text": "breast cancer"
          },
          {
           "id": "1239",
           "infons": {
            "identifier": "-",
            "type": "Chemical"
           },
           "locations": [
            {
             "length": 6,
             "offset": 36082
            }
           ],
           "text": "Leu902"
          },
          {
           "id": "1240",
           "infons": {
            "identifier": "MESH:C536751",
            "type": "Disease"
           },
           "locations": [
            {
             "length": 8,
             "offset": 36668
            }
           ],
           "text": "SIN3A-WT"
          },
          {
           "id": "1241",
           "infons": {
            "identifier": "p.Q944*",
            "subtype": "ProteinMutation",
            "type": "Mutation"
           },
           "locations": [
            {
             "length": 9,
             "offset": 35394
            }
           ],
           "text": "p.Gln944*"
          },
          {
           "id": "1242",
           "infons": {
            "identifier": "MESH:C536751",
            "type": "Disease"
           },
           "locations": [
            {
             "length": 8,
             "offset": 38070
            }
           ],
           "text": "SIN3A-WT"
          },
          {
           "id": "1243",
           "infons": {
            "identifier": "MESH:C536751",
            "type": "Disease"
           },
           "locations": [
            {
             "length": 8,
             "offset": 36361
            }
           ],
           "text": "SIN3A-WT"
          },
          {
           "id": "1244",
           "infons": {
            "identifier": "p.Q944*",
            "subtype": "ProteinMutation",
            "type": "Mutation"
           },
           "locations": [
            {
             "length": 9,
             "offset": 37376
            }
           ],
           "text": "p.Gln944*"
          },
          {
           "id": "1245",
           "infons": {
            "identifier": "MESH:D001943",
            "type": "Disease"
           },
           "locations": [
            {
             "length": 14,
             "offset": 38324
            }
           ],
           "text": "breast cancers"
          },
          {
           "id": "1246",
           "infons": {
            "identifier": "MESH:D008175",
            "type": "Disease"
           },
           "locations": [
            {
             "length": 16,
             "offset": 38416
            }
           ],
           "text": "cell lung cancer"
          },
          {
           "id": "1247",
           "infons": {
            "identifier": "c.2830C>T",
            "subtype": "DNAMutation",
            "type": "Mutation"
           },
           "locations": [
            {
             "length": 10,
             "offset": 36228
            }
           ],
           "text": "c.2830 C>T"
          }
         ],
         "infons": {
          "section": "Discussion",
          "section_type": "DISCUSS",
          "type": "paragraph"
         },
         "offset": 35206,
         "relations": [],
         "sentences": [],
         "text": "Why does the C-terminal deletion mutant of SIN3A cause cell proliferation? SIN3A should exist in the nucleus in order to execute its transcriptional regulator activity; however, the SIN3A p.Gln944* mutant is also detected in the cytoplasm as shown in Fig. 3F. The nuclear localization of SIN3A without DNA binding activity may be governed by proteins that bind to its C-terminal region because both the C-terminal binding proteins MeCP2 and OGT possess nuclear localization signal. SIN3A has a predicted nuclear localization signal (NLS) between the 2nd and 3rd PAH domains that may play a role in the nuclear transport of SIN3A (Supplementary Fig. 7S). The region around the NLS for SIN3A can bind to various proteins such as p53 and REST, which may mask NLS activity in the nucleus. On the other hand, a predicted nuclear export signal (NES) exists within the sequence from Leu902 to Ile909 of SIN3A, and this signal sequence might be exposed to the C-terminal region by the insertion of a stop codon at Gln944 in SIN3A c.2830 C>T (Supplementary Fig. 7S), although OGT in the region of amino acids 888-967 that includes the NES sequence associates with SIN3A-WT. The cytoplasmic transport of SIN3A c.2830 C>T; p.Gln944* may be mediated by the appearance of the NES sequence due to the deletion of the C-terminal binding region. The SIN3A mutant may localize in the cytoplasm accompanied by HDACs due to the conservation of the HDACs binding region. Endogenous SIN3A-WT is present in cells, but the factors that bind to SIN3A to inhibit transcription may be removed together with the SIN3A c.2830 C>T mutant; p.Gln944* when it moves to the cytoplasm, thus resulting in the loss of function. SIN3A inhibits the expression of ESR1 mRNA through histone deacetylation in the near promoter region of ESR1. The inhibitory pathway is blocked by the cytoplasmic localization, which leads to an increase in ESR1 mRNA. The increased ERalpha trans-activates FOXK2 to repress the massive gene expression; however, the repression is also regulated by the interaction with the nuclear SIN3A complex. The interaction of FOXK2 may be prevented by the cytoplasmic localization of SIN3A p.Gln944*, and thus may cancel the growth inhibition of breast cancer cells. Consistent with this report, cell proliferation was found to be rather suppressed in cells expressing SIN3A-WT, while SIN3A p.Gln944* localized in the cytoplasm, resulted in significantly enhanced cell proliferation. In the breast cancer tissue containing the SIN3A mutant, its distribution was mostly correlated with the tumor regions showing nuclear enlargement as observed in transcriptional activation, indicating that SIN3A mutant plays an important role in the progression of breast cancers. In the breast cancer tissue positive for SIN3A c.2830 C>T, the SIN3A protein appeared to be decreased as compared with SIN3A-WT (Fig. 6A-D). The low expression of SIN3A shifts in the lower direction in the relapse-free survival curve of ER-positive breast cancer (Fig. 6F), indicating that the decrease in the amount of SIN3A mRNA accelerates the recurrence of ER-positive breast cancers. The low expression of SIN3A mRNA also decreases survival rates in non-small cell lung cancer and renal cell carcinomas. In a previous report, SIN3A-knock down cells showed a significant increase in invasive activity, leading to an increased rate of metastasis. Metastasis to other organs may be involved in the breast cancer relapse."
        },
        {
         "annotations": [
          {
           "id": "1253",
           "infons": {
            "identifier": "25942",
            "ncbi_homologene": "32124",
            "type": "Gene"
           },
           "locations": [
            {
             "length": 5,
             "offset": 38699
            }
           ],
           "text": "SIN3A"
          },
          {
           "id": "1254",
           "infons": {
            "identifier": "25942",
            "ncbi_homologene": "32124",
            "type": "Gene"
           },
           "locations": [
            {
             "length": 5,
             "offset": 38979
            }
           ],
           "text": "SIN3A"
          },
          {
           "id": "1255",
           "infons": {
            "identifier": "25942",
            "ncbi_homologene": "32124",
            "type": "Gene"
           },
           "locations": [
            {
             "length": 5,
             "offset": 39063
            }
           ],
           "text": "SIN3A"
          },
          {
           "id": "1256",
           "infons": {
            "identifier": "25942",
            "ncbi_homologene": "32124",
            "type": "Gene"
           },
           "locations": [
            {
             "length": 5,
             "offset": 39124
            }
           ],
           "text": "SIN3A"
          },
          {
           "id": "1257",
           "infons": {
            "identifier": "MESH:D001750",
            "type": "Disease"
           },
           "locations": [
            {
             "length": 55,
             "offset": 38762
            }
           ],
           "text": "disabilities via the reduction of cortical neurogenesis"
          }
         ],
         "infons": {
          "section": "Discussion",
          "section_type": "DISCUSS",
          "type": "paragraph"
         },
         "offset": 38686,
         "relations": [],
         "sentences": [],
         "text": "Mutations in SIN3A have previously been reported to cause mild intellectual disabilities via the reduction of cortical neurogenesis in the brain. Most mutations are nonsense point mutations that lead to the decay of the mRNA product or to large deletions of the genome that includes the whole SIN3A gene, and share the common feature of the absence of the C-terminal region of SIN3A. These observations show that the C-terminal region of SIN3A, including the HCR, plays a critical role in pathogenesis."
        },
        {
         "annotations": [
          {
           "id": "1266",
           "infons": {
            "identifier": "25942",
            "ncbi_homologene": "32124",
            "type": "Gene"
           },
           "locations": [
            {
             "length": 5,
             "offset": 39255
            }
           ],
           "text": "SIN3A"
          },
          {
           "id": "1267",
           "infons": {
            "identifier": "25942",
            "ncbi_homologene": "32124",
            "type": "Gene"
           },
           "locations": [
            {
             "length": 5,
             "offset": 39435
            }
           ],
           "text": "SIN3A"
          },
          {
           "id": "1268",
           "infons": {
            "identifier": "MESH:D001943",
            "type": "Disease"
           },
           "locations": [
            {
             "length": 30,
             "offset": 39444
            }
           ],
           "text": "luminal subtype breast cancers"
          },
          {
           "id": "1269",
           "infons": {
            "identifier": "MESH:D001943",
            "type": "Disease"
           },
           "locations": [
            {
             "length": 14,
             "offset": 39518
            }
           ],
           "text": "breast cancers"
          },
          {
           "id": "1270",
           "infons": {
            "identifier": "MESH:D001943",
            "type": "Disease"
           },
           "locations": [
            {
             "length": 13,
             "offset": 39386
            }
           ],
           "text": "breast cancer"
          },
          {
           "id": "1271",
           "infons": {
            "identifier": "-",
            "type": "Chemical"
           },
           "locations": [
            {
             "length": 6,
             "offset": 39338
            }
           ],
           "text": "Gln944"
          },
          {
           "id": "1272",
           "infons": {
            "identifier": "p.Q944*",
            "subtype": "ProteinMutation",
            "type": "Mutation"
           },
           "locations": [
            {
             "length": 9,
             "offset": 39273
            }
           ],
           "text": "p.Gln944*"
          },
          {
           "id": "1273",
           "infons": {
            "identifier": "c.2830C>T",
            "subtype": "DNAMutation",
            "type": "Mutation"
           },
           "locations": [
            {
             "length": 10,
             "offset": 39261
            }
           ],
           "text": "c.2830 C>T"
          }
         ],
         "infons": {
          "section": "Discussion",
          "section_type": "DISCUSS",
          "type": "paragraph"
         },
         "offset": 39189,
         "relations": [],
         "sentences": [],
         "text": "This is the first study to describe the novel somatic mutation of SIN3A c.2830 C>T; p.Gln944* that causes the deletion of the C-terminal region from Gln944 and contributes to cell proliferation in breast cancer. The transcriptional regulation of SIN3A in luminal subtype breast cancers would provide a new therapeutic target for breast cancers."
        },
        {
         "annotations": [],
         "infons": {
          "section": "Materials and Methods",
          "section_type": "METHODS",
          "type": "title_1"
         },
         "offset": 39536,
         "relations": [],
         "sentences": [],
         "text": "Materials and Methods"
        },
        {
         "annotations": [],
         "infons": {
          "section": "Materials and Methods",
          "section_type": "METHODS",
          "type": "title_2"
         },
         "offset": 39558,
         "relations": [],
         "sentences": [],
         "text": "Materials"
        },
        {
         "annotations": [
          {
           "id": "1281",
           "infons": {
            "identifier": "25942",
            "ncbi_homologene": "32124",
            "type": "Gene"
           },
           "locations": [
            {
             "length": 5,
             "offset": 39573
            }
           ],
           "text": "SIN3A"
          },
          {
           "id": "1282",
           "infons": {
            "identifier": "2099",
            "ncbi_homologene": "47906",
            "type": "Gene"
           },
           "locations": [
            {
             "length": 4,
             "offset": 39619
            }
           ],
           "text": "ESR1"
          },
          {
           "id": "1283",
           "infons": {
            "identifier": "25942",
            "ncbi_homologene": "32124",
            "type": "Gene"
           },
           "locations": [
            {
             "length": 5,
             "offset": 39866
            }
           ],
           "text": "SIN3A"
          },
          {
           "id": "1284",
           "infons": {
            "identifier": "10090",
            "type": "Species"
           },
           "locations": [
            {
             "length": 5,
             "offset": 39579
            }
           ],
           "text": "mouse"
          },
          {
           "id": "1285",
           "infons": {
            "identifier": "9606",
            "type": "Species"
           },
           "locations": [
            {
             "length": 5,
             "offset": 39631
            }
           ],
           "text": "human"
          },
          {
           "id": "1286",
           "infons": {
            "identifier": "29278",
            "type": "Species"
           },
           "locations": [
            {
             "length": 10,
             "offset": 39833
            }
           ],
           "text": "expression"
          },
          {
           "id": "1287",
           "infons": {
            "identifier": "2099",
            "ncbi_homologene": "47906",
            "type": "Gene"
           },
           "locations": [
            {
             "length": 7,
             "offset": 39945
            }
           ],
           "text": "ERalpha"
          }
         ],
         "infons": {
          "section": "Materials and Methods",
          "section_type": "METHODS",
          "type": "paragraph"
         },
         "offset": 39568,
         "relations": [],
         "sentences": [],
         "text": "Anti-SIN3A mouse monoclonal antibody (sc-5299) and ESR1 siRNA (human, sc-29305) were purchased from Santa Cruz (CA). Plasmids pFN21A (G2821) and pMACS4.1 were purchased from Promega (Madison, WI) and (Miltenyi Biotec., Bergisch Gladbach, Germany), respectively. An expression vector of halo-tagged SIN3A was purchased from Kazusa cDNA/ORF clone collection (FHC11647). pEGFP-C1-ERalpha was a gift from Michael Mancini (Addgene plasmid #28230). All other reagents were commercially available."
        },
        {
         "annotations": [],
         "infons": {
          "section": "Materials and Methods",
          "section_type": "METHODS",
          "type": "title_2"
         },
         "offset": 40059,
         "relations": [],
         "sentences": [],
         "text": "Clinical samples"
        },
        {
         "annotations": [
          {
           "id": "1295",
           "infons": {
            "identifier": "9606",
            "type": "Species"
           },
           "locations": [
            {
             "length": 8,
             "offset": 40149
            }
           ],
           "text": "patients"
          },
          {
           "id": "1296",
           "infons": {
            "identifier": "9606",
            "type": "Species"
           },
           "locations": [
            {
             "length": 8,
             "offset": 40416
            }
           ],
           "text": "patients"
          },
          {
           "id": "1297",
           "infons": {
            "identifier": "9606",
            "type": "Species"
           },
           "locations": [
            {
             "length": 8,
             "offset": 40783
            }
           ],
           "text": "patients"
          },
          {
           "id": "1298",
           "infons": {
            "identifier": "MESH:D001943",
            "type": "Disease"
           },
           "locations": [
            {
             "length": 12,
             "offset": 40376
            }
           ],
           "text": "Breast tumor"
          },
          {
           "id": "1299",
           "infons": {
            "identifier": "MESH:D009369",
            "type": "Disease"
           },
           "locations": [
            {
             "length": 5,
             "offset": 40599
            }
           ],
           "text": "tumor"
          },
          {
           "id": "1300",
           "infons": {
            "identifier": "MESH:D009369",
            "type": "Disease"
           },
           "locations": [
            {
             "length": 6,
             "offset": 40587
            }
           ],
           "text": "tumors"
          },
          {
           "id": "1301",
           "infons": {
            "identifier": "MESH:D009369",
            "type": "Disease"
           },
           "locations": [
            {
             "length": 6,
             "offset": 40531
            }
           ],
           "text": "tumors"
          }
         ],
         "infons": {
          "section": "Materials and Methods",
          "section_type": "METHODS",
          "type": "paragraph"
         },
         "offset": 40076,
         "relations": [],
         "sentences": [],
         "text": "The informed consent regarding the use of samples were received from all patients, and the protocol was approved by the Local Ethics Committee of Yamaguchi University School of Medicine. All the experiments were carried out in accordance with the guideline and regulations from Yamaguchi University. Breast tumor samples were obtained from patients ranging in age from 35 to 84 years (58.2 +- 12.6, mean +- SD, n = 16) who underwent surgery to remove the tumors. The samples were confirmed pathologically to be tumors. The tumor samples were divided sequentially in the operating room, and representative segments were excised and preserved at -80  C until processing. Whole blood cells were collected from patients prior to surgery."
        },
        {
         "annotations": [
          {
           "id": "1303",
           "infons": {
            "identifier": "MESH:D001943",
            "type": "Disease"
           },
           "locations": [
            {
             "length": 13,
             "offset": 40880
            }
           ],
           "text": "breast cancer"
          }
         ],
         "infons": {
          "section": "Materials and Methods",
          "section_type": "METHODS",
          "type": "title_2"
         },
         "offset": 40827,
         "relations": [],
         "sentences": [],
         "text": "Measurements of mRNAs for conventional biomarkers in breast cancer tissues"
        },
        {
         "annotations": [
          {
           "id": "1310",
           "infons": {
            "identifier": "2099",
            "ncbi_homologene": "47906",
            "type": "Gene"
           },
           "locations": [
            {
             "length": 4,
             "offset": 41753
            }
           ],
           "text": "ESR1"
          },
          {
           "id": "1311",
           "infons": {
            "identifier": "5241",
            "ncbi_homologene": "713",
            "type": "Gene"
           },
           "locations": [
            {
             "length": 3,
             "offset": 41759
            }
           ],
           "text": "PGR"
          },
          {
           "id": "1312",
           "infons": {
            "identifier": "2064",
            "ncbi_homologene": "3273",
            "type": "Gene"
           },
           "locations": [
            {
             "length": 4,
             "offset": 41768
            }
           ],
           "text": "HER2"
          },
          {
           "id": "1313",
           "infons": {
            "identifier": "29278",
            "type": "Species"
           },
           "locations": [
            {
             "length": 10,
             "offset": 41732
            }
           ],
           "text": "expression"
          },
          {
           "id": "1314",
           "infons": {
            "identifier": "MESH:D001943",
            "type": "Disease"
           },
           "locations": [
            {
             "length": 13,
             "offset": 40982
            }
           ],
           "text": "breast cancer"
          },
          {
           "id": "1315",
           "infons": {
            "identifier": "MESH:D010278",
            "type": "Chemical"
           },
           "locations": [
            {
             "length": 5,
             "offset": 41538
            }
           ],
           "text": "dNTPs"
          }
         ],
         "infons": {
          "section": "Materials and Methods",
          "section_type": "METHODS",
          "type": "paragraph"
         },
         "offset": 40902,
         "relations": [],
         "sentences": [],
         "text": "mRNA measurements were carried out as described previously. Briefly, the frozen breast cancer tissues were minced, placed into a tube containing beads, and homogenized in 9 volumes of lysis buffer with a Retsch MM300 (Qiagen, Hilden, Germany) mixer mill. After the removal of the beads, the samples were centrifuged at 12,000 xg for 20 min at 4  C, and the supernatants were immediately used for total RNA extraction. Total RNA was isolated using the RNeasy mini kit (Qiagen) as described previously. Five hundred nanograms of total RNA were added to mixtures of 2.5 microM random primer 9 (NewEngland Biolabs, Beverly, MA), 500 microM dNTPs, 40 U RNase inhibitor (Takara Bio. Inc., Shiga, Japan) and 10 U M-MuLV reverse transcriptase (NewEngland Biolabs), and incubated at 42  C for 60 min and then at 90  C for 10 min. The mRNA expression values of ESR1, PGR, and HER2 were measured by a Quanti Tect SYBR Green PCR kit (Qiagen) with a Rotor-gene 6000 (Qiagen) at 95  C for 15 min, followed by 45 cycles of 94  C for 15 sec, 55  C for 30 sec and 72  C for 30 sec. The primers used for quantitative PCR (qPCR) are shown in Supplementary Table 10S. The calculated data were normalized to the values for the GAPDH used as a control gene."
        },
        {
         "annotations": [],
         "infons": {
          "section": "Materials and Methods",
          "section_type": "METHODS",
          "type": "title_2"
         },
         "offset": 42172,
         "relations": [],
         "sentences": [],
         "text": "Library preparation for WES by SOLiD5500"
        },
        {
         "annotations": [
          {
           "id": "1317",
           "infons": {
            "identifier": "MESH:D009369",
            "type": "Disease"
           },
           "locations": [
            {
             "length": 6,
             "offset": 42250
            }
           ],
           "text": "tumors"
          }
         ],
         "infons": {
          "section": "Materials and Methods",
          "section_type": "METHODS",
          "type": "paragraph"
         },
         "offset": 42213,
         "relations": [],
         "sentences": [],
         "text": "Genomic DNAs were extracted from the tumors and whole blood cells using a PureLink Genomic DNA mini kit (Thermo Fisher Scientific, MA) according to the manufacturer's instructions. The genomic DNAs were used for the preparation of a fragment library by the 5500 SOLiD fragment library core kit (Thermo Fisher Scientific). Briefly, 1 microg or 3 microg of genomic DNA was sheared using the Covaris  S220 System (Covaris Inc, MA) for 60 sec with a duty cycle of 10%, 6 cycles, 100 cycles/burst at 5  C. The shearing DNA was repaired at the ends, and the DNA was purified using agencourt AMPure  XP reagent (BeckmanCaulter, CA) to prepare DNA fragments with a size range of 100-300 bp. The adaptors were ligated to both ends of the DNA to generate a fragment library. The fragment library was purified by agencourt AMPure  XP reagent. The purified library was amplified by PCR using Platinum PCR amplification mix. PCR was performed at 95  C for 5 min, 6 cycles of 95  C for 15 sec, 62  C for 15 sec and 70  C for 1 min, and 70  C for 5 min. The amplified fragment library was purified, and the concentration was measured by qPCR with TaqMan probes. The length of the amplified fragment library was confirmed on an Agilent 2100 Bioanalyzer (Agilent, CA) using a high-sensitivity DNA kit (Agilent). The size of the DNA fragments ranged from 200 bp to 400 bp with a mean size of 270 bp."
        },
        {
         "annotations": [],
         "infons": {
          "section": "Materials and Methods",
          "section_type": "METHODS",
          "type": "title_2"
         },
         "offset": 43638,
         "relations": [],
         "sentences": [],
         "text": "WES analysis by SOLiD5500"
        },
        {
         "annotations": [
          {
           "id": "1321",
           "infons": {
            "identifier": "11169",
            "ncbi_homologene": "56019",
            "type": "Gene"
           },
           "locations": [
            {
             "length": 15,
             "offset": 43969
            }
           ],
           "text": "Cot-1 DNA and 1"
          },
          {
           "id": "1322",
           "infons": {
            "identifier": "9606",
            "type": "Species"
           },
           "locations": [
            {
             "length": 5,
             "offset": 43963
            }
           ],
           "text": "human"
          },
          {
           "id": "1323",
           "infons": {
            "identifier": "c.delCT",
            "subtype": "DNAMutation",
            "type": "Mutation"
           },
           "locations": [
            {
             "length": 7,
             "offset": 46162
            }
           ],
           "text": "DeltaCT"
          }
         ],
         "infons": {
          "section": "Materials and Methods",
          "section_type": "METHODS",
          "type": "paragraph"
         },
         "offset": 43664,
         "relations": [],
         "sentences": [],
         "text": "The enrichment of the library including exon regions was performed using the TargetSeq  exome enrichment system (Thermo Fisher Scientific) according to the manufacturer's protocol. Briefly, 500 ng of the fragment library was added into a 1.5-ml tube containing reaction mixture including 0.5 microl human Cot-1 DNA and 1 nmol TargetSeq  blockers. The mixture was dried with a vacuum concentrator at 60  C, and then the mixture including 7.5 microl of TargetSeq  hybridization solution A and 3 microl of TargetSeq  hybridization enhancer B was added into the tube including the dried sample. The sample was denatured by incubating at 95  C for 10 min, and then combined with 4.5 microl TargetSeq  exome probe pool including biotinylated oligos ranging in size from 50 to 120 bases. The reaction mixture was incubated on a thermal cycler at 47  C for 72 hrs. The hybridized DNA was isolated using streptavidin-coated magnetic beads, and then amplified by PCR. PCR was performed at 95  C for 5 min, 10 cycles of 95  C for 15 sec, 62  C for 15 sec and 70  C for 1 min, and 70  C for 5 min. The amplified DNA was purified by agencourt AMPure  XP reagent, and the concentration was determined by quantitative PCR with TaqMan probes. The length of the hybridized DNA was confirmed with the Agilent 2100 bioanalyzer using a high-sensitivity DNA kit. The size of the DNA ranged from 200 bp to 400 bp, with an average of fragment size of approximately 270 bp. The enrichment of the exon regions was confirmed by qPCR using primer pairs for 4 genes (RUNX2, PRKG1, SMG1, PLAU) as positive controls and 2 genes (PLAU-3'UTR, PLAU-Promoter) as negative controls. The qPCR of the regions was performed with a Rotor-Gene 6000 (Qiagen) using a QuantiTect SYBR Green Kit (Qiagen) in the presence of the following primers: forward primer 5'-CGC ATT CCT CAT CCC AGT ATG-3' and reverse primer 5'-AAA GGA CTT GGT GCA GAG TTC AG-3' for RUNX2, forward primer 5'-CCC ACC GCC TTC GAC AT-3' and reverse primer 5'-CCT GCT TAC TGT GGG CTC TTG-3' for PRKG1, forward primer 5'-CTC GCT TAA CCA GAC TCA TCT ACT GT-3' and reverse primer 5'-ACT TGG CTC AGC TGT ATG AAG GT-3' for SMG1, forward primer 5'-GTG GCC AAA AGA CTC TGA GG-3' and reverse primer 5'-CCT CCA CAC ACG TAG GTG AC-3' for PLAU, forward primer 5'-CAA ATC TCC CTG GTG CTT GT-3' and reverse primer 5'-CCT GCC CTA CAG CTC TCC TA-3' for PLAU-3'UTR, forward primer 5'-AGC TGG GCG AGG TAG AGA GT-3' and reverse primer 5'-CAG CGT CTG GAC TGA GGA AT-3' for PLAU-Promoter. The DeltaCT for the six loci was calculated by subtracting the CT value of the exon-enriched DNA library from the CT value of the unenriched DNA library, and the DNA libraries concentrated more than 48% in the exon regions were used for emulsion PCR reaction. After emulsion PCR was performed using 0.7 pM of DNA library, the emulsions were broken and the beads attaching the amplified DNA were collected. Approximately 280 million beads per lane were applied to the flowchip in a SOLiD5500 (Thermo Fisher Scientific)."
        },
        {
         "annotations": [
          {
           "id": "1326",
           "infons": {
            "identifier": "29278",
            "type": "Species"
           },
           "locations": [
            {
             "length": 10,
             "offset": 46838
            }
           ],
           "text": "expression"
          },
          {
           "id": "1327",
           "infons": {
            "identifier": "MESH:D001943",
            "type": "Disease"
           },
           "locations": [
            {
             "length": 14,
             "offset": 46813
            }
           ],
           "text": "breast cancers"
          }
         ],
         "infons": {
          "section": "Materials and Methods",
          "section_type": "METHODS",
          "type": "title_2"
         },
         "offset": 46779,
         "relations": [],
         "sentences": [],
         "text": "Detection of somatic mutations in breast cancers with high expression of ERalpha"
        },
        {
         "annotations": [
          {
           "id": "1329",
           "infons": {
            "identifier": "9606",
            "type": "Species"
           },
           "locations": [
            {
             "length": 5,
             "offset": 47358
            }
           ],
           "text": "human"
          }
         ],
         "infons": {
          "section": "Materials and Methods",
          "section_type": "METHODS",
          "type": "paragraph"
         },
         "offset": 46860,
         "relations": [],
         "sentences": [],
         "text": "The raw data of the XSQ format obtained from the sequencer were converted to a csfasta file and a quality file by XSQTools (Thermo Fisher Scientific). Reads with more than 2 ambiguous nucleotides and reads with quality scores less than 20 as calculated by the Phred program were removed using CLC Genomics Workbench software (ver.8.01, Qiagen). Long reads with more than 1000 nucleotides and short reads with fewer than 20 nucleotides were also discarded. The trimmed reads were mapped to the NCBI human reference genome hg19 in default setting. Briefly, the reads were aligned to reference using the setting conditions with mismatch cost of 2, insertion cost of 3, and deletion cost of 3. In addition, the reads were mapped when at least half of the alignment matched the reference sequence (length fraction of 0.5), and the matched alignment was at least 80% identical to the reference sequences (similarity fraction of 0.8), and non-specifically matched reads were mapped randomly. To detect a point mutation, the length fraction was changed to 1.0 and the similarity fraction to 0.98. Using the mapping files, single nucleotide variants (SNVs) were detected using CLC Genomics Workbench. Briefly, SNVs were detected according to the following criteria: coverage at the genomic position more than 5; base quality of variant position higher than 20; at least 2% of the total reads detected as a variant; and more than 4 reads observed as a variant. The annotation of detected variants was analyzed using CLC Genomics workbench software. To detect non-synonymous somatic mutations, the synonymous variants were removed, and the known SNVs in dbSNP common database (ver.150) and the variants detected by WES in blood samples were also removed. In cases for which blood samples were unavailable, the somatic mutations were determined by subtraction of the data for the other whole blood samples used in this study and the variant database of dbSNP (common, ver.150). The remaining variants were annotated with the gene names listed in the TargetSeq BED file (Thermo Fisher Scientific)."
        },
        {
         "annotations": [
          {
           "id": "1332",
           "infons": {
            "identifier": "2099",
            "ncbi_homologene": "47906",
            "type": "Gene"
           },
           "locations": [
            {
             "length": 7,
             "offset": 48958
            }
           ],
           "text": "ERalpha"
          },
          {
           "id": "1333",
           "infons": {
            "identifier": "MESH:D001943",
            "type": "Disease"
           },
           "locations": [
            {
             "length": 14,
             "offset": 49009
            }
           ],
           "text": "breast cancers"
          }
         ],
         "infons": {
          "section": "Materials and Methods",
          "section_type": "METHODS",
          "type": "title_2"
         },
         "offset": 48945,
         "relations": [],
         "sentences": [],
         "text": "Selection of ERalpha-associated genes from somatic mutations of breast cancers"
        },
        {
         "annotations": [
          {
           "id": "1340",
           "infons": {
            "identifier": "2099",
            "ncbi_homologene": "47906",
            "type": "Gene"
           },
           "locations": [
            {
             "length": 7,
             "offset": 49182
            }
           ],
           "text": "ERalpha"
          },
          {
           "id": "1341",
           "infons": {
            "identifier": "2099",
            "ncbi_homologene": "47906",
            "type": "Gene"
           },
           "locations": [
            {
             "length": 4,
             "offset": 49203
            }
           ],
           "text": "ESR1"
          },
          {
           "id": "1342",
           "infons": {
            "identifier": "2099",
            "ncbi_homologene": "47906",
            "type": "Gene"
           },
           "locations": [
            {
             "length": 7,
             "offset": 49461
            }
           ],
           "text": "ERalpha"
          },
          {
           "id": "1343",
           "infons": {
            "identifier": "2099",
            "ncbi_homologene": "47906",
            "type": "Gene"
           },
           "locations": [
            {
             "length": 4,
             "offset": 49571
            }
           ],
           "text": "ESR1"
          },
          {
           "id": "1344",
           "infons": {
            "identifier": "2099",
            "ncbi_homologene": "47906",
            "type": "Gene"
           },
           "locations": [
            {
             "length": 7,
             "offset": 49028
            }
           ],
           "text": "ERalpha"
          },
          {
           "id": "1345",
           "infons": {
            "identifier": "MESH:D001943",
            "type": "Disease"
           },
           "locations": [
            {
             "length": 14,
             "offset": 49106
            }
           ],
           "text": "breast cancers"
          }
         ],
         "infons": {
          "section": "Materials and Methods",
          "section_type": "METHODS",
          "type": "paragraph"
         },
         "offset": 49024,
         "relations": [],
         "sentences": [],
         "text": "The ERalpha-associated genes were selected from the somatic mutations detected in breast cancers using IPA (Qiagen). The lists of gene groups associated with ERalpha (gene symbol ESR1) were produced using the SEARCH function of the Ingenuity Knowledge Base containing approximately 5 million data sets extracted from scientific publications and databases. Based on the lists, the network between the genes with the somatic mutations and ERalpha-associated genes was reconstituted using the GROW function of the BUILT menu in the IPA software. The ESR1 gene was entered as GROW molecules. Both direct and indirect interactions for interaction were selected, and both upstream and downstream molecules for molecules were entered. The search molecules were limited to the list of somatic mutations in this study. For other parameters, the default settings were used in the IPA pathway search."
        },
        {
         "annotations": [
          {
           "id": "1347",
           "infons": {
            "identifier": "2099",
            "ncbi_homologene": "47906",
            "type": "Gene"
           },
           "locations": [
            {
             "length": 7,
             "offset": 49960
            }
           ],
           "text": "ERalpha"
          }
         ],
         "infons": {
          "section": "Materials and Methods",
          "section_type": "METHODS",
          "type": "title_2"
         },
         "offset": 49914,
         "relations": [],
         "sentences": [],
         "text": "Confirmation of somatic mutations in selected ERalpha-associated genes by target re-sequencing"
        },
        {
         "annotations": [
          {
           "id": "1350",
           "infons": {
            "identifier": "2099",
            "ncbi_homologene": "47906",
            "type": "Gene"
           },
           "locations": [
            {
             "length": 7,
             "offset": 50083
            }
           ],
           "text": "ERalpha"
          },
          {
           "id": "1351",
           "infons": {
            "identifier": "-",
            "type": "Chemical"
           },
           "locations": [
            {
             "length": 10,
             "offset": 51195
            }
           ],
           "text": "SYBR Green"
          }
         ],
         "infons": {
          "section": "Materials and Methods",
          "section_type": "METHODS",
          "type": "paragraph"
         },
         "offset": 50009,
         "relations": [],
         "sentences": [],
         "text": "To confirm the mutations, 359 regions including the point mutation in the ERalpha-associated genes were amplified by multiplex PCR using primer sets designed with an Ion AmpliSeq Designer (http://ampliseq.com). The sequences of the amplicons were analyzed by the Ion PGM system. Briefly, 10 ng of genomic DNA was amplified by 17 cycles of PCR at 99  C for 15 sec and at 60  C for 4 min after incubation at 99  C for 2 min using the Ion AmpliSeq HiFi in the Ion AmpliSeq Library kit 2.0 (Thermo Fisher Scientific) with primer sets as shown in Supplementary Table 2S. The PCR products were incubated with 2 microl of FuPa reagent to partially digest the primer sequences at 50  C for 10 min, 55  C for 10 min and 60  C for 20 min, and then were ligated to P1 adaptor and barcode adaptors from the IonXpress Barcode adaptors 1-16 kit (Thermo Fisher Scientific). After ligation, the libraries were purified by agencourt AMPure  XP reagent, and amplified by PCR using Platinum  PCR supermix high fidelity mix (Thermo Fisher Scientific) at 98  C for 2 min, 5 cycles of 98  C for 15 sec and 60  C for 1 min. The concentration of the amplified library was quantified by qPCR using a QuantiTect SYBR Green Kit and the length was measured with an Agilent 2100 Bioanalyzer using a high-sensitivity DNA kit. The size of the libraries ranged from 250 bp to 360 bp with a mean fragment size of approximately 320 bp. After quantification, the libraries were diluted to 20 pM, and then equal volumes of the libraries were combined. The library mixture was amplified by emulsion PCR and loaded on an Ion 318 Chip v2 BC (Thermo Fisher Scientific) using Ion Chef system (Thermo Fisher Scientific). The DNAs on the chip were analyzed with an Ion PGM IC sequencing reagent kit (Thermo Fisher Scientific) using the Ion PGM sequencer."
        },
        {
         "annotations": [
          {
           "id": "1353",
           "infons": {
            "identifier": "9606",
            "type": "Species"
           },
           "locations": [
            {
             "length": 5,
             "offset": 52084
            }
           ],
           "text": "human"
          }
         ],
         "infons": {
          "section": "Materials and Methods",
          "section_type": "METHODS",
          "type": "paragraph"
         },
         "offset": 51875,
         "relations": [],
         "sentences": [],
         "text": "The raw data of the sequences were converted to sequence reads, and adaptor sequences and low quality bases were removed using Torrent suite software (ver. 4.2.1). The processed reads were aligned to the NCBI human reference genome hg19 using a Torrent mapping alignment program. The variants were detected under the following conditions: more than 20 for coverage, higher than 10 for read quality, at least 2% of variants for the total reads, and more than 4 of the variant coverage on either strand using Torrent variant caller plugin software."
        },
        {
         "annotations": [
          {
           "id": "1355",
           "infons": {
            "identifier": "25942",
            "ncbi_homologene": "32124",
            "type": "Gene"
           },
           "locations": [
            {
             "length": 5,
             "offset": 52460
            }
           ],
           "text": "SIN3A"
          }
         ],
         "infons": {
          "section": "Materials and Methods",
          "section_type": "METHODS",
          "type": "title_2"
         },
         "offset": 52422,
         "relations": [],
         "sentences": [],
         "text": "Confirmation of a somatic mutation in SIN3A by Sanger sequencing"
        },
        {
         "annotations": [
          {
           "id": "1358",
           "infons": {
            "identifier": "25942",
            "ncbi_homologene": "32124",
            "type": "Gene"
           },
           "locations": [
            {
             "length": 5,
             "offset": 52701
            }
           ],
           "text": "SIN3A"
          },
          {
           "id": "1359",
           "infons": {
            "identifier": "MESH:D001943",
            "type": "Disease"
           },
           "locations": [
            {
             "length": 13,
             "offset": 52514
            }
           ],
           "text": "breast cancer"
          }
         ],
         "infons": {
          "section": "Materials and Methods",
          "section_type": "METHODS",
          "type": "paragraph"
         },
         "offset": 52487,
         "relations": [],
         "sentences": [],
         "text": "Genome DNAs extracted from breast cancer tissues were amplified by PCR using primers 5'-TGCGTCCACAGTACCAACC-3' and 5'-ATTTGTTCCCAAGCCGAACG-3' for the region from 75684340 to 75684709 on chromosome 15 including the SIN3A mutation. The PCR products were incubated at 37  C for 20 min in a mixture of 5 U of exonuclease I (NewEngland Biolabs) and shrimp alkaline phosphatase (TaKaRa Bio. Inc.), and were purified using a BigDye Xterminator  purification kit (Thermo Fisher Scientific). The purified PCR products were sequenced using a BigDye Terminator v3.1 cycle sequencing kit (Thermo Fisher Scientific) and analyzed on a 3130xl genetic analyzer (Thermo Fisher Scientific)."
        },
        {
         "annotations": [
          {
           "id": "1363",
           "infons": {
            "identifier": "25942",
            "ncbi_homologene": "32124",
            "type": "Gene"
           },
           "locations": [
            {
             "length": 5,
             "offset": 53213
            }
           ],
           "text": "SIN3A"
          },
          {
           "id": "1364",
           "infons": {
            "identifier": "29278",
            "type": "Species"
           },
           "locations": [
            {
             "length": 10,
             "offset": 53177
            }
           ],
           "text": "Expression"
          },
          {
           "id": "1365",
           "infons": {
            "identifier": "CVCL:0031",
            "type": "CellLine"
           },
           "locations": [
            {
             "length": 4,
             "offset": 53222
            }
           ],
           "text": "MCF7"
          }
         ],
         "infons": {
          "section": "Materials and Methods",
          "section_type": "METHODS",
          "type": "title_2"
         },
         "offset": 53177,
         "relations": [],
         "sentences": [],
         "text": "Expression of a somatic mutation of SIN3A in MCF7 cells"
        },
        {
         "annotations": [
          {
           "id": "1392",
           "infons": {
            "identifier": "25942",
            "ncbi_homologene": "32124",
            "type": "Gene"
           },
           "locations": [
            {
             "length": 5,
             "offset": 53455
            }
           ],
           "text": "SIN3A"
          },
          {
           "id": "1393",
           "infons": {
            "identifier": "920",
            "ncbi_homologene": "513",
            "type": "Gene"
           },
           "locations": [
            {
             "length": 3,
             "offset": 54291
            }
           ],
           "text": "CD4"
          },
          {
           "id": "1394",
           "infons": {
            "identifier": "920",
            "ncbi_homologene": "513",
            "type": "Gene"
           },
           "locations": [
            {
             "length": 3,
             "offset": 54723
            }
           ],
           "text": "CD4"
          },
          {
           "id": "1395",
           "infons": {
            "identifier": "25942",
            "ncbi_homologene": "32124",
            "type": "Gene"
           },
           "locations": [
            {
             "length": 5,
             "offset": 53280
            }
           ],
           "text": "SIN3A"
          },
          {
           "id": "1396",
           "infons": {
            "identifier": "562",
            "type": "Species"
           },
           "locations": [
            {
             "length": 16,
             "offset": 53962
            }
           ],
           "text": "Escherichia coli"
          },
          {
           "id": "1397",
           "infons": {
            "identifier": "29278",
            "type": "Species"
           },
           "locations": [
            {
             "length": 18,
             "offset": 54453
            }
           ],
           "text": "expression vectors"
          },
          {
           "id": "1398",
           "infons": {
            "identifier": "29278",
            "type": "Species"
           },
           "locations": [
            {
             "length": 10,
             "offset": 53237
            }
           ],
           "text": "expression"
          },
          {
           "id": "1399",
           "infons": {
            "identifier": "29278",
            "type": "Species"
           },
           "locations": [
            {
             "length": 10,
             "offset": 53422
            }
           ],
           "text": "expression"
          },
          {
           "id": "1400",
           "infons": {
            "identifier": "29278",
            "type": "Species"
           },
           "locations": [
            {
             "length": 10,
             "offset": 54295
            }
           ],
           "text": "expression"
          },
          {
           "id": "1401",
           "infons": {
            "identifier": "668369",
            "type": "Species"
           },
           "locations": [
            {
             "length": 8,
             "offset": 53946
            }
           ],
           "text": "DH5alpha"
          },
          {
           "id": "1402",
           "infons": {
            "identifier": "c.2830C>T",
            "subtype": "DNAMutation",
            "type": "Mutation"
           },
           "locations": [
            {
             "length": 10,
             "offset": 53286
            }
           ],
           "text": "c.2830 C>T"
          },
          {
           "id": "1403",
           "infons": {
            "identifier": "MESH:D004492",
            "type": "Chemical"
           },
           "locations": [
            {
             "length": 4,
             "offset": 54833
            }
           ],
           "text": "EDTA"
          },
          {
           "id": "1404",
           "infons": {
            "identifier": "-",
            "type": "Chemical"
           },
           "locations": [
            {
             "length": 3,
             "offset": 54205
            }
           ],
           "text": "CO2"
          },
          {
           "id": "1405",
           "infons": {
            "identifier": "CVCL:0031",
            "type": "CellLine"
           },
           "locations": [
            {
             "length": 4,
             "offset": 54035
            }
           ],
           "text": "MCF7"
          },
          {
           "id": "1406",
           "infons": {
            "identifier": "-",
            "type": "Chemical"
           },
           "locations": [
            {
             "length": 11,
             "offset": 54063
            }
           ],
           "text": "DMEM medium"
          },
          {
           "id": "1407",
           "infons": {
            "identifier": "MESH:D005198",
            "type": "Disease"
           },
           "locations": [
            {
             "length": 3,
             "offset": 54114
            }
           ],
           "text": "FBS"
          },
          {
           "id": "1408",
           "infons": {
            "identifier": "CVCL:0031",
            "type": "CellLine"
           },
           "locations": [
            {
             "length": 4,
             "offset": 54493
            }
           ],
           "text": "MCF7"
          },
          {
           "id": "1409",
           "infons": {
            "identifier": "MESH:D010406",
            "type": "Chemical"
           },
           "locations": [
            {
             "length": 10,
             "offset": 54131
            }
           ],
           "text": "penicillin"
          },
          {
           "id": "1410",
           "infons": {
            "identifier": "MESH:D012436",
            "type": "Chemical"
           },
           "locations": [
            {
             "length": 20,
             "offset": 53543
            }
           ],
           "text": "S-adenosylmethionine"
          },
          {
           "id": "1411",
           "infons": {
            "identifier": "-",
            "type": "Chemical"
           },
           "locations": [
            {
             "length": 25,
             "offset": 54796
            }
           ],
           "text": "phosphate-buffered saline"
          },
          {
           "id": "1412",
           "infons": {
            "identifier": "MESH:C536751",
            "type": "Disease"
           },
           "locations": [
            {
             "length": 8,
             "offset": 53346
            }
           ],
           "text": "SIN3A-WT"
          },
          {
           "id": "1413",
           "infons": {
            "identifier": "-",
            "type": "Chemical"
           },
           "locations": [
            {
             "length": 3,
             "offset": 54823
            }
           ],
           "text": "PBS"
          },
          {
           "id": "1414",
           "infons": {
            "identifier": "CVCL:0031",
            "type": "CellLine"
           },
           "locations": [
            {
             "length": 4,
             "offset": 54437
            }
           ],
           "text": "MCF7"
          },
          {
           "id": "1415",
           "infons": {
            "identifier": "-",
            "type": "Chemical"
           },
           "locations": [
            {
             "length": 5,
             "offset": 54271
            }
           ],
           "text": "pMACS"
          },
          {
           "id": "1416",
           "infons": {
            "identifier": "MESH:D013307",
            "type": "Chemical"
           },
           "locations": [
            {
             "length": 12,
             "offset": 54159
            }
           ],
           "text": "streptomycin"
          },
          {
           "id": "1417",
           "infons": {
            "identifier": "p.Q944*",
            "subtype": "ProteinMutation",
            "type": "Mutation"
           },
           "locations": [
            {
             "length": 9,
             "offset": 53298
            }
           ],
           "text": "p.Gln944*"
          }
         ],
         "infons": {
          "section": "Materials and Methods",
          "section_type": "METHODS",
          "type": "paragraph"
         },
         "offset": 53233,
         "relations": [],
         "sentences": [],
         "text": "The expression vector for the somatic mutation SIN3A c.2830 C>T; p.Gln944* was produced by introduction into the SIN3A-WT by site-directed mutagenesis as described previously. Briefly, the expression vector of halo-tagged SIN3A was methylated with CpG methyltransferase (NewEngland Biolabs) in the presence of S-adenosylmethionine (NewEngland Biolabs), and then amplified by PCR using Taq polymerase (KOD Plus Neo, Toyobo, Osaka, Japan) with primers for mutagenesis as shown below at 95  C for 2 min, 20 cycles of 98  C for 10 sec and 68  C for 5 min. Primers used for mutagenesis were 5'-AGAGTGACAGCCCTGCCATTTAGCTACGTCT-3' and 5'-AATGGCAGGGCTGTCACTCTTGTCTCGCTT-3'. The PCR products were selectively amplified in DH5alpha strain Escherichia coli. The point mutation was confirmed by Sanger sequencing. MCF7 cells were cultured in DMEM medium supplemented with 10% heat-inactivated FBS, 100 U/ml of penicillin and 100 mg/ml of streptomycin in a humidified atmosphere of 5% CO2 in air at 37  C. Total 1 microg of the indicated vectors with pMACS 4.1 truncated CD4 expression and pGFP vector was added to 10 microl of solution R in a Neon transfection kit (Thermo Fisher Scientific) containing 1.0 x 106 of MCF7 cells. The expression vectors were introduced into MCF7 cells with a Neon electroporator (Thermo Fisher Scientific) under the experimental conditions of 2 pulses with a width of 20 and voltage at 1250, and subsequently seeded on a culture plate. The cells were incubated with anti-CD4 antibody magnet beads (Miltenyi Biotec.) after the dissociation with phosphate-buffered saline (PBS) with EDTA buffer, and were separated with an autoMACS pro (Miltenyi Biotec.) after 24 hrs of transfection."
        },
        {
         "annotations": [
          {
           "id": "1422",
           "infons": {
            "identifier": "2099",
            "ncbi_homologene": "47906",
            "type": "Gene"
           },
           "locations": [
            {
             "length": 4,
             "offset": 54980
            }
           ],
           "text": "ESR1"
          },
          {
           "id": "1423",
           "infons": {
            "identifier": "25942",
            "ncbi_homologene": "32124",
            "type": "Gene"
           },
           "locations": [
            {
             "length": 5,
             "offset": 54993
            }
           ],
           "text": "SIN3A"
          },
          {
           "id": "1424",
           "infons": {
            "identifier": "CVCL:0031",
            "type": "CellLine"
           },
           "locations": [
            {
             "length": 4,
             "offset": 55019
            }
           ],
           "text": "MCF7"
          },
          {
           "id": "1425",
           "infons": {
            "identifier": "p.Q944*",
            "subtype": "ProteinMutation",
            "type": "Mutation"
           },
           "locations": [
            {
             "length": 9,
             "offset": 54999
            }
           ],
           "text": "p.Gln944*"
          }
         ],
         "infons": {
          "section": "Materials and Methods",
          "section_type": "METHODS",
          "type": "title_2"
         },
         "offset": 54965,
         "relations": [],
         "sentences": [],
         "text": "Measurement of ESR1 mRNA in SIN3A p.Gln944*-expressed MCF7 cells"
        },
        {
         "annotations": [
          {
           "id": "1429",
           "infons": {
            "identifier": "2099",
            "ncbi_homologene": "47906",
            "type": "Gene"
           },
           "locations": [
            {
             "length": 4,
             "offset": 55459
            }
           ],
           "text": "ESR1"
          },
          {
           "id": "1430",
           "infons": {
            "identifier": "CVCL:0031",
            "type": "CellLine"
           },
           "locations": [
            {
             "length": 4,
             "offset": 55058
            }
           ],
           "text": "MCF7"
          },
          {
           "id": "1431",
           "infons": {
            "identifier": "MESH:D010278",
            "type": "Chemical"
           },
           "locations": [
            {
             "length": 5,
             "offset": 55277
            }
           ],
           "text": "dNTPs"
          }
         ],
         "infons": {
          "section": "Materials and Methods",
          "section_type": "METHODS",
          "type": "paragraph"
         },
         "offset": 55030,
         "relations": [],
         "sentences": [],
         "text": "Total RNA was isolated from MCF7 cells transfected with the indicated vectors using Fast Gene RNA Basic kit (Nippon Genetics, Tokyo, Japan). One hundred nanograms of total RNA were added to a mixture of 250 nM Oligo dT primer (Toyobo), 500 microM dNTPs, 40 U RNase inhibitor (Takara Bio. Inc.) and 10 U M-MuLV reverse transcriptase (NewEngland Biolabs), and incubated at 42  C for 60 min and 90  C for 10 min. The expressions of ESR1 mRNA were measured using the synthesized DNAs as templates by a Quanti Tect SYBR Green PCR kit (Qiagen) with a Rotor-gene 6000 (Qiagen) at 95  C for 15 min, followed by 45 cycles of 94  C for 15 sec, 55  C for 30 sec and 72  C for 30 sec. The primers used for qPCR are shown in Supplementary Table 10S. The calculated data were normalized to the values for GAPDH used as a control gene."
        },
        {
         "annotations": [
          {
           "id": "1435",
           "infons": {
            "identifier": "25942",
            "ncbi_homologene": "32124",
            "type": "Gene"
           },
           "locations": [
            {
             "length": 5,
             "offset": 55913
            }
           ],
           "text": "SIN3A"
          },
          {
           "id": "1436",
           "infons": {
            "identifier": "p.Q944*",
            "subtype": "ProteinMutation",
            "type": "Mutation"
           },
           "locations": [
            {
             "length": 9,
             "offset": 55919
            }
           ],
           "text": "p.Gln944*"
          },
          {
           "id": "1437",
           "infons": {
            "identifier": "CVCL:0031",
            "type": "CellLine"
           },
           "locations": [
            {
             "length": 4,
             "offset": 55932
            }
           ],
           "text": "MCF7"
          }
         ],
         "infons": {
          "section": "Materials and Methods",
          "section_type": "METHODS",
          "type": "title_2"
         },
         "offset": 55883,
         "relations": [],
         "sentences": [],
         "text": "Intracellular localization of SIN3A p.Gln944* in MCF7 cells"
        },
        {
         "annotations": [
          {
           "id": "1452",
           "infons": {
            "identifier": "25942",
            "ncbi_homologene": "32124",
            "type": "Gene"
           },
           "locations": [
            {
             "length": 5,
             "offset": 56517
            }
           ],
           "text": "SIN3A"
          },
          {
           "id": "1453",
           "infons": {
            "identifier": "MESH:D055882",
            "type": "Disease"
           },
           "locations": [
            {
             "length": 10,
             "offset": 56785
            }
           ],
           "text": "Halo-SIN3A"
          },
          {
           "id": "1454",
           "infons": {
            "identifier": "-",
            "type": "Chemical"
           },
           "locations": [
            {
             "length": 3,
             "offset": 56869
            }
           ],
           "text": "TMR"
          },
          {
           "id": "1455",
           "infons": {
            "identifier": "MESH:C017807",
            "type": "Chemical"
           },
           "locations": [
            {
             "length": 12,
             "offset": 56834
            }
           ],
           "text": "Hoechst33342"
          },
          {
           "id": "1456",
           "infons": {
            "identifier": "MESH:C017807",
            "type": "Chemical"
           },
           "locations": [
            {
             "length": 12,
             "offset": 57048
            }
           ],
           "text": "Hoechst33342"
          },
          {
           "id": "1457",
           "infons": {
            "identifier": "MESH:C017807",
            "type": "Chemical"
           },
           "locations": [
            {
             "length": 12,
             "offset": 57361
            }
           ],
           "text": "Hoechst33342"
          },
          {
           "id": "1458",
           "infons": {
            "identifier": "-",
            "type": "Chemical"
           },
           "locations": [
            {
             "length": 3,
             "offset": 57081
            }
           ],
           "text": "TMR"
          },
          {
           "id": "1459",
           "infons": {
            "identifier": "-",
            "type": "Chemical"
           },
           "locations": [
            {
             "length": 3,
             "offset": 56334
            }
           ],
           "text": "PBS"
          },
          {
           "id": "1460",
           "infons": {
            "identifier": "MESH:C017807",
            "type": "Chemical"
           },
           "locations": [
            {
             "length": 12,
             "offset": 56707
            }
           ],
           "text": "Hoechst33342"
          },
          {
           "id": "1461",
           "infons": {
            "identifier": "-",
            "type": "Chemical"
           },
           "locations": [
            {
             "length": 3,
             "offset": 56025
            }
           ],
           "text": "TMR"
          },
          {
           "id": "1462",
           "infons": {
            "identifier": "-",
            "type": "Chemical"
           },
           "locations": [
            {
             "length": 3,
             "offset": 56194
            }
           ],
           "text": "PBS"
          },
          {
           "id": "1463",
           "infons": {
            "identifier": "CVCL:0031",
            "type": "CellLine"
           },
           "locations": [
            {
             "length": 4,
             "offset": 55959
            }
           ],
           "text": "MCF7"
          },
          {
           "id": "1464",
           "infons": {
            "identifier": "MESH:D055882",
            "type": "Disease"
           },
           "locations": [
            {
             "length": 10,
             "offset": 57425
            }
           ],
           "text": "Halo-SIN3A"
          },
          {
           "id": "1465",
           "infons": {
            "identifier": "MESH:C017807",
            "type": "Chemical"
           },
           "locations": [
            {
             "length": 12,
             "offset": 56268
            }
           ],
           "text": "Hoechst33342"
          }
         ],
         "infons": {
          "section": "Materials and Methods",
          "section_type": "METHODS",
          "type": "paragraph"
         },
         "offset": 55943,
         "relations": [],
         "sentences": [],
         "text": "The transfected MCF7 cells were incubated with culture medium containing 5 microM TMR ligand (Promega) at 37  C for 15 min. The culture medium was replaced with fresh culture medium, and the cells were incubated at 37  C for 30 min. After washes with PBS, the cells were incubated with culture medium containing 40 microg/ml Hoechst33342 at 37  C for 15 min. The cells were then washed with PBS, and the culture medium was replaced with fresh culture medium. The stained cells were imaged with a confocal microscope LSM710 (Zeiss, Oberkochen, Germany). The localizations of SIN3A were analyzed using IN Cell analyzer 2000 (GE Healthcare, Buckingamshire, England). The cells were seeded in a 96-well microplate (microClear plate, Greiner Bio-one), and stained with Hoechst33342 for the nucleus and fluorescence-labeled Halo-tag ligand TMR for Halo-SIN3A. The cells were excited at 355 nm for Hoechst33342 and at 543 nm for the TMR ligand, and images were photographed with laser autofocus mode using a 20x objective lens (Nikon, Tokyo, Japan) in an IN Cell Analyzer 2000. The exposure time was 0.1 sec for Hoechst33342 and 0.3 sec for the TMR ligand. The photographs were analyzed using IN Cell workstation software (GE Healthcare) or IN Carta software (GE Healthcare). For IN Cell workstation software, the multi target analysis module was used, and the algorithm for the nuclear region was applied to the staining of Hoechst33342 and the algorithm for the cell region was used for Halo-SIN3A staining. The total signal intensities in each region were calculated by subtracting the background signal intensities. For IN Carta software, mononucleated cells were selected from the application, and nuclei and cell as target types were applied to the determination of signal intensities in each region. The total signal intensities in each region were calculated by subtracting the background intensities."
        },
        {
         "annotations": [
          {
           "id": "1469",
           "infons": {
            "identifier": "25942",
            "ncbi_homologene": "32124",
            "type": "Gene"
           },
           "locations": [
            {
             "length": 5,
             "offset": 57920
            }
           ],
           "text": "SIN3A"
          },
          {
           "id": "1470",
           "infons": {
            "identifier": "c.2830C>T",
            "subtype": "DNAMutation",
            "type": "Mutation"
           },
           "locations": [
            {
             "length": 10,
             "offset": 57926
            }
           ],
           "text": "c.2830 C>T"
          },
          {
           "id": "1471",
           "infons": {
            "identifier": "CVCL:0031",
            "type": "CellLine"
           },
           "locations": [
            {
             "length": 4,
             "offset": 57892
            }
           ],
           "text": "MCF7"
          }
         ],
         "infons": {
          "section": "Materials and Methods",
          "section_type": "METHODS",
          "type": "title_2"
         },
         "offset": 57864,
         "relations": [],
         "sentences": [],
         "text": "Cell proliferation assay of MCF7 cells transfected with SIN3A c.2830 C>T"
        },
        {
         "annotations": [
          {
           "id": "1478",
           "infons": {
            "identifier": "25942",
            "ncbi_homologene": "32124",
            "type": "Gene"
           },
           "locations": [
            {
             "length": 5,
             "offset": 58016
            }
           ],
           "text": "SIN3A"
          },
          {
           "id": "1479",
           "infons": {
            "identifier": "920",
            "ncbi_homologene": "513",
            "type": "Gene"
           },
           "locations": [
            {
             "length": 3,
             "offset": 58078
            }
           ],
           "text": "CD4"
          },
          {
           "id": "1480",
           "infons": {
            "identifier": "CVCL:0031",
            "type": "CellLine"
           },
           "locations": [
            {
             "length": 4,
             "offset": 57939
            }
           ],
           "text": "MCF7"
          },
          {
           "id": "1481",
           "infons": {
            "identifier": "c.2830C>T",
            "subtype": "DNAMutation",
            "type": "Mutation"
           },
           "locations": [
            {
             "length": 10,
             "offset": 58022
            }
           ],
           "text": "c.2830 C>T"
          },
          {
           "id": "1482",
           "infons": {
            "identifier": "MESH:D055882",
            "type": "Disease"
           },
           "locations": [
            {
             "length": 13,
             "offset": 57993
            }
           ],
           "text": "halo-SIN3A-WT"
          },
          {
           "id": "1483",
           "infons": {
            "identifier": "-",
            "type": "Chemical"
           },
           "locations": [
            {
             "length": 5,
             "offset": 58038
            }
           ],
           "text": "pMACS"
          }
         ],
         "infons": {
          "section": "Materials and Methods",
          "section_type": "METHODS",
          "type": "paragraph"
         },
         "offset": 57939,
         "relations": [],
         "sentences": [],
         "text": "MCF7 cells transfected with halo-tagged empty vector, halo-SIN3A-WT, or halo-SIN3A c.2830 C>T with pMACS 4.1, and were incubated with anti-CD4 antibody magnet beads, and were separated with the autoMACS pro after 24 hrs of transfection. The cells were seeded onto an E-plate, and the cell impedances were monitored every 15 min for 24 hrs with a xCELLigence RTCA DP instrument (ACEC Biosciences, CA) in the presence of 100 nM E2."
        },
        {
         "annotations": [
          {
           "id": "1487",
           "infons": {
            "identifier": "25942",
            "ncbi_homologene": "32124",
            "type": "Gene"
           },
           "locations": [
            {
             "length": 5,
             "offset": 58434
            }
           ],
           "text": "SIN3A"
          },
          {
           "id": "1488",
           "infons": {
            "identifier": "p.Q944*",
            "subtype": "ProteinMutation",
            "type": "Mutation"
           },
           "locations": [
            {
             "length": 9,
             "offset": 58440
            }
           ],
           "text": "p.Gln944*"
          },
          {
           "id": "1489",
           "infons": {
            "identifier": "MESH:D001943",
            "type": "Disease"
           },
           "locations": [
            {
             "length": 13,
             "offset": 58407
            }
           ],
           "text": "breast cancer"
          }
         ],
         "infons": {
          "section": "Materials and Methods",
          "section_type": "METHODS",
          "type": "title_2"
         },
         "offset": 58375,
         "relations": [],
         "sentences": [],
         "text": "Immunohistochemical analysis of breast cancer tissues with SIN3A p.Gln944*"
        },
        {
         "annotations": [
          {
           "id": "1504",
           "infons": {
            "identifier": "25942",
            "ncbi_homologene": "32124",
            "type": "Gene"
           },
           "locations": [
            {
             "length": 5,
             "offset": 58972
            }
           ],
           "text": "SIN3A"
          },
          {
           "id": "1505",
           "infons": {
            "identifier": "25942",
            "ncbi_homologene": "32124",
            "type": "Gene"
           },
           "locations": [
            {
             "length": 5,
             "offset": 59016
            }
           ],
           "text": "SIN3A"
          },
          {
           "id": "1506",
           "infons": {
            "identifier": "25942",
            "ncbi_homologene": "32124",
            "type": "Gene"
           },
           "locations": [
            {
             "length": 5,
             "offset": 59232
            }
           ],
           "text": "SIN3A"
          },
          {
           "id": "1507",
           "infons": {
            "identifier": "10090",
            "type": "Species"
           },
           "locations": [
            {
             "length": 5,
             "offset": 59141
            }
           ],
           "text": "mouse"
          },
          {
           "id": "1508",
           "infons": {
            "identifier": "MESH:D006416",
            "type": "Chemical"
           },
           "locations": [
            {
             "length": 11,
             "offset": 59293
            }
           ],
           "text": "hematoxylin"
          },
          {
           "id": "1509",
           "infons": {
            "identifier": "-",
            "type": "Chemical"
           },
           "locations": [
            {
             "length": 3,
             "offset": 58556
            }
           ],
           "text": "PBS"
          },
          {
           "id": "1510",
           "infons": {
            "identifier": "MESH:D004801",
            "type": "Chemical"
           },
           "locations": [
            {
             "length": 5,
             "offset": 58754
            }
           ],
           "text": "eosin"
          },
          {
           "id": "1511",
           "infons": {
            "identifier": "-",
            "type": "Chemical"
           },
           "locations": [
            {
             "length": 3,
             "offset": 58501
            }
           ],
           "text": "PBS"
          },
          {
           "id": "1512",
           "infons": {
            "identifier": "MESH:D006861",
            "type": "Chemical"
           },
           "locations": [
            {
             "length": 4,
             "offset": 58906
            }
           ],
           "text": "H2O2"
          },
          {
           "id": "1513",
           "infons": {
            "identifier": "MESH:D006416",
            "type": "Chemical"
           },
           "locations": [
            {
             "length": 11,
             "offset": 58738
            }
           ],
           "text": "hematoxylin"
          },
          {
           "id": "1514",
           "infons": {
            "identifier": "MESH:D014992",
            "type": "Chemical"
           },
           "locations": [
            {
             "length": 6,
             "offset": 58713
            }
           ],
           "text": "xylene"
          },
          {
           "id": "1515",
           "infons": {
            "identifier": "-",
            "type": "Chemical"
           },
           "locations": [
            {
             "length": 2,
             "offset": 58761
            }
           ],
           "text": "HE"
          },
          {
           "id": "1516",
           "infons": {
            "identifier": "MESH:C003043",
            "type": "Chemical"
           },
           "locations": [
            {
             "length": 16,
             "offset": 58481
            }
           ],
           "text": "paraformaldehyde"
          },
          {
           "id": "1517",
           "infons": {
            "identifier": "MESH:D010232",
            "type": "Chemical"
           },
           "locations": [
            {
             "length": 8,
             "offset": 58590
            }
           ],
           "text": "paraffin"
          }
         ],
         "infons": {
          "section": "Materials and Methods",
          "section_type": "METHODS",
          "type": "paragraph"
         },
         "offset": 58450,
         "relations": [],
         "sentences": [],
         "text": "The tissues were fixed with 4% paraformaldehyde in PBS for 12 hrs at room temperature. After washing with PBS, the tissues were embedded in paraffin blocks, and cut into 4 microm thick tissue sections using a microtome. The tissue sections were deparaffinized in xylene, and stained with hematoxylin and eosin (HE). For immunohistochemical staining, the sections were treated with Target retrieval solution (Agilent) to activate the antigens and with 0.3% H2O2 at room temperature for 10 min, and then incubated with anti-SIN3A antibody for the N-terminal region of SIN3A at 4  C overnight. The samples were visualized with immunoperoxidase polymer reagent conjugated Fab fragments for anti-mouse antibody (MAX-PO, Nichirei Bioscience, Inc., Tokyo, Japan). After staining with anti-SIN3A antibody, the sections were weakly counterstained with hematoxylin to detect the nuclei."
        },
        {
         "annotations": [
          {
           "id": "1521",
           "infons": {
            "identifier": "25942",
            "ncbi_homologene": "32124",
            "type": "Gene"
           },
           "locations": [
            {
             "length": 5,
             "offset": 59387
            }
           ],
           "text": "SIN3A"
          },
          {
           "id": "1522",
           "infons": {
            "identifier": "9606",
            "type": "Species"
           },
           "locations": [
            {
             "length": 8,
             "offset": 59365
            }
           ],
           "text": "patients"
          },
          {
           "id": "1523",
           "infons": {
            "identifier": "MESH:D001943",
            "type": "Disease"
           },
           "locations": [
            {
             "length": 13,
             "offset": 59351
            }
           ],
           "text": "breast cancer"
          }
         ],
         "infons": {
          "section": "Materials and Methods",
          "section_type": "METHODS",
          "type": "title_2"
         },
         "offset": 59331,
         "relations": [],
         "sentences": [],
         "text": "Survival curves for breast cancer patients according to SIN3A mRNA expression"
        },
        {
         "annotations": [
          {
           "id": "1531",
           "infons": {
            "identifier": "25942",
            "ncbi_homologene": "32124",
            "type": "Gene"
           },
           "locations": [
            {
             "length": 5,
             "offset": 59488
            }
           ],
           "text": "SIN3A"
          },
          {
           "id": "1532",
           "infons": {
            "identifier": "2099",
            "ncbi_homologene": "47906",
            "type": "Gene"
           },
           "locations": [
            {
             "length": 4,
             "offset": 59580
            }
           ],
           "text": "ESR1"
          },
          {
           "id": "1533",
           "infons": {
            "identifier": "25942",
            "ncbi_homologene": "32124",
            "type": "Gene"
           },
           "locations": [
            {
             "length": 5,
             "offset": 59699
            }
           ],
           "text": "SIN3A"
          },
          {
           "id": "1534",
           "infons": {
            "identifier": "29278",
            "type": "Species"
           },
           "locations": [
            {
             "length": 10,
             "offset": 59474
            }
           ],
           "text": "expression"
          },
          {
           "id": "1535",
           "infons": {
            "identifier": "29278",
            "type": "Species"
           },
           "locations": [
            {
             "length": 10,
             "offset": 59585
            }
           ],
           "text": "expression"
          },
          {
           "id": "1536",
           "infons": {
            "identifier": "29278",
            "type": "Species"
           },
           "locations": [
            {
             "length": 10,
             "offset": 59625
            }
           ],
           "text": "expression"
          },
          {
           "id": "1537",
           "infons": {
            "identifier": "29278",
            "type": "Species"
           },
           "locations": [
            {
             "length": 10,
             "offset": 59683
            }
           ],
           "text": "expression"
          }
         ],
         "infons": {
          "section": "Materials and Methods",
          "section_type": "METHODS",
          "type": "paragraph"
         },
         "offset": 59409,
         "relations": [],
         "sentences": [],
         "text": "Overall and relapse-free survival curves were drawn based on the expression of SIN3A mRNA using a Kaplan-Meier Plotter (http://kmplot.com/analysis). The classification of ESR1 expression was determined from the gene expression data. To produce survival curves based on gene expression, the SIN3A (238005_s_at) probe as a gene symbol was selected and the auto-select cutoff was used. P values of the Kaplan-Meier Plots were calculated using a log-rank test, and hazard ratios with 95% confidence intervals were determined from the survival rates in each group."
        },
        {
         "annotations": [
          {
           "id": "1541",
           "infons": {
            "identifier": "25942",
            "ncbi_homologene": "32124",
            "type": "Gene"
           },
           "locations": [
            {
             "length": 5,
             "offset": 59982
            }
           ],
           "text": "SIN3A"
          },
          {
           "id": "1542",
           "infons": {
            "identifier": "CVCL:0031",
            "type": "CellLine"
           },
           "locations": [
            {
             "length": 4,
             "offset": 59999
            }
           ],
           "text": "MCF7"
          },
          {
           "id": "1543",
           "infons": {
            "identifier": "MESH:D012967",
            "type": "Chemical"
           },
           "locations": [
            {
             "length": 3,
             "offset": 60013
            }
           ],
           "text": "SDS"
          }
         ],
         "infons": {
          "section": "Materials and Methods",
          "section_type": "METHODS",
          "type": "title_2"
         },
         "offset": 59969,
         "relations": [],
         "sentences": [],
         "text": "Detection of SIN3A protein in MCF7 cells by SDS-PAGE and Western blotting"
        },
        {
         "annotations": [
          {
           "id": "1552",
           "infons": {
            "identifier": "25942",
            "ncbi_homologene": "32124",
            "type": "Gene"
           },
           "locations": [
            {
             "length": 5,
             "offset": 61020
            }
           ],
           "text": "SIN3A"
          },
          {
           "id": "1553",
           "infons": {
            "identifier": "-",
            "type": "Chemical"
           },
           "locations": [
            {
             "length": 9,
             "offset": 61036
            }
           ],
           "text": "SantaCruz"
          },
          {
           "id": "1554",
           "infons": {
            "identifier": "MESH:D012967",
            "type": "Chemical"
           },
           "locations": [
            {
             "length": 3,
             "offset": 60529
            }
           ],
           "text": "SDS"
          },
          {
           "id": "1555",
           "infons": {
            "identifier": "MESH:C016679",
            "type": "Chemical"
           },
           "locations": [
            {
             "length": 14,
             "offset": 60657
            }
           ],
           "text": "polyacrylamide"
          },
          {
           "id": "1556",
           "infons": {
            "identifier": "-",
            "type": "Chemical"
           },
           "locations": [
            {
             "length": 20,
             "offset": 60908
            }
           ],
           "text": "Tris-buffered saline"
          },
          {
           "id": "1557",
           "infons": {
            "identifier": "-",
            "type": "Chemical"
           },
           "locations": [
            {
             "length": 3,
             "offset": 60725
            }
           ],
           "text": "TMR"
          },
          {
           "id": "1558",
           "infons": {
            "identifier": "MESH:D012967",
            "type": "Chemical"
           },
           "locations": [
            {
             "length": 3,
             "offset": 60696
            }
           ],
           "text": "SDS"
          },
          {
           "id": "1559",
           "infons": {
            "identifier": "MESH:D011136",
            "type": "Chemical"
           },
           "locations": [
            {
             "length": 8,
             "offset": 60952
            }
           ],
           "text": "Tween-20"
          }
         ],
         "infons": {
          "section": "Materials and Methods",
          "section_type": "METHODS",
          "type": "paragraph"
         },
         "offset": 60043,
         "relations": [],
         "sentences": [],
         "text": "The cells were sonicated in 4 volumes of lysis buffer [1% Triton X-100, 20 mM Tris (pH 7.5), 150 mM NaCl, 1 mM EDTA, 1 mM EGTA, 2.5 mM sodium pyrophosphate, 1 mM ss-glycerol phosphate, 1 mM sodium orthovanadate, 1 microg/ml leupeptin, 1 mM phenylmethanesulfonyl fluoride], and centrifuged at 12,000 xg for 20 min at 4  C. The supernatants were collected and were incubated with Halo-tag TMR ligand for 15 min. Electrophoresis and western blotting were carried out after the addition of SDS sample buffer as described previously. Briefly, the extracts and molecular mass standards were electrophoresed in 10% (w/v) polyacrylamide gels in the presence of SDS, and the fluorescence of TMR ligand on the gels was detected with a Typhoon FLA 9000 (GE Healthcare). The gels were transferred to nitrocellulose membranes. The blots were blocked with 5% non-fat dry milk in Tris-buffered saline containing 0.05% (w/v) Tween-20, and incubated with anti-Halo-tag antibody (Promega), anti-SIN3A antibody (SantaCruz), anti-GFP antibody conjugated HRP (Nacalai tesque, Kyoto, Japan) or anti-alpha-Actin antibody (Sigma-Aldrich). The blots were then washed, and the antigens were visualized by enhanced chemiluminescence detection reagents, and observed under a Amarsham Imager (GE Healthcare). The densities of the detected bands were measured by a ImageQuant TL software (GE Healthcare). The sample concentrations were prepared based on protein contents of alpha-Actin."
        },
        {
         "annotations": [],
         "infons": {
          "section": "Electronic supplementary material",
          "section_type": "SUPPL",
          "type": "title_1"
         },
         "offset": 61516,
         "relations": [],
         "sentences": [],
         "text": "Electronic supplementary material"
        },
        {
         "annotations": [],
         "infons": {
          "section": "Electronic supplementary material",
          "section_type": "SUPPL",
          "type": "footnote"
         },
         "offset": 61550,
         "relations": [],
         "sentences": [],
         "text": "Publisher's note: Springer Nature remains neutral with regard to jurisdictional claims in published maps and institutional affiliations."
        },
        {
         "annotations": [],
         "infons": {
          "section": "Electronic supplementary material",
          "section_type": "SUPPL",
          "type": "title_1"
         },
         "offset": 61689,
         "relations": [],
         "sentences": [],
         "text": "Electronic supplementary material"
        },
        {
         "annotations": [],
         "infons": {
          "section": "Electronic supplementary material",
          "section_type": "SUPPL",
          "type": "paragraph"
         },
         "offset": 61723,
         "relations": [],
         "sentences": [],
         "text": "Supplementary information accompanies this paper at 10.1038/s41598-018-34290-1."
        },
        {
         "annotations": [],
         "infons": {
          "section": "Author Contributions",
          "section_type": "AUTH_CONT",
          "type": "title"
         },
         "offset": 61803,
         "relations": [],
         "sentences": [],
         "text": "Author Contributions"
        },
        {
         "annotations": [
          {
           "id": "1561",
           "infons": {
            "identifier": "88229",
            "type": "Species"
           },
           "locations": [
            {
             "length": 16,
             "offset": 61920
            }
           ],
           "text": "clinical samples"
          }
         ],
         "infons": {
          "section": "Author Contributions",
          "section_type": "AUTH_CONT",
          "type": "paragraph"
         },
         "offset": 61824,
         "relations": [],
         "sentences": [],
         "text": "K.W. carried out the experiments, S.S. analyzed N.G.S. data, S.Y., M.O., and H.N. collected the clinical samples, K.I. contributed to data interpretation, and Y.M. designed the study, analyzed the data, and wrote the manuscript. All authors read and approved the final manuscript."
        },
        {
         "annotations": [],
         "infons": {
          "section": "Competing Interests",
          "section_type": "COMP_INT",
          "type": "title_1"
         },
         "offset": 62105,
         "relations": [],
         "sentences": [],
         "text": "Competing Interests"
        },
        {
         "annotations": [],
         "infons": {
          "section": "Competing Interests",
          "section_type": "COMP_INT",
          "type": "paragraph"
         },
         "offset": 62125,
         "relations": [],
         "sentences": [],
         "text": "The authors declare no competing interests."
        },
        {
         "annotations": [],
         "infons": {
          "section": "References",
          "section_type": "REF",
          "type": "title"
         },
         "offset": 62169,
         "relations": [],
         "sentences": [],
         "text": "References"
        },
        {
         "annotations": [
          {
           "id": "1563",
           "infons": {
            "identifier": "MESH:D009369",
            "type": "Disease"
           },
           "locations": [
            {
             "length": 7,
             "offset": 62250
            }
           ],
           "text": "cancers"
          }
         ],
         "infons": {
          "fpage": "93",
          "lpage": "108",
          "name_0": "surname:Chuffa;given-names:LG",
          "name_1": "surname:Lupi-Junior;given-names:LA",
          "name_2": "surname:Costa;given-names:AB",
          "name_3": "surname:Amorim;given-names:JP",
          "name_4": "surname:Seiva;given-names:FR",
          "pub-id_doi": "10.1016/j.steroids.2016.12.011",
          "pub-id_pmid": "28041951",
          "section": "References",
          "section_type": "REF",
          "source": "Steroids",
          "type": "ref",
          "volume": "118",
          "year": "2017"
         },
         "offset": 62180,
         "relations": [],
         "sentences": [],
         "text": "The role of sex hormones and steroid receptors on female reproductive cancers"
        },
        {
         "annotations": [],
         "infons": {
          "fpage": "1625",
          "lpage": "1630",
          "name_0": "surname:Revankar;given-names:CM",
          "name_1": "surname:Cimino;given-names:DF",
          "name_2": "surname:Sklar;given-names:LA",
          "name_3": "surname:Arterburn;given-names:JB",
          "name_4": "surname:Prossnitz;given-names:ER",
          "pub-id_doi": "10.1126/science.1106943",
          "pub-id_pmid": "15705806",
          "section": "References",
          "section_type": "REF",
          "source": "Science",
          "type": "ref",
          "volume": "307",
          "year": "2005"
         },
         "offset": 62258,
         "relations": [],
         "sentences": [],
         "text": "A transmembrane intracellular estrogen receptor mediates rapid cell signaling"
        },
        {
         "annotations": [
          {
           "id": "1565",
           "infons": {
            "identifier": "MESH:D020925",
            "type": "Disease"
           },
           "locations": [
            {
             "length": 16,
             "offset": 62425
            }
           ],
           "text": "ischemic hypoxia"
          }
         ],
         "infons": {
          "fpage": "26453",
          "lpage": "26460",
          "name_0": "surname:Kimura;given-names:M",
          "pub-id_doi": "10.1074/jbc.M101289200",
          "pub-id_pmid": "11335718",
          "section": "References",
          "section_type": "REF",
          "source": "J Biol Chem",
          "type": "ref",
          "volume": "276",
          "year": "2001"
         },
         "offset": 62336,
         "relations": [],
         "sentences": [],
         "text": "Orphan G protein-coupled receptor, GPR41, induces apoptosis via a p53/Bax pathway during ischemic hypoxia and reoxygenation"
        },
        {
         "annotations": [],
         "infons": {
          "fpage": "904",
          "lpage": "910",
          "name_0": "surname:Funakoshi;given-names:T",
          "name_1": "surname:Yanai;given-names:A",
          "name_2": "surname:Shinoda;given-names:K",
          "name_3": "surname:Kawano;given-names:MM",
          "name_4": "surname:Mizukami;given-names:Y",
          "pub-id_doi": "10.1016/j.bbrc.2006.05.191",
          "pub-id_pmid": "16780796",
          "section": "References",
          "section_type": "REF",
          "source": "Biochem Biophys Res Commun",
          "type": "ref",
          "volume": "346",
          "year": "2006"
         },
         "offset": 62460,
         "relations": [],
         "sentences": [],
         "text": "G protein-coupled receptor 30 is an estrogen receptor in the plasma membrane"
        },
        {
         "annotations": [],
         "infons": {
          "fpage": "101",
          "lpage": "107",
          "name_0": "surname:Mizukami;given-names:Y",
          "pub-id_doi": "10.1507/endocrj.K09E-332",
          "pub-id_pmid": "19996532",
          "section": "References",
          "section_type": "REF",
          "source": "Endocrine Journal",
          "type": "ref",
          "volume": "57",
          "year": "2010"
         },
         "offset": 62537,
         "relations": [],
         "sentences": [],
         "text": "In Vivo Functions of GPR30/GPER-1, a Membrane Receptor for Estrogen: From Discovery to Functions In Vivo"
        },
        {
         "annotations": [
          {
           "id": "1569",
           "infons": {
            "identifier": "MESH:D004958",
            "type": "Chemical"
           },
           "locations": [
            {
             "length": 16,
             "offset": 62743
            }
           ],
           "text": "17beta-estradiol"
          },
          {
           "id": "1570",
           "infons": {
            "identifier": "MESH:D004964",
            "type": "Chemical"
           },
           "locations": [
            {
             "length": 7,
             "offset": 62665
            }
           ],
           "text": "estriol"
          },
          {
           "id": "1571",
           "infons": {
            "identifier": "MESH:D001943",
            "type": "Disease"
           },
           "locations": [
            {
             "length": 13,
             "offset": 62720
            }
           ],
           "text": "breast cancer"
          }
         ],
         "infons": {
          "fpage": "935",
          "name_0": "surname:Girgert;given-names:R",
          "name_1": "surname:Emons;given-names:G",
          "name_2": "surname:Grundker;given-names:C",
          "pub-id_doi": "10.1186/1471-2407-14-935",
          "pub-id_pmid": "25496649",
          "section": "References",
          "section_type": "REF",
          "source": "BMC Cancer",
          "type": "ref",
          "volume": "14",
          "year": "2014"
         },
         "offset": 62642,
         "relations": [],
         "sentences": [],
         "text": "Inhibition of GPR30 by estriol prevents growth stimulation of triple-negative breast cancer cells by 17beta-estradiol"
        },
        {
         "annotations": [
          {
           "id": "1573",
           "infons": {
            "identifier": "MESH:D001943",
            "type": "Disease"
           },
           "locations": [
            {
             "length": 13,
             "offset": 62826
            }
           ],
           "text": "breast cancer"
          }
         ],
         "infons": {
          "fpage": "60",
          "name_0": "surname:Toss;given-names:A",
          "name_1": "surname:Cristofanilli;given-names:M",
          "pub-id_doi": "10.1186/s13058-015-0560-9",
          "pub-id_pmid": "25902832",
          "section": "References",
          "section_type": "REF",
          "source": "Breast Cancer Res",
          "type": "ref",
          "volume": "17",
          "year": "2015"
         },
         "offset": 62760,
         "relations": [],
         "sentences": [],
         "text": "Molecular characterization and targeted therapeutic approaches in breast cancer"
        },
        {
         "annotations": [
          {
           "id": "1575",
           "infons": {
            "identifier": "MESH:D001943",
            "type": "Disease"
           },
           "locations": [
            {
             "length": 13,
             "offset": 62864
            }
           ],
           "text": "breast cancer"
          }
         ],
         "infons": {
          "fpage": "220",
          "issue": "Pt 3",
          "lpage": "234",
          "name_0": "surname:Clarke;given-names:R",
          "name_1": "surname:Tyson;given-names:JJ",
          "name_2": "surname:Dixon;given-names:JM",
          "pub-id_doi": "10.1016/j.mce.2015.09.035",
          "pub-id_pmid": "26455641",
          "section": "References",
          "section_type": "REF",
          "source": "Mol Cell Endocrinol",
          "type": "ref",
          "volume": "418",
          "year": "2015"
         },
         "offset": 62840,
         "relations": [],
         "sentences": [],
         "text": "Endocrine resistance in breast cancer-An overview and update"
        },
        {
         "annotations": [
          {
           "id": "1577",
           "infons": {
            "identifier": "MESH:D001943",
            "type": "Disease"
           },
           "locations": [
            {
             "length": 13,
             "offset": 62945
            }
           ],
           "text": "breast cancer"
          }
         ],
         "infons": {
          "fpage": "257",
          "lpage": "274",
          "name_0": "surname:Jameera Begam;given-names:A",
          "name_1": "surname:Jubie;given-names:S",
          "name_2": "surname:Nanjan;given-names:MJ",
          "pub-id_doi": "10.1016/j.bioorg.2017.02.011",
          "pub-id_pmid": "28274582",
          "section": "References",
          "section_type": "REF",
          "source": "Bioorg Chem",
          "type": "ref",
          "volume": "71",
          "year": "2017"
         },
         "offset": 62903,
         "relations": [],
         "sentences": [],
         "text": "Estrogen receptor agonists/antagonists in breast cancer therapy: A critical review"
        },
        {
         "annotations": [
          {
           "id": "1580",
           "infons": {
            "identifier": "9606",
            "type": "Species"
           },
           "locations": [
            {
             "length": 8,
             "offset": 63056
            }
           ],
           "text": "patients"
          },
          {
           "id": "1581",
           "infons": {
            "identifier": "MESH:D001943",
            "type": "Disease"
           },
           "locations": [
            {
             "length": 13,
             "offset": 63042
            }
           ],
           "text": "breast cancer"
          }
         ],
         "infons": {
          "fpage": "118",
          "name_0": "surname:Selli;given-names:C",
          "name_1": "surname:Dixon;given-names:JM",
          "name_2": "surname:Sims;given-names:AH",
          "pub-id_doi": "10.1186/s13058-016-0779-0",
          "pub-id_pmid": "27903276",
          "section": "References",
          "section_type": "REF",
          "source": "Breast Cancer Res",
          "type": "ref",
          "volume": "18",
          "year": "2016"
         },
         "offset": 62986,
         "relations": [],
         "sentences": [],
         "text": "Accurate prediction of response to endocrine therapy in breast cancer patients: current and future biomarkers"
        },
        {
         "annotations": [
          {
           "id": "1583",
           "infons": {
            "identifier": "MESH:D009369",
            "type": "Disease"
           },
           "locations": [
            {
             "length": 6,
             "offset": 63100
            }
           ],
           "text": "cancer"
          }
         ],
         "infons": {
          "fpage": "719",
          "lpage": "724",
          "name_0": "surname:Stratton;given-names:MR",
          "name_1": "surname:Campbell;given-names:PJ",
          "name_2": "surname:Futreal;given-names:PA",
          "pub-id_doi": "10.1038/nature07943",
          "pub-id_pmid": "19360079",
          "section": "References",
          "section_type": "REF",
          "source": "Nature",
          "type": "ref",
          "volume": "458",
          "year": "2009"
         },
         "offset": 63096,
         "relations": [],
         "sentences": [],
         "text": "The cancer genome"
        },
        {
         "annotations": [
          {
           "id": "1585",
           "infons": {
            "identifier": "MESH:D001943",
            "type": "Disease"
           },
           "locations": [
            {
             "length": 13,
             "offset": 63162
            }
           ],
           "text": "breast cancer"
          }
         ],
         "infons": {
          "fpage": "947",
          "lpage": "952",
          "name_0": "surname:Suehiro;given-names:Y",
          "pub-id_doi": "10.1007/s13277-012-0630-x",
          "pub-id_pmid": "23275252",
          "section": "References",
          "section_type": "REF",
          "source": "Tumour Biol",
          "type": "ref",
          "volume": "34",
          "year": "2013"
         },
         "offset": 63114,
         "relations": [],
         "sentences": [],
         "text": "Germline copy number variations associated with breast cancer susceptibility in a Japanese population"
        },
        {
         "annotations": [
          {
           "id": "1588",
           "infons": {
            "identifier": "MESH:D009369",
            "type": "Disease"
           },
           "locations": [
            {
             "length": 6,
             "offset": 63233
            }
           ],
           "text": "cancer"
          },
          {
           "id": "1589",
           "infons": {
            "identifier": "MESH:D001943",
            "type": "Disease"
           },
           "locations": [
            {
             "length": 13,
             "offset": 63274
            }
           ],
           "text": "breast cancer"
          }
         ],
         "infons": {
          "fpage": "400",
          "lpage": "404",
          "name_0": "surname:Stephens;given-names:PJ",
          "pub-id_doi": "10.1038/nature11017",
          "pub-id_pmid": "22722201",
          "section": "References",
          "section_type": "REF",
          "source": "Nature",
          "type": "ref",
          "volume": "486",
          "year": "2012"
         },
         "offset": 63216,
         "relations": [],
         "sentences": [],
         "text": "The landscape of cancer genes and mutational processes in breast cancer"
        },
        {
         "annotations": [
          {
           "id": "1591",
           "infons": {
            "identifier": "MESH:D001943",
            "type": "Disease"
           },
           "locations": [
            {
             "length": 13,
             "offset": 63326
            }
           ],
           "text": "breast cancer"
          }
         ],
         "infons": {
          "fpage": "47",
          "lpage": "54",
          "name_0": "surname:Nik-Zainal;given-names:S",
          "pub-id_doi": "10.1038/nature17676",
          "pub-id_pmid": "27135926",
          "section": "References",
          "section_type": "REF",
          "source": "Nature",
          "type": "ref",
          "volume": "534",
          "year": "2016"
         },
         "offset": 63288,
         "relations": [],
         "sentences": [],
         "text": "Landscape of somatic mutations in 560 breast cancer whole-genome sequences"
        },
        {
         "annotations": [
          {
           "id": "1593",
           "infons": {
            "identifier": "MESH:D001943",
            "type": "Disease"
           },
           "locations": [
            {
             "length": 13,
             "offset": 63422
            }
           ],
           "text": "breast cancer"
          }
         ],
         "infons": {
          "fpage": "55",
          "lpage": "62",
          "name_0": "surname:Mertins;given-names:P",
          "pub-id_doi": "10.1038/nature18003",
          "pub-id_pmid": "27251275",
          "section": "References",
          "section_type": "REF",
          "source": "Nature",
          "type": "ref",
          "volume": "534",
          "year": "2016"
         },
         "offset": 63363,
         "relations": [],
         "sentences": [],
         "text": "Proteogenomics connects somatic mutations to signalling in breast cancer"
        },
        {
         "annotations": [
          {
           "id": "1595",
           "infons": {
            "identifier": "MESH:D001943",
            "type": "Disease"
           },
           "locations": [
            {
             "length": 13,
             "offset": 63479
            }
           ],
           "text": "breast cancer"
          }
         ],
         "infons": {
          "fpage": "3223",
          "lpage": "3234",
          "name_0": "surname:Vesuna;given-names:F",
          "pub-id_doi": "10.1038/onc.2011.483",
          "pub-id_pmid": "22056872",
          "section": "References",
          "section_type": "REF",
          "source": "Oncogene",
          "type": "ref",
          "volume": "31",
          "year": "2012"
         },
         "offset": 63436,
         "relations": [],
         "sentences": [],
         "text": "Twist contributes to hormone resistance in breast cancer by downregulating estrogen receptor-alpha"
        },
        {
         "annotations": [
          {
           "id": "1597",
           "infons": {
            "identifier": "MESH:D001943",
            "type": "Disease"
           },
           "locations": [
            {
             "length": 13,
             "offset": 63588
            }
           ],
           "text": "breast cancer"
          }
         ],
         "infons": {
          "fpage": "1324",
          "lpage": "1330",
          "name_0": "surname:Toska;given-names:E",
          "pub-id_doi": "10.1126/science.aah6893",
          "pub-id_pmid": "28336670",
          "section": "References",
          "section_type": "REF",
          "source": "Science",
          "type": "ref",
          "volume": "355",
          "year": "2017"
         },
         "offset": 63535,
         "relations": [],
         "sentences": [],
         "text": "PI3K pathway regulates ER-dependent transcription in breast cancer through the epigenetic regulator KMT2D"
        },
        {
         "annotations": [
          {
           "id": "1601",
           "infons": {
            "identifier": "2099",
            "ncbi_homologene": "47906",
            "type": "Gene"
           },
           "locations": [
            {
             "length": 23,
             "offset": 63666
            }
           ],
           "text": "estrogen receptor alpha"
          },
          {
           "id": "1602",
           "infons": {
            "identifier": "10090",
            "type": "Species"
           },
           "locations": [
            {
             "length": 5,
             "offset": 63713
            }
           ],
           "text": "mouse"
          },
          {
           "id": "1603",
           "infons": {
            "identifier": "29278",
            "type": "Species"
           },
           "locations": [
            {
             "length": 10,
             "offset": 63695
            }
           ],
           "text": "expression"
          }
         ],
         "infons": {
          "fpage": "731",
          "lpage": "740",
          "name_0": "surname:Westberry;given-names:JM",
          "name_1": "surname:Trout;given-names:AL",
          "name_2": "surname:Wilson;given-names:ME",
          "pub-id_doi": "10.1210/en.2009-0955",
          "pub-id_pmid": "19966177",
          "section": "References",
          "section_type": "REF",
          "source": "Endocrinology",
          "type": "ref",
          "volume": "151",
          "year": "2010"
         },
         "offset": 63641,
         "relations": [],
         "sentences": [],
         "text": "Epigenetic regulation of estrogen receptor alpha gene expression in the mouse cortex during early postnatal development"
        },
        {
         "annotations": [
          {
           "id": "1607",
           "infons": {
            "identifier": "2099",
            "ncbi_homologene": "47906",
            "type": "Gene"
           },
           "locations": [
            {
             "length": 4,
             "offset": 63775
            }
           ],
           "text": "ESR1"
          },
          {
           "id": "1608",
           "infons": {
            "identifier": "2099",
            "ncbi_homologene": "47906",
            "type": "Gene"
           },
           "locations": [
            {
             "length": 23,
             "offset": 63799
            }
           ],
           "text": "estrogen receptor alpha"
          },
          {
           "id": "1609",
           "infons": {
            "identifier": "25942",
            "ncbi_homologene": "32124",
            "type": "Gene"
           },
           "locations": [
            {
             "length": 5,
             "offset": 63827
            }
           ],
           "text": "Sin3A"
          }
         ],
         "infons": {
          "fpage": "4949",
          "lpage": "4958",
          "name_0": "surname:Ellison-Zelski;given-names:SJ",
          "name_1": "surname:Solodin;given-names:NM",
          "name_2": "surname:Alarid;given-names:ET",
          "pub-id_doi": "10.1128/MCB.00383-09",
          "pub-id_pmid": "19620290",
          "section": "References",
          "section_type": "REF",
          "source": "Mol Cell Biol",
          "type": "ref",
          "volume": "29",
          "year": "2009"
         },
         "offset": 63761,
         "relations": [],
         "sentences": [],
         "text": "Repression of ESR1 through actions of estrogen receptor alpha and Sin3A at the proximal promoter"
        },
        {
         "annotations": [
          {
           "id": "1611",
           "infons": {
            "identifier": "MESH:D001943",
            "type": "Disease"
           },
           "locations": [
            {
             "length": 13,
             "offset": 63946
            }
           ],
           "text": "breast cancer"
          }
         ],
         "infons": {
          "fpage": "11811",
          "lpage": "11816",
          "name_0": "surname:Farias;given-names:EF",
          "pub-id_doi": "10.1073/pnas.1006737107",
          "pub-id_pmid": "20547842",
          "section": "References",
          "section_type": "REF",
          "source": "Proc Natl Acad Sci USA",
          "type": "ref",
          "volume": "107",
          "year": "2010"
         },
         "offset": 63858,
         "relations": [],
         "sentences": [],
         "text": "Interference with Sin3 function induces epigenetic reprogramming and differentiation in breast cancer cells"
        },
        {
         "annotations": [],
         "infons": {
          "fpage": "443",
          "lpage": "450",
          "name_0": "surname:Grzenda;given-names:A",
          "name_1": "surname:Lomberk;given-names:G",
          "name_2": "surname:Zhang;given-names:JS",
          "name_3": "surname:Urrutia;given-names:R",
          "pub-id_doi": "10.1016/j.bbagrm.2009.05.007",
          "pub-id_pmid": "19505602",
          "section": "References",
          "section_type": "REF",
          "source": "Biochim Biophys Acta",
          "type": "ref",
          "volume": "1789",
          "year": "2009"
         },
         "offset": 63966,
         "relations": [],
         "sentences": [],
         "text": "Sin3: master scaffold and transcriptional corepressor"
        },
        {
         "annotations": [
          {
           "id": "1613",
           "infons": {
            "identifier": "29278",
            "type": "Species"
           },
           "locations": [
            {
             "length": 10,
             "offset": 64062
            }
           ],
           "text": "expression"
          }
         ],
         "infons": {
          "fpage": "1",
          "lpage": "17",
          "name_0": "surname:Silverstein;given-names:RA",
          "name_1": "surname:Ekwall;given-names:K",
          "pub-id_doi": "10.1007/s00294-004-0541-5",
          "pub-id_pmid": "15565322",
          "section": "References",
          "section_type": "REF",
          "source": "Curr Genet",
          "type": "ref",
          "volume": "47",
          "year": "2005"
         },
         "offset": 64020,
         "relations": [],
         "sentences": [],
         "text": "Sin3: a flexible regulator of global gene expression and genome stability"
        },
        {
         "annotations": [
          {
           "id": "1615",
           "infons": {
            "identifier": "20466",
            "ncbi_homologene": "32124",
            "type": "Gene"
           },
           "locations": [
            {
             "length": 6,
             "offset": 64158
            }
           ],
           "text": "mSin3A"
          }
         ],
         "infons": {
          "fpage": "69",
          "lpage": "80",
          "name_0": "surname:Yang;given-names:X",
          "name_1": "surname:Zhang;given-names:F",
          "name_2": "surname:Kudlow;given-names:JE",
          "pub-id_doi": "10.1016/S0092-8674(02)00810-3",
          "pub-id_pmid": "12150998",
          "section": "References",
          "section_type": "REF",
          "source": "Cell",
          "type": "ref",
          "volume": "110",
          "year": "2002"
         },
         "offset": 64094,
         "relations": [],
         "sentences": [],
         "text": "Recruitment of O-GlcNAc transferase to promoters by corepressor mSin3A: coupling protein O-GlcNAcylation to transcriptional repression"
        },
        {
         "annotations": [],
         "infons": {
          "fpage": "386",
          "lpage": "389",
          "name_0": "surname:Nan;given-names:X",
          "pub-id_doi": "10.1038/30764",
          "pub-id_pmid": "9620804",
          "section": "References",
          "section_type": "REF",
          "source": "Nature",
          "type": "ref",
          "volume": "393",
          "year": "1998"
         },
         "offset": 64229,
         "relations": [],
         "sentences": [],
         "text": "Transcriptional repression by the methyl-CpG-binding protein MeCP2 involves a histone deacetylase complex"
        },
        {
         "annotations": [
          {
           "id": "1618",
           "infons": {
            "identifier": "-",
            "type": "Chemical"
           },
           "locations": [
            {
             "length": 8,
             "offset": 64370
            }
           ],
           "text": "O-GlcNAc"
          },
          {
           "id": "1619",
           "infons": {
            "identifier": "-",
            "type": "Chemical"
           },
           "locations": [
            {
             "length": 33,
             "offset": 64335
            }
           ],
           "text": "O-linked beta-N-acetylglucosamine"
          }
         ],
         "infons": {
          "fpage": "96",
          "lpage": "106",
          "name_0": "surname:Butkinaree;given-names:C",
          "name_1": "surname:Park;given-names:K",
          "name_2": "surname:Hart;given-names:GW",
          "pub-id_doi": "10.1016/j.bbagen.2009.07.018",
          "pub-id_pmid": "19647786",
          "section": "References",
          "section_type": "REF",
          "source": "Biochim Biophys Acta",
          "type": "ref",
          "volume": "1800",
          "year": "2010"
         },
         "offset": 64335,
         "relations": [],
         "sentences": [],
         "text": "O-linked beta-N-acetylglucosamine (O-GlcNAc): Extensive crosstalk with phosphorylation to regulate signaling and transcription in response to nutrients and stress"
        },
        {
         "annotations": [],
         "infons": {
          "fpage": "2526",
          "lpage": "2538",
          "name_0": "surname:Hu;given-names:P",
          "name_1": "surname:Shimoji;given-names:S",
          "name_2": "surname:Hart;given-names:GW",
          "pub-id_doi": "10.1016/j.febslet.2010.04.044",
          "pub-id_pmid": "20417205",
          "section": "References",
          "section_type": "REF",
          "source": "FEBS Lett",
          "type": "ref",
          "volume": "584",
          "year": "2010"
         },
         "offset": 64498,
         "relations": [],
         "sentences": [],
         "text": "Site-specific interplay between O-GlcNAcylation and phosphorylation in cellular regulation"
        },
        {
         "annotations": [
          {
           "id": "1621",
           "infons": {
            "identifier": "-",
            "type": "Chemical"
           },
           "locations": [
            {
             "length": 8,
             "offset": 64636
            }
           ],
           "text": "O-GlcNAc"
          }
         ],
         "infons": {
          "fpage": "353",
          "lpage": "364",
          "name_0": "surname:Ozcan;given-names:S",
          "name_1": "surname:Andrali;given-names:SS",
          "name_2": "surname:Cantrell;given-names:JE",
          "pub-id_doi": "10.1016/j.bbagrm.2010.02.005",
          "pub-id_pmid": "20202486",
          "section": "References",
          "section_type": "REF",
          "source": "Biochim Biophys Acta",
          "type": "ref",
          "volume": "1799",
          "year": "2010"
         },
         "offset": 64589,
         "relations": [],
         "sentences": [],
         "text": "Modulation of transcription factor function by O-GlcNAc modification"
        },
        {
         "annotations": [
          {
           "id": "1628",
           "infons": {
            "identifier": "2099",
            "ncbi_homologene": "47906",
            "type": "Gene"
           },
           "locations": [
            {
             "length": 23,
             "offset": 64702
            }
           ],
           "text": "estrogen receptor alpha"
          },
          {
           "id": "1629",
           "infons": {
            "identifier": "9606",
            "type": "Species"
           },
           "locations": [
            {
             "length": 5,
             "offset": 64780
            }
           ],
           "text": "human"
          },
          {
           "id": "1630",
           "infons": {
            "identifier": "29278",
            "type": "Species"
           },
           "locations": [
            {
             "length": 10,
             "offset": 64726
            }
           ],
           "text": "expression"
          },
          {
           "id": "1631",
           "infons": {
            "identifier": "CVCL:0031",
            "type": "CellLine"
           },
           "locations": [
            {
             "length": 5,
             "offset": 64808
            }
           ],
           "text": "MCF-7"
          },
          {
           "id": "1632",
           "infons": {
            "identifier": "MESH:D001943",
            "type": "Disease"
           },
           "locations": [
            {
             "length": 13,
             "offset": 64786
            }
           ],
           "text": "breast cancer"
          },
          {
           "id": "1633",
           "infons": {
            "identifier": "-",
            "type": "Chemical"
           },
           "locations": [
            {
             "length": 14,
             "offset": 64762
            }
           ],
           "text": "4-OH-tamoxifen"
          }
         ],
         "infons": {
          "fpage": "e69150",
          "name_0": "surname:Kanwal;given-names:S",
          "pub-id_doi": "10.1371/journal.pone.0069150",
          "pub-id_pmid": "23935944",
          "section": "References",
          "section_type": "REF",
          "source": "PLoS One",
          "type": "ref",
          "volume": "8",
          "year": "2013"
         },
         "offset": 64658,
         "relations": [],
         "sentences": [],
         "text": "O-GlcNAcylation-inducing treatments inhibit estrogen receptor alpha expression and confer resistance to 4-OH-tamoxifen in human breast cancer-derived MCF-7 cells"
        },
        {
         "annotations": [
          {
           "id": "1635",
           "infons": {
            "identifier": "25942",
            "ncbi_homologene": "32124",
            "type": "Gene"
           },
           "locations": [
            {
             "length": 5,
             "offset": 64868
            }
           ],
           "text": "Sin3A"
          }
         ],
         "infons": {
          "fpage": "2995",
          "lpage": "3004",
          "name_0": "surname:Moehren;given-names:U",
          "pub-id_doi": "10.1093/nar/gkh621",
          "pub-id_pmid": "15173382",
          "section": "References",
          "section_type": "REF",
          "source": "Nucleic Acids Res",
          "type": "ref",
          "volume": "32",
          "year": "2004"
         },
         "offset": 64820,
         "relations": [],
         "sentences": [],
         "text": "The highly conserved region of the co-repressor Sin3A functionally interacts with the co-repressor Alien"
        },
        {
         "annotations": [],
         "infons": {
          "fpage": "22485",
          "lpage": "22493",
          "name_0": "surname:Baker;given-names:SA",
          "name_1": "surname:Lombardi;given-names:LM",
          "name_2": "surname:Zoghbi;given-names:HY",
          "pub-id_doi": "10.1074/jbc.M115.658104",
          "pub-id_pmid": "26245896",
          "section": "References",
          "section_type": "REF",
          "source": "J Biol Chem",
          "type": "ref",
          "volume": "290",
          "year": "2015"
         },
         "offset": 64925,
         "relations": [],
         "sentences": [],
         "text": "Karyopherin alpha 3 and karyopherin alpha 4 proteins mediate the nuclear import of methyl-CpG binding protein 2"
        },
        {
         "annotations": [],
         "infons": {
          "fpage": "34614",
          "name_0": "surname:Seo;given-names:HG",
          "pub-id_doi": "10.1038/srep34614",
          "pub-id_pmid": "27713473",
          "section": "References",
          "section_type": "REF",
          "source": "Sci Rep",
          "type": "ref",
          "volume": "6",
          "year": "2016"
         },
         "offset": 65037,
         "relations": [],
         "sentences": [],
         "text": "Identification of the nuclear localisation signal of O-GlcNAc transferase and its nuclear import regulation"
        },
        {
         "annotations": [
          {
           "id": "1637",
           "infons": {
            "identifier": "MESH:D063646",
            "type": "Disease"
           },
           "locations": [
            {
             "length": 28,
             "offset": 65232
            }
           ],
           "text": "Breast Cancer Carcinogenesis"
          }
         ],
         "infons": {
          "fpage": "708",
          "lpage": "722",
          "name_0": "surname:Shan;given-names:L",
          "pub-id_doi": "10.1016/j.ccell.2016.09.010",
          "pub-id_pmid": "27773593",
          "section": "References",
          "section_type": "REF",
          "source": "Cancer Cell",
          "type": "ref",
          "volume": "30",
          "year": "2016"
         },
         "offset": 65145,
         "relations": [],
         "sentences": [],
         "text": "FOXK2 Elicits Massive Transcription Repression and Suppresses the Hypoxic Response and Breast Cancer Carcinogenesis"
        },
        {
         "annotations": [
          {
           "id": "1642",
           "infons": {
            "identifier": "25942",
            "ncbi_homologene": "32124",
            "type": "Gene"
           },
           "locations": [
            {
             "length": 5,
             "offset": 65289
            }
           ],
           "text": "SIN3A"
          },
          {
           "id": "1643",
           "infons": {
            "identifier": "29278",
            "type": "Species"
           },
           "locations": [
            {
             "length": 10,
             "offset": 65271
            }
           ],
           "text": "expression"
          },
          {
           "id": "1644",
           "infons": {
            "identifier": "MESH:D009369",
            "type": "Disease"
           },
           "locations": [
            {
             "length": 5,
             "offset": 65313
            }
           ],
           "text": "tumor"
          },
          {
           "id": "1645",
           "infons": {
            "identifier": "MESH:D009369",
            "type": "Disease"
           },
           "locations": [
            {
             "length": 6,
             "offset": 65404
            }
           ],
           "text": "cancer"
          }
         ],
         "infons": {
          "fpage": "24",
          "lpage": "31",
          "name_0": "surname:Suzuki;given-names:H",
          "pub-id_doi": "10.1016/j.lungcan.2007.08.002",
          "pub-id_pmid": "17854949",
          "section": "References",
          "section_type": "REF",
          "source": "Lung Cancer",
          "type": "ref",
          "volume": "59",
          "year": "2008"
         },
         "offset": 65261,
         "relations": [],
         "sentences": [],
         "text": "Decreased expression of the SIN3A gene, a candidate tumor suppressor located at the prevalent allelic loss region 15q23 in non-small cell lung cancer"
        },
        {
         "annotations": [
          {
           "id": "1648",
           "infons": {
            "identifier": "25942",
            "ncbi_homologene": "32124",
            "type": "Gene"
           },
           "locations": [
            {
             "length": 5,
             "offset": 65411
            }
           ],
           "text": "SIN3A"
          },
          {
           "id": "1649",
           "infons": {
            "identifier": "MESH:D001943",
            "type": "Disease"
           },
           "locations": [
            {
             "length": 13,
             "offset": 65451
            }
           ],
           "text": "breast cancer"
          }
         ],
         "infons": {
          "fpage": "78713",
          "lpage": "78725",
          "name_0": "surname:Lewis;given-names:MJ",
          "pub-id_pmid": "27780928",
          "section": "References",
          "section_type": "REF",
          "source": "Oncotarget",
          "type": "ref",
          "volume": "7",
          "year": "2016"
         },
         "offset": 65411,
         "relations": [],
         "sentences": [],
         "text": "SIN3A and SIN3B differentially regulate breast cancer metastasis"
        },
        {
         "annotations": [
          {
           "id": "1652",
           "infons": {
            "identifier": "25942",
            "ncbi_homologene": "32124",
            "type": "Gene"
           },
           "locations": [
            {
             "length": 5,
             "offset": 65545
            }
           ],
           "text": "SIN3A"
          },
          {
           "id": "1653",
           "infons": {
            "identifier": "MESH:D058495",
            "type": "Disease"
           },
           "locations": [
            {
             "length": 18,
             "offset": 65476
            }
           ],
           "text": "Haploinsufficiency"
          }
         ],
         "infons": {
          "fpage": "877",
          "lpage": "887",
          "name_0": "surname:Witteveen;given-names:JS",
          "pub-id_doi": "10.1038/ng.3619",
          "pub-id_pmid": "27399968",
          "section": "References",
          "section_type": "REF",
          "source": "Nat Genet",
          "type": "ref",
          "volume": "48",
          "year": "2016"
         },
         "offset": 65476,
         "relations": [],
         "sentences": [],
         "text": "Haploinsufficiency of MeCP2-interacting transcriptional co-repressor SIN3A causes mild intellectual disability by affecting the development of cortical integrity"
        },
        {
         "annotations": [],
         "infons": {
          "fpage": "518",
          "lpage": "534",
          "name_0": "surname:Stenoien;given-names:DL",
          "pub-id_pmid": "10770489",
          "section": "References",
          "section_type": "REF",
          "source": "Mol Endocrinol",
          "type": "ref",
          "volume": "14",
          "year": "2000"
         },
         "offset": 65638,
         "relations": [],
         "sentences": [],
         "text": "Subnuclear trafficking of estrogen receptor-alpha and steroid receptor coactivator-1"
        },
        {
         "annotations": [
          {
           "id": "1657",
           "infons": {
            "identifier": "9606",
            "type": "Species"
           },
           "locations": [
            {
             "length": 8,
             "offset": 65789
            }
           ],
           "text": "patients"
          },
          {
           "id": "1658",
           "infons": {
            "identifier": "MESH:D007208",
            "type": "Chemical"
           },
           "locations": [
            {
             "length": 17,
             "offset": 65834
            }
           ],
           "text": "indocyanine green"
          },
          {
           "id": "1659",
           "infons": {
            "identifier": "MESH:D001943",
            "type": "Disease"
           },
           "locations": [
            {
             "length": 13,
             "offset": 65775
            }
           ],
           "text": "breast cancer"
          }
         ],
         "infons": {
          "fpage": "933",
          "lpage": "937",
          "name_0": "surname:Yamamoto;given-names:S",
          "name_1": "surname:Maeda;given-names:N",
          "name_2": "surname:Yoshimura;given-names:K",
          "name_3": "surname:Oka;given-names:M",
          "pub-id_doi": "10.1016/j.breast.2013.05.001",
          "pub-id_pmid": "23726129",
          "section": "References",
          "section_type": "REF",
          "source": "Breast",
          "type": "ref",
          "volume": "22",
          "year": "2013"
         },
         "offset": 65723,
         "relations": [],
         "sentences": [],
         "text": "Intraoperative detection of sentinel lymph nodes in breast cancer patients using ultrasonography-guided direct indocyanine green dye-marking by real-time virtual sonography constructed with three-dimensional computed tomography-lymphography"
        },
        {
         "annotations": [],
         "infons": {
          "fpage": "456",
          "lpage": "462",
          "name_0": "surname:Yamamoto;given-names:S",
          "pub-id_doi": "10.1007/s12282-015-0584-0",
          "pub-id_pmid": "25577514",
          "section": "References",
          "section_type": "REF",
          "source": "Breast Cancer",
          "type": "ref",
          "volume": "23",
          "year": "2016"
         },
         "offset": 65964,
         "relations": [],
         "sentences": [],
         "text": "Breast sentinel lymph node navigation with three-dimensional computed tomography-lymphography: a 12-year study"
        },
        {
         "annotations": [
          {
           "id": "1663",
           "infons": {
            "identifier": "29278",
            "type": "Species"
           },
           "locations": [
            {
             "length": 10,
             "offset": 66139
            }
           ],
           "text": "expression"
          },
          {
           "id": "1664",
           "infons": {
            "identifier": "MESH:D020925",
            "type": "Disease"
           },
           "locations": [
            {
             "length": 16,
             "offset": 66179
            }
           ],
           "text": "ischemic hypoxia"
          },
          {
           "id": "1665",
           "infons": {
            "identifier": "MESH:D000255",
            "type": "Chemical"
           },
           "locations": [
            {
             "length": 3,
             "offset": 66106
            }
           ],
           "text": "ATP"
          }
         ],
         "infons": {
          "fpage": "50120",
          "lpage": "50131",
          "name_0": "surname:Mizukami;given-names:Y",
          "pub-id_doi": "10.1074/jbc.M402299200",
          "pub-id_pmid": "15459207",
          "section": "References",
          "section_type": "REF",
          "source": "J Biol Chem",
          "type": "ref",
          "volume": "279",
          "year": "2004"
         },
         "offset": 66075,
         "relations": [],
         "sentences": [],
         "text": "ERK1/2 regulates intracellular ATP levels through alpha-enolase expression in cardiomyocytes exposed to ischemic hypoxia and reoxygenation"
        },
        {
         "annotations": [
          {
           "id": "1669",
           "infons": {
            "identifier": "10116",
            "type": "Species"
           },
           "locations": [
            {
             "length": 3,
             "offset": 66307
            }
           ],
           "text": "rat"
          },
          {
           "id": "1670",
           "infons": {
            "identifier": "MESH:D010100",
            "type": "Chemical"
           },
           "locations": [
            {
             "length": 6,
             "offset": 66348
            }
           ],
           "text": "oxygen"
          },
          {
           "id": "1671",
           "infons": {
            "identifier": "MESH:D007511",
            "type": "Disease"
           },
           "locations": [
            {
             "length": 8,
             "offset": 66281
            }
           ],
           "text": "ischemic"
          }
         ],
         "infons": {
          "fpage": "214",
          "lpage": "222",
          "name_0": "surname:Hirata;given-names:T",
          "pub-id_doi": "10.1016/j.brainres.2006.10.077",
          "pub-id_pmid": "17173873",
          "section": "References",
          "section_type": "REF",
          "source": "Brain Res",
          "type": "ref",
          "volume": "1130",
          "year": "2007"
         },
         "offset": 66214,
         "relations": [],
         "sentences": [],
         "text": "The temporal profile of genomic responses and protein synthesis in ischemic tolerance of the rat brain induced by repeated hyperbaric oxygen"
        },
        {
         "annotations": [],
         "infons": {
          "fpage": "1003",
          "lpage": "1012",
          "name_0": "surname:Pandey;given-names:K",
          "name_1": "surname:Mizukami;given-names:Y",
          "name_2": "surname:Watanabe;given-names:K",
          "name_3": "surname:Sakaguti;given-names:S",
          "name_4": "surname:Kadokawa;given-names:H",
          "pub-id_doi": "10.1292/jvms.16-0531",
          "pub-id_pmid": "28442638",
          "section": "References",
          "section_type": "REF",
          "source": "J Vet Med Sci",
          "type": "ref",
          "volume": "79",
          "year": "2017"
         },
         "offset": 66355,
         "relations": [],
         "sentences": [],
         "text": "Deep sequencing of the transcriptome in the anterior pituitary of heifers before and after ovulation"
        },
        {
         "annotations": [
          {
           "id": "1674",
           "infons": {
            "identifier": "10116",
            "type": "Species"
           },
           "locations": [
            {
             "length": 3,
             "offset": 66512
            }
           ],
           "text": "rat"
          },
          {
           "id": "1675",
           "infons": {
            "identifier": "MESH:D012967",
            "type": "Chemical"
           },
           "locations": [
            {
             "length": 3,
             "offset": 66542
            }
           ],
           "text": "SDS"
          }
         ],
         "infons": {
          "fpage": "41",
          "name_0": "surname:Katagiri;given-names:T",
          "pub-id_doi": "10.1186/1477-5956-8-41",
          "pub-id_pmid": "20659346",
          "section": "References",
          "section_type": "REF",
          "source": "Proteome Sci",
          "type": "ref",
          "volume": "8",
          "year": "2010"
         },
         "offset": 66456,
         "relations": [],
         "sentences": [],
         "text": "Proteomic analysis of proteins expressing in regions of rat brain by a combination of SDS-PAGE with nano-liquid chromatography-quadrupole-time of flight tandem mass spectrometry"
        },
        {
         "annotations": [
          {
           "id": "1680",
           "infons": {
            "identifier": "10116",
            "type": "Species"
           },
           "locations": [
            {
             "length": 3,
             "offset": 66655
            }
           ],
           "text": "rat"
          },
          {
           "id": "1681",
           "infons": {
            "identifier": "29278",
            "type": "Species"
           },
           "locations": [
            {
             "length": 10,
             "offset": 66730
            }
           ],
           "text": "expression"
          },
          {
           "id": "1682",
           "infons": {
            "identifier": "MESH:D020925",
            "type": "Disease"
           },
           "locations": [
            {
             "length": 16,
             "offset": 66766
            }
           ],
           "text": "ischemic hypoxia"
          },
          {
           "id": "1683",
           "infons": {
            "identifier": "CVCL:0286",
            "type": "CellLine"
           },
           "locations": [
            {
             "length": 4,
             "offset": 66744
            }
           ],
           "text": "H9c2"
          }
         ],
         "infons": {
          "fpage": "173",
          "lpage": "177",
          "name_0": "surname:Fujimoto;given-names:K",
          "pub-id_doi": "10.1016/S0167-4781(00)00309-2",
          "pub-id_pmid": "11267675",
          "section": "References",
          "section_type": "REF",
          "source": "Biochim Biophys Acta",
          "type": "ref",
          "volume": "1518",
          "year": "2001"
         },
         "offset": 66634,
         "relations": [],
         "sentences": [],
         "text": "Molecular cloning of rat transmembrane domain protein of 40 kDa regulated in adipocytes and its expression in H9c2 cells exposed to ischemic hypoxia and reoxygenation"
        },
        {
         "annotations": [
          {
           "id": "1685",
           "infons": {
            "identifier": "MESH:D001943",
            "type": "Disease"
           },
           "locations": [
            {
             "length": 13,
             "offset": 66895
            }
           ],
           "text": "breast cancer"
          }
         ],
         "infons": {
          "fpage": "118",
          "lpage": "126",
          "name_0": "surname:Aihara;given-names:M",
          "pub-id_doi": "10.1016/j.gene.2012.04.029",
          "pub-id_pmid": "22525040",
          "section": "References",
          "section_type": "REF",
          "source": "Gene",
          "type": "ref",
          "volume": "501",
          "year": "2012"
         },
         "offset": 66801,
         "relations": [],
         "sentences": [],
         "text": "Optimizing high-resolution melting analysis for the detection of mutations of GPR30/GPER-1 in breast cancer"
        },
        {
         "annotations": [
          {
           "id": "1687",
           "infons": {
            "identifier": "MESH:D001943",
            "type": "Disease"
           },
           "locations": [
            {
             "length": 13,
             "offset": 66990
            }
           ],
           "text": "breast cancer"
          }
         ],
         "infons": {
          "fpage": "725",
          "lpage": "731",
          "name_0": "surname:Gyorffy;given-names:B",
          "pub-id_doi": "10.1007/s10549-009-0674-9",
          "pub-id_pmid": "20020197",
          "section": "References",
          "section_type": "REF",
          "source": "Breast Cancer Res Treat",
          "type": "ref",
          "volume": "123",
          "year": "2010"
         },
         "offset": 66909,
         "relations": [],
         "sentences": [],
         "text": "An online survival analysis tool to rapidly assess the effect of 22,277 genes on breast cancer prognosis using microarray data of 1,809 patients"
        }
       ],
       "pmcid": "PMC6207735",
       "pmid": 30375428,
       "relations": [],
       "year": 2018
      },
      "text/plain": [
       "<IPython.core.display.JSON object>"
      ]
     },
     "execution_count": 4,
     "metadata": {
      "application/json": {
       "expanded": false,
       "root": "root"
      }
     },
     "output_type": "execute_result"
    }
   ],
   "source": [
    "# can't call PMC with pubtator, please use biocjson.\n",
    "res = requests.post(url = url + 'biocjson', json=json_PMCID, proxies=PROXIES)\n",
    "JSON(json.loads(res.text))"
   ]
  },
  {
   "cell_type": "markdown",
   "metadata": {},
   "source": [
    "**convert biocjson to list**"
   ]
  },
  {
   "cell_type": "code",
   "execution_count": 5,
   "metadata": {},
   "outputs": [],
   "source": [
    "def biocjson2list(biocjson: dict) -> list:\n",
    "    \"\"\"解析biocjson格式的数据，获得其中的标注\"\"\"\n",
    "    # 获得pmid, pmcid, passages\n",
    "    pmid = biocjson.get('pmid')\n",
    "    pmcid = biocjson.get('pmcid')\n",
    "    passages = biocjson.get('passages')\n",
    "    # 开始解析biocjson格式注释\n",
    "    results = list()\n",
    "    for passage in passages:\n",
    "        # 获取当前被注释的文本段\n",
    "        curr_text = passage.get('text').strip()\n",
    "        # 将注释文本段分句，包括起始位置、终止位置\n",
    "        sentences = [[start, end, curr_text[start:end]] for start, end in PunktSentenceTokenizer().span_tokenize(curr_text)]\n",
    "        # 当前文本段在全文里的起始位置\n",
    "        text_offset = passage.get('offset')\n",
    "        # 当前文本段在全文里的类型\n",
    "        section = passage.get('infons').get('section')\n",
    "        section_type = passage.get('infons').get('section_type')\n",
    "        # 当前文本段的注释信息\n",
    "        annotations = passage.get('annotations')\n",
    "        for annotation in annotations:\n",
    "            ann_text = annotation['text'] # 注释字段\n",
    "            ann_type = annotation['infons']['type'] # 注释字段的类型\n",
    "            ann_iden = annotation['infons']['identifier'] #注释字段的标准化结果\n",
    "            ann_length = len(annotation['text'].strip())  # 注释字段长度\n",
    "            # ann_length = annotation['locations'][0]['length'] # 注释字段长度\n",
    "            ann_full_text_start = annotation['locations'][0]['offset'] # 注释字段的全文起始位置\n",
    "            ann_full_text_end = annotation['locations'][0]['offset'] + ann_length # 注释字段的全文终止位置\n",
    "            ann_curr_text_start = ann_full_text_start - text_offset # 注释字段在当前文本段的起止位置\n",
    "            ann_curr_text_end = ann_full_text_end - text_offset # 注释字段在当前文本段的终止位置\n",
    "            # 如果注释字段的起止位置在当前文本段外，则跳过\n",
    "            if ann_curr_text_start<0 or ann_curr_text_end>len(curr_text):\n",
    "                continue\n",
    "            # 注释字段的所属句子在当前文本段中起始位置、终止位置\n",
    "            anchor_sentence_start = [start for start, end, sentence in sentences if start <= ann_curr_text_start][-1]\n",
    "            anchor_sentence_end = [end for start, end, sentence in sentences if end >= ann_curr_text_end][0]\n",
    "            # 所属句子\n",
    "            anchor_sentence = curr_text[anchor_sentence_start:anchor_sentence_end]\n",
    "            # 注释字段在所属句子中的起始位置\n",
    "            anchor_ann_start = ann_curr_text_start - anchor_sentence_start\n",
    "            # 注释字段在所属句子中的终止位置\n",
    "            anchor_ann_end =  ann_curr_text_end - anchor_sentence_start\n",
    "            anchor_ann_text = anchor_sentence[anchor_ann_start: anchor_ann_end]\n",
    "            results.append([pmid, ann_full_text_start, ann_full_text_end, ann_text, ann_type, ann_iden, pmcid, section, section_type, anchor_ann_start, anchor_ann_end, anchor_ann_text, anchor_sentence])\n",
    "    # 按照在全文的起始位置进行排序\n",
    "    results = sorted(results, key=lambda x:x[2])\n",
    "    return results "
   ]
  },
  {
   "cell_type": "code",
   "execution_count": 6,
   "metadata": {},
   "outputs": [
    {
     "name": "stdout",
     "output_type": "stream",
     "text": [
      "(844, 13)\n"
     ]
    },
    {
     "data": {
      "text/html": [
       "<div>\n",
       "<style scoped>\n",
       "    .dataframe tbody tr th:only-of-type {\n",
       "        vertical-align: middle;\n",
       "    }\n",
       "\n",
       "    .dataframe tbody tr th {\n",
       "        vertical-align: top;\n",
       "    }\n",
       "\n",
       "    .dataframe thead th {\n",
       "        text-align: right;\n",
       "    }\n",
       "</style>\n",
       "<table border=\"1\" class=\"dataframe\">\n",
       "  <thead>\n",
       "    <tr style=\"text-align: right;\">\n",
       "      <th></th>\n",
       "      <th>pmid</th>\n",
       "      <th>fulltext_start</th>\n",
       "      <th>fulltext_end</th>\n",
       "      <th>text</th>\n",
       "      <th>type</th>\n",
       "      <th>identifier</th>\n",
       "      <th>pmcid</th>\n",
       "      <th>section</th>\n",
       "      <th>section_type</th>\n",
       "      <th>sentence_start</th>\n",
       "      <th>sentence_end</th>\n",
       "      <th>sentence_text</th>\n",
       "      <th>sentence</th>\n",
       "    </tr>\n",
       "  </thead>\n",
       "  <tbody>\n",
       "    <tr>\n",
       "      <th>0</th>\n",
       "      <td>30375428</td>\n",
       "      <td>28</td>\n",
       "      <td>33</td>\n",
       "      <td>SIN3A</td>\n",
       "      <td>Gene</td>\n",
       "      <td>25942</td>\n",
       "      <td>PMC6207735</td>\n",
       "      <td>Title</td>\n",
       "      <td>TITLE</td>\n",
       "      <td>28</td>\n",
       "      <td>33</td>\n",
       "      <td>SIN3A</td>\n",
       "      <td>A novel somatic mutation of SIN3A detected in ...</td>\n",
       "    </tr>\n",
       "    <tr>\n",
       "      <th>1</th>\n",
       "      <td>30375428</td>\n",
       "      <td>46</td>\n",
       "      <td>59</td>\n",
       "      <td>breast cancer</td>\n",
       "      <td>Disease</td>\n",
       "      <td>MESH:D001943</td>\n",
       "      <td>PMC6207735</td>\n",
       "      <td>Title</td>\n",
       "      <td>TITLE</td>\n",
       "      <td>46</td>\n",
       "      <td>59</td>\n",
       "      <td>breast cancer</td>\n",
       "      <td>A novel somatic mutation of SIN3A detected in ...</td>\n",
       "    </tr>\n",
       "    <tr>\n",
       "      <th>2</th>\n",
       "      <td>30375428</td>\n",
       "      <td>122</td>\n",
       "      <td>129</td>\n",
       "      <td>ERalpha</td>\n",
       "      <td>Gene</td>\n",
       "      <td>2099</td>\n",
       "      <td>PMC6207735</td>\n",
       "      <td>Title</td>\n",
       "      <td>TITLE</td>\n",
       "      <td>122</td>\n",
       "      <td>129</td>\n",
       "      <td>ERalpha</td>\n",
       "      <td>A novel somatic mutation of SIN3A detected in ...</td>\n",
       "    </tr>\n",
       "    <tr>\n",
       "      <th>3</th>\n",
       "      <td>30375428</td>\n",
       "      <td>141</td>\n",
       "      <td>154</td>\n",
       "      <td>Breast cancer</td>\n",
       "      <td>Disease</td>\n",
       "      <td>MESH:D001943</td>\n",
       "      <td>PMC6207735</td>\n",
       "      <td>Abstract</td>\n",
       "      <td>ABSTRACT</td>\n",
       "      <td>0</td>\n",
       "      <td>13</td>\n",
       "      <td>Breast cancer</td>\n",
       "      <td>Breast cancer is the most frequent tumor in wo...</td>\n",
       "    </tr>\n",
       "    <tr>\n",
       "      <th>4</th>\n",
       "      <td>30375428</td>\n",
       "      <td>176</td>\n",
       "      <td>181</td>\n",
       "      <td>tumor</td>\n",
       "      <td>Disease</td>\n",
       "      <td>MESH:D009369</td>\n",
       "      <td>PMC6207735</td>\n",
       "      <td>Abstract</td>\n",
       "      <td>ABSTRACT</td>\n",
       "      <td>35</td>\n",
       "      <td>40</td>\n",
       "      <td>tumor</td>\n",
       "      <td>Breast cancer is the most frequent tumor in wo...</td>\n",
       "    </tr>\n",
       "  </tbody>\n",
       "</table>\n",
       "</div>"
      ],
      "text/plain": [
       "       pmid  fulltext_start  fulltext_end           text     type  \\\n",
       "0  30375428              28            33          SIN3A     Gene   \n",
       "1  30375428              46            59  breast cancer  Disease   \n",
       "2  30375428             122           129        ERalpha     Gene   \n",
       "3  30375428             141           154  Breast cancer  Disease   \n",
       "4  30375428             176           181          tumor  Disease   \n",
       "\n",
       "     identifier       pmcid   section section_type  sentence_start  \\\n",
       "0         25942  PMC6207735     Title        TITLE              28   \n",
       "1  MESH:D001943  PMC6207735     Title        TITLE              46   \n",
       "2          2099  PMC6207735     Title        TITLE             122   \n",
       "3  MESH:D001943  PMC6207735  Abstract     ABSTRACT               0   \n",
       "4  MESH:D009369  PMC6207735  Abstract     ABSTRACT              35   \n",
       "\n",
       "   sentence_end  sentence_text  \\\n",
       "0            33          SIN3A   \n",
       "1            59  breast cancer   \n",
       "2           129        ERalpha   \n",
       "3            13  Breast cancer   \n",
       "4            40          tumor   \n",
       "\n",
       "                                            sentence  \n",
       "0  A novel somatic mutation of SIN3A detected in ...  \n",
       "1  A novel somatic mutation of SIN3A detected in ...  \n",
       "2  A novel somatic mutation of SIN3A detected in ...  \n",
       "3  Breast cancer is the most frequent tumor in wo...  \n",
       "4  Breast cancer is the most frequent tumor in wo...  "
      ]
     },
     "execution_count": 6,
     "metadata": {},
     "output_type": "execute_result"
    }
   ],
   "source": [
    "res = requests.post(url = url + 'biocjson', json=json_PMCID, proxies=PROXIES)\n",
    "bioclist = biocjson2list(json.loads(res.text))\n",
    "col_names = ['pmid','fulltext_start','fulltext_end','text','type','identifier',\n",
    "             'pmcid','section','section_type','sentence_start','sentence_end','sentence_text','sentence']\n",
    "df = pd.DataFrame(bioclist, columns=col_names)\n",
    "print(df.shape)\n",
    "df.head()"
   ]
  },
  {
   "cell_type": "code",
   "execution_count": null,
   "metadata": {},
   "outputs": [],
   "source": []
  }
 ],
 "metadata": {
  "kernelspec": {
   "display_name": "Python 3",
   "language": "python",
   "name": "python3"
  },
  "language_info": {
   "codemirror_mode": {
    "name": "ipython",
    "version": 3
   },
   "file_extension": ".py",
   "mimetype": "text/x-python",
   "name": "python",
   "nbconvert_exporter": "python",
   "pygments_lexer": "ipython3",
   "version": "3.7.3"
  }
 },
 "nbformat": 4,
 "nbformat_minor": 4
}
