{
 "cells": [
  {
   "cell_type": "markdown",
   "metadata": {},
   "source": [
    "# PubMed"
   ]
  },
  {
   "cell_type": "markdown",
   "metadata": {},
   "source": [
    "## 1. About"
   ]
  },
  {
   "cell_type": "markdown",
   "metadata": {},
   "source": [
    "- PubMed comprises more than 33 million citations for biomedical literature from MEDLINE, life science journals, and online books. Citations may include links to full text content from PubMed Central and publisher web sites.\n",
    "- The PMC OA service allows users to discover downloadable resources from the PMC Open Access Subset"
   ]
  },
  {
   "cell_type": "markdown",
   "metadata": {},
   "source": [
    "- `website`: https://pubmed.ncbi.nlm.nih.gov/\n",
    "- `paper`: https://www.nature.com/articles/nbt.4267\n",
    "- `OA Web Service`: https://www.ncbi.nlm.nih.gov/pmc/tools/oa-service/"
   ]
  },
  {
   "cell_type": "markdown",
   "metadata": {},
   "source": [
    "## 2. Api"
   ]
  },
  {
   "cell_type": "code",
   "execution_count": 2,
   "metadata": {},
   "outputs": [],
   "source": [
    "import os\n",
    "import json\n",
    "import tarfile\n",
    "import requests\n",
    "from bs4 import BeautifulSoup"
   ]
  },
  {
   "cell_type": "markdown",
   "metadata": {},
   "source": [
    "**Get database information:**"
   ]
  },
  {
   "cell_type": "code",
   "execution_count": 3,
   "metadata": {},
   "outputs": [
    {
     "name": "stdout",
     "output_type": "stream",
     "text": [
      "<OA><responseDate>2021-11-08 09:24:05</responseDate><request>https://www.ncbi.nlm.nih.gov/pmc/utils/oa/oa.fcgi</request><repositoryName>PubMed Central Open Access FTP Repository</repositoryName><formats><format>tgz</format><format>pdf</format></formats><records><count>3933626</count><count format=\"tgz\">3933623</count><count format=\"pdf\">1020064</count><latest>2021-11-08 05:16:42</latest></records></OA>\n",
      "\n"
     ]
    }
   ],
   "source": [
    "url = \"https://www.ncbi.nlm.nih.gov/pmc/utils/oa/oa.fcgi\"\n",
    "r = requests.get(url)\n",
    "print(r.text)"
   ]
  },
  {
   "cell_type": "markdown",
   "metadata": {},
   "source": [
    "**Get all the records updated on or after a specified date:**"
   ]
  },
  {
   "cell_type": "code",
   "execution_count": 4,
   "metadata": {},
   "outputs": [],
   "source": [
    "url = \"https://www.ncbi.nlm.nih.gov/pmc/utils/oa/oa.fcgi?from=2021-11-08\"\n",
    "r = requests.get(url)"
   ]
  },
  {
   "cell_type": "markdown",
   "metadata": {},
   "source": [
    "**Get a record by id:**"
   ]
  },
  {
   "cell_type": "code",
   "execution_count": 5,
   "metadata": {},
   "outputs": [
    {
     "name": "stdout",
     "output_type": "stream",
     "text": [
      "<OA><responseDate>2021-11-08 09:24:16</responseDate><request id=\"PMC5334499\">https://www.ncbi.nlm.nih.gov/pmc/utils/oa/oa.fcgi?id=PMC5334499</request><records returned-count=\"2\" total-count=\"2\"><record id=\"PMC5334499\" citation=\"World J Radiol. 2017 Feb 28; 9(2):27-33\" license=\"CC BY-NC\" retracted=\"no\"><link format=\"tgz\" updated=\"2017-03-17 13:10:45\" href=\"ftp://ftp.ncbi.nlm.nih.gov/pub/pmc/oa_package/8e/71/PMC5334499.tar.gz\" /><link format=\"pdf\" updated=\"2017-03-03 06:05:17\" href=\"ftp://ftp.ncbi.nlm.nih.gov/pub/pmc/oa_pdf/8e/71/WJR-9-27.PMC5334499.pdf\" /></record></records></OA>\n",
      "\n"
     ]
    }
   ],
   "source": [
    "url = \"https://www.ncbi.nlm.nih.gov/pmc/utils/oa/oa.fcgi?id=PMC5334499\"\n",
    "r = requests.get(url)\n",
    "print(r.text)"
   ]
  },
  {
   "cell_type": "markdown",
   "metadata": {},
   "source": [
    "**download tar with wget**"
   ]
  },
  {
   "cell_type": "markdown",
   "metadata": {},
   "source": [
    "`!wget -c ftp://ftp.ncbi.nlm.nih.gov/pub/pmc/oa_package/27/f6/PMC6517830.tar.gz -O - | tar -xz`"
   ]
  },
  {
   "cell_type": "markdown",
   "metadata": {},
   "source": [
    "**download tar with python**"
   ]
  },
  {
   "cell_type": "code",
   "execution_count": 7,
   "metadata": {},
   "outputs": [
    {
     "name": "stdout",
     "output_type": "stream",
     "text": [
      "http://ftp.ncbi.nlm.nih.gov/pub/pmc/oa_package/8e/71/PMC5334499.tar.gz\n",
      "http://ftp.ncbi.nlm.nih.gov/pub/pmc/oa_pdf/8e/71/WJR-9-27.PMC5334499.pdf\n"
     ]
    }
   ],
   "source": [
    "PMCID = 'PMC5334499'\n",
    "PMC_info_url = \"https://www.ncbi.nlm.nih.gov/pmc/utils/oa/oa.fcgi?id=\"+PMCID\n",
    "r = requests.get(PMC_info_url)\n",
    "r_text = BeautifulSoup(r.text)\n",
    "links = r_text.oa.record.findAll('link')\n",
    "PMC_tar_href, PMC_pdf_href = '', ''\n",
    "for l in links:\n",
    "    if l['format']=='tgz':\n",
    "        PMC_tar_href = l['href']\n",
    "    if l['format']=='pdf':\n",
    "        PMC_pdf_href = l['href']\n",
    "PMC_tar_url = PMC_tar_href.replace('ftp:', 'http:')\n",
    "PMC_pdf_url = PMC_pdf_href.replace('ftp:', 'http:')\n",
    "print(PMC_tar_url)\n",
    "print(PMC_pdf_url)"
   ]
  },
  {
   "cell_type": "code",
   "execution_count": null,
   "metadata": {},
   "outputs": [],
   "source": [
    "tar_r = requests.get(PMC_tar_url)\n",
    "with open(PMCID+\".tar.gz\", 'wb') as f:\n",
    "    f.write(tar_r.content)\n",
    "file = tarfile.open(PMCID+'.tar.gz') \n",
    "file.extractall('.') \n",
    "file.close() "
   ]
  },
  {
   "cell_type": "markdown",
   "metadata": {},
   "source": [
    "**download pdf with python**"
   ]
  },
  {
   "cell_type": "code",
   "execution_count": 60,
   "metadata": {},
   "outputs": [],
   "source": [
    "pdf_r = requests.get(PMC_pdf_url)\n",
    "with open(PMCID+\".pdf\", 'wb') as f:\n",
    "    f.write(pdf_r.content) "
   ]
  },
  {
   "cell_type": "code",
   "execution_count": null,
   "metadata": {},
   "outputs": [],
   "source": []
  }
 ],
 "metadata": {
  "kernelspec": {
   "display_name": "Python 3",
   "language": "python",
   "name": "python3"
  },
  "language_info": {
   "codemirror_mode": {
    "name": "ipython",
    "version": 3
   },
   "file_extension": ".py",
   "mimetype": "text/x-python",
   "name": "python",
   "nbconvert_exporter": "python",
   "pygments_lexer": "ipython3",
   "version": "3.7.3"
  },
  "toc-autonumbering": true
 },
 "nbformat": 4,
 "nbformat_minor": 5
}
