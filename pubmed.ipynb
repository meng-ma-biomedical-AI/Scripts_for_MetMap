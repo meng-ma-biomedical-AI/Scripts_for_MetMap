{
 "cells": [
  {
   "cell_type": "markdown",
   "metadata": {},
   "source": [
    "# PubMed"
   ]
  },
  {
   "cell_type": "markdown",
   "metadata": {},
   "source": [
    "## 1. About"
   ]
  },
  {
   "cell_type": "markdown",
   "metadata": {},
   "source": [
    "- PubMed comprises more than 33 million citations for biomedical literature from MEDLINE, life science journals, and online books. Citations may include links to full text content from PubMed Central and publisher web sites.\n",
    "- The PMC OA service allows users to discover downloadable resources from the PMC Open Access Subset"
   ]
  },
  {
   "cell_type": "markdown",
   "metadata": {},
   "source": [
    "- `website`: https://pubmed.ncbi.nlm.nih.gov/\n",
    "- `paper`: https://www.nature.com/articles/nbt.4267\n",
    "- `OA Web Service`: https://www.ncbi.nlm.nih.gov/pmc/tools/oa-service/"
   ]
  },
  {
   "cell_type": "markdown",
   "metadata": {},
   "source": [
    "## 2. PubMed"
   ]
  },
  {
   "cell_type": "code",
   "execution_count": 5,
   "metadata": {},
   "outputs": [],
   "source": [
    "import os\n",
    "import time\n",
    "from Bio import Medline, Entrez\n",
    "Entrez.email = \"\""
   ]
  },
  {
   "cell_type": "code",
   "execution_count": 2,
   "metadata": {},
   "outputs": [],
   "source": [
    "import os\n",
    "proxy = 'http://165.225.96.34:10015'\n",
    "os.environ['http_proxy'] = proxy \n",
    "os.environ['HTTP_PROXY'] = proxy\n",
    "os.environ['https_proxy'] = proxy\n",
    "os.environ['HTTPS_PROXY'] = proxy"
   ]
  },
  {
   "cell_type": "markdown",
   "metadata": {},
   "source": [
    "<li><b>input a list of terms, return a list of pmids</b></li>"
   ]
  },
  {
   "cell_type": "code",
   "execution_count": 3,
   "metadata": {},
   "outputs": [
    {
     "name": "stdout",
     "output_type": "stream",
     "text": [
      "[query]: (COVID-19) OR (SARS-CoV-2)\n",
      "193903 ['6783405', '14648488', '15631713', '23449231', '23517868']\n"
     ]
    }
   ],
   "source": [
    "def term2pmid(terms: list, save_path=None) -> list:\n",
    "    \"\"\"输入查询词，访问PubMed数据库，获得PMID列表.\"\"\"\n",
    "    # 构建查询语句\n",
    "    query_terms = '(' + ') OR ('.join(terms) + ')'\n",
    "    print('[query]: {}'.format(query_terms))\n",
    "    # 开始检索\n",
    "    handle0 = Entrez.esearch(db='pubmed', term=query_terms, RetMax=300000000)\n",
    "    record = Entrez.read(handle0)\n",
    "    pmids, count = record['IdList'], record['Count']\n",
    "    # 按升序进行排序\n",
    "    pmids.sort(key=int)\n",
    "    # 保存结果\n",
    "    if save_path:\n",
    "        with open(save_path, 'w') as f:\n",
    "            f.write('\\n'.join(pmids) + '\\n')\n",
    "        print('[pmid]: {}, [save path]: {}'.format(len(pmids), save_path))\n",
    "    return pmids\n",
    "\n",
    "terms = ['COVID-19', 'SARS-CoV-2']\n",
    "pmids = term2pmid(terms)\n",
    "print(len(pmids), pmids[:5])"
   ]
  },
  {
   "cell_type": "markdown",
   "metadata": {},
   "source": [
    "<li><b>download abstracts with medline format</b></li>"
   ]
  },
  {
   "cell_type": "code",
   "execution_count": 6,
   "metadata": {},
   "outputs": [
    {
     "name": "stdout",
     "output_type": "stream",
     "text": [
      "[query]: (HBV) OR (Hepatitis B Virus)\n",
      "[pmid]: 65715, [save path]:None\n",
      "\t[Downloading]: 1-10000\n",
      "\t[Downloading]: 10001-20000\n",
      "\t[Downloading]: 20001-30000\n",
      "\t[Downloading]: 30001-40000\n",
      "\t[Downloading]: 40001-50000\n",
      "\t[Downloading]: 50001-60000\n",
      "\t[Downloading]: 60001-65715\n",
      "\t[used time]: 658.1524 seconds.\n"
     ]
    },
    {
     "data": {
      "text/plain": [
       "'downloaded!'"
      ]
     },
     "execution_count": 6,
     "metadata": {},
     "output_type": "execute_result"
    }
   ],
   "source": [
    "def downloadMedline(pmids:list=None, save_path=None):\n",
    "    t1 = time.time()\n",
    "    print(\"[pmid]: {}, [save path]:{}\".format(len(pmids), save_path))\n",
    "    count = len(pmids)\n",
    "    batch_size = 10000\n",
    "    iterations = [[i * batch_size, min((i + 1) * batch_size, count)] for i in range((count-1) // batch_size + 1)]\n",
    "    # 开始分批次下载\n",
    "    medlines = list()\n",
    "    for (start, end) in iterations:\n",
    "        print('\\t[Downloading]: {}-{}'.format(start+1, end))\n",
    "        handle1 = Entrez.efetch(db='pubmed', id=pmids[start:end], rettype='medline', retmode='text')\n",
    "        record_medline = Medline.parse(handle1)\n",
    "        medlines.extend(list(record_medline))\n",
    "    # 保存\n",
    "    if save_path:\n",
    "        with open(save_path, \"w\") as f:\n",
    "            f.write(json.dumps(medlines, ensure_ascii=False, indent=4))\n",
    "        print('\\t[saved]:', save_path)\n",
    "    t2 = time.time()\n",
    "    print('\\t[used time]: {} seconds.'.format(round(t2-t1, 4)))\n",
    "    return \"downloaded!\"\n",
    "\n",
    "\n",
    "terms = ['HBV', 'Hepatitis B Virus']\n",
    "pmids = term2pmid(terms)\n",
    "downloadMedline(pmids)"
   ]
  },
  {
   "cell_type": "markdown",
   "metadata": {},
   "source": [
    "<li><b>PMCID - PMID - Manuscript ID - DOI Converter</b></li>"
   ]
  },
  {
   "cell_type": "markdown",
   "metadata": {},
   "source": [
    "`https://www.ncbi.nlm.nih.gov/pmc/pmctopmid/`"
   ]
  },
  {
   "cell_type": "markdown",
   "metadata": {},
   "source": [
    "## 3. PMC"
   ]
  },
  {
   "cell_type": "code",
   "execution_count": 2,
   "metadata": {},
   "outputs": [],
   "source": [
    "import os\n",
    "import json\n",
    "import tarfile\n",
    "import requests\n",
    "from bs4 import BeautifulSoup"
   ]
  },
  {
   "cell_type": "markdown",
   "metadata": {},
   "source": [
    "<li><b>Get database information:</b></li>"
   ]
  },
  {
   "cell_type": "code",
   "execution_count": 3,
   "metadata": {},
   "outputs": [
    {
     "name": "stdout",
     "output_type": "stream",
     "text": [
      "<OA><responseDate>2021-11-08 09:24:05</responseDate><request>https://www.ncbi.nlm.nih.gov/pmc/utils/oa/oa.fcgi</request><repositoryName>PubMed Central Open Access FTP Repository</repositoryName><formats><format>tgz</format><format>pdf</format></formats><records><count>3933626</count><count format=\"tgz\">3933623</count><count format=\"pdf\">1020064</count><latest>2021-11-08 05:16:42</latest></records></OA>\n",
      "\n"
     ]
    }
   ],
   "source": [
    "url = \"https://www.ncbi.nlm.nih.gov/pmc/utils/oa/oa.fcgi\"\n",
    "r = requests.get(url)\n",
    "print(r.text)"
   ]
  },
  {
   "cell_type": "markdown",
   "metadata": {},
   "source": [
    "<li><b>Get all the records updated on or after a specified date:</b></li>"
   ]
  },
  {
   "cell_type": "code",
   "execution_count": 4,
   "metadata": {},
   "outputs": [],
   "source": [
    "url = \"https://www.ncbi.nlm.nih.gov/pmc/utils/oa/oa.fcgi?from=2021-11-08\"\n",
    "r = requests.get(url)"
   ]
  },
  {
   "cell_type": "markdown",
   "metadata": {},
   "source": [
    "<li><b>Get a record by id:</b></li>"
   ]
  },
  {
   "cell_type": "code",
   "execution_count": 5,
   "metadata": {},
   "outputs": [
    {
     "name": "stdout",
     "output_type": "stream",
     "text": [
      "<OA><responseDate>2021-11-08 09:24:16</responseDate><request id=\"PMC5334499\">https://www.ncbi.nlm.nih.gov/pmc/utils/oa/oa.fcgi?id=PMC5334499</request><records returned-count=\"2\" total-count=\"2\"><record id=\"PMC5334499\" citation=\"World J Radiol. 2017 Feb 28; 9(2):27-33\" license=\"CC BY-NC\" retracted=\"no\"><link format=\"tgz\" updated=\"2017-03-17 13:10:45\" href=\"ftp://ftp.ncbi.nlm.nih.gov/pub/pmc/oa_package/8e/71/PMC5334499.tar.gz\" /><link format=\"pdf\" updated=\"2017-03-03 06:05:17\" href=\"ftp://ftp.ncbi.nlm.nih.gov/pub/pmc/oa_pdf/8e/71/WJR-9-27.PMC5334499.pdf\" /></record></records></OA>\n",
      "\n"
     ]
    }
   ],
   "source": [
    "url = \"https://www.ncbi.nlm.nih.gov/pmc/utils/oa/oa.fcgi?id=PMC5334499\"\n",
    "r = requests.get(url)\n",
    "print(r.text)"
   ]
  },
  {
   "cell_type": "markdown",
   "metadata": {},
   "source": [
    "<li><b>download tar with wget</b></li>"
   ]
  },
  {
   "cell_type": "markdown",
   "metadata": {},
   "source": [
    "`!wget -c ftp://ftp.ncbi.nlm.nih.gov/pub/pmc/oa_package/27/f6/PMC6517830.tar.gz -O - | tar -xz`"
   ]
  },
  {
   "cell_type": "markdown",
   "metadata": {},
   "source": [
    "<li><b>download tar with python</b></li>"
   ]
  },
  {
   "cell_type": "code",
   "execution_count": 7,
   "metadata": {},
   "outputs": [
    {
     "name": "stdout",
     "output_type": "stream",
     "text": [
      "http://ftp.ncbi.nlm.nih.gov/pub/pmc/oa_package/8e/71/PMC5334499.tar.gz\n",
      "http://ftp.ncbi.nlm.nih.gov/pub/pmc/oa_pdf/8e/71/WJR-9-27.PMC5334499.pdf\n"
     ]
    }
   ],
   "source": [
    "PMCID = 'PMC5334499'\n",
    "PMC_info_url = \"https://www.ncbi.nlm.nih.gov/pmc/utils/oa/oa.fcgi?id=\"+PMCID\n",
    "r = requests.get(PMC_info_url)\n",
    "r_text = BeautifulSoup(r.text)\n",
    "links = r_text.oa.record.findAll('link')\n",
    "PMC_tar_href, PMC_pdf_href = '', ''\n",
    "for l in links:\n",
    "    if l['format']=='tgz':\n",
    "        PMC_tar_href = l['href']\n",
    "    if l['format']=='pdf':\n",
    "        PMC_pdf_href = l['href']\n",
    "PMC_tar_url = PMC_tar_href.replace('ftp:', 'http:')\n",
    "PMC_pdf_url = PMC_pdf_href.replace('ftp:', 'http:')\n",
    "print(PMC_tar_url)\n",
    "print(PMC_pdf_url)"
   ]
  },
  {
   "cell_type": "code",
   "execution_count": null,
   "metadata": {},
   "outputs": [],
   "source": [
    "tar_r = requests.get(PMC_tar_url)\n",
    "with open(PMCID+\".tar.gz\", 'wb') as f:\n",
    "    f.write(tar_r.content)\n",
    "file = tarfile.open(PMCID+'.tar.gz') \n",
    "file.extractall('.') \n",
    "file.close() "
   ]
  },
  {
   "cell_type": "markdown",
   "metadata": {},
   "source": [
    "<li><b>download pdf with python</b></li>"
   ]
  },
  {
   "cell_type": "code",
   "execution_count": null,
   "metadata": {},
   "outputs": [],
   "source": [
    "pdf_r = requests.get(PMC_pdf_url)\n",
    "with open(PMCID+\".pdf\", 'wb') as f:\n",
    "    f.write(pdf_r.content) "
   ]
  },
  {
   "cell_type": "code",
   "execution_count": null,
   "metadata": {},
   "outputs": [],
   "source": []
  },
  {
   "cell_type": "code",
   "execution_count": null,
   "metadata": {},
   "outputs": [],
   "source": []
  }
 ],
 "metadata": {
  "kernelspec": {
   "display_name": "Python 3",
   "language": "python",
   "name": "python3"
  },
  "language_info": {
   "codemirror_mode": {
    "name": "ipython",
    "version": 3
   },
   "file_extension": ".py",
   "mimetype": "text/x-python",
   "name": "python",
   "nbconvert_exporter": "python",
   "pygments_lexer": "ipython3",
   "version": "3.7.3"
  },
  "toc-autonumbering": true
 },
 "nbformat": 4,
 "nbformat_minor": 5
}
