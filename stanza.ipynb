{
 "cells": [
  {
   "cell_type": "markdown",
   "metadata": {},
   "source": [
    "# Stanza: A Python NLP Library for Many Human Languages"
   ]
  },
  {
   "cell_type": "markdown",
   "metadata": {},
   "source": [
    "## 1. About"
   ]
  },
  {
   "cell_type": "markdown",
   "metadata": {},
   "source": [
    "- The Stanford NLP Group's official Python NLP library. It contains support for running various accurate natural language processing tools on **60+ languages**\n",
    "- A new collection of **biomedical** and **clinical** English model packages are now available, offering seamless experience for **syntactic analysis** and **named entity recognition (NER)** from biomedical literature text and clinical notes. "
   ]
  },
  {
   "cell_type": "markdown",
   "metadata": {},
   "source": [
    "- `github`: https://github.com/stanfordnlp/stanza\n",
    "- `website`: https://stanfordnlp.github.io/stanza/\n",
    "- `demo`: http://stanza.run/\n",
    "- `models`: https://huggingface.co/stanfordnlp/stanza-en/tree/main/models\n",
    "- `Biomedical page`: https://stanfordnlp.github.io/stanza/biomed.html\n",
    "- `Biomedical demo`: http://stanza.run/bio\n",
    "- `Biomedical paper`: https://academic.oup.com/jamia/article/28/9/1892/6307885"
   ]
  },
  {
   "cell_type": "markdown",
   "metadata": {},
   "source": [
    "- Overview of the biomedical and clinical English model packages in the Stanza NLP library. For syntactic analysis, an example output from the CRAFT biomedical pipeline is shown; For named entity recognition, an example output from the i2b2 clinical model is shown.\n",
    "<img width=\"500\" height=\"800\" align=\"left\" src=\"https://oup.silverchair-cdn.com/oup/backfile/Content_public/Journal/jamia/28/9/10.1093_jamia_ocab090/1/ocab090f1.jpeg?Expires=1639110397&Signature=xsV~YOlEvbas3CVB8FaojrucfRH3kMH6fy~JOtiwuHGkmtO0HDh~Qx1fWAn4esbK6Q0MBGpvPBp2Ndh9w0T8NFC6LJ6zWhr3qfzC72Jieb4-TGyHxZdGKDypa~~eA9WUhlcNPmhoRcR5sQ0XTzXy9r--6oOhZZ906RQVtCremvkyteYUTUqsmlXkuMTKP5Y6DmF16VamYMnTGfPU2VUYjCz8Lj0WxlOWd6zIXpNFRlLFqh4lKcRowmnzOp1UgkKKOt8Sv5lhiBabcytp9fb1oo74k83iPTFGdcbeNn9SoMagiVIb2gyBP1Hj4ZX1JD2FK076BqaL6Qn7dmDgxL0hjg__&Key-Pair-Id=APKAIE5G5CRDK6RD3PGA\">"
   ]
  },
  {
   "cell_type": "markdown",
   "metadata": {},
   "source": [
    "- Details on NER Datasets. first 8 is **biological** datasets, last 2 is **clinical** datasets\n",
    "\n",
    "|Dataset|Entity Types|Number of Tokens (train/dev/test)|\n",
    "|---|---|----\n",
    "|AnatEM|`Anatomy`|153,823/58,785/99,976\n",
    "|BC5CDR|`Chemical`,`Disease`| 118,170/117,453/124,750\n",
    "|BC4CHEMD|`Chemical`|891,948/886,324/766,033\n",
    "|BioNLP13CG|`Amino_acid`, `Anatomical_system`, `Cancer`, `Cell`, `Cellular_component`, `Developing_anatomical_structure`, `Gene_or_gene_product`, `Immaterial_anatomical_entity`, `Multi-tissue_structure`, `Organ`, `Organism`, `Organism_subdivision`, `Organism_substance`, `Pathological_formation`, `Simple_chemical`, `Tissue`|83,467/27,599/52,771\n",
    "|JNLPBA|`Cell_line`, `Cell_type`, `DNA`, `Protein`, `RNA`|446,890/47,661/101,443\n",
    "|Linnaeus|`Species`|280,960/93,815/164,653\n",
    "|NCBI-Disease|`Disease`|135,701/23,969/24,497\n",
    "|S800|`Species`|147,291/22,217/42,298\n",
    "|i2b2|`Problem`, `Test`, `Treatment`|106,597/44,672/269,954\n",
    "|Radiology|`Anatomy`, `Observation`, `Anatomy_modifier`, `Observation_modifier`, `Uncertainty`|30,137/2,423/3,693"
   ]
  },
  {
   "cell_type": "markdown",
   "metadata": {},
   "source": [
    "## 2. Install"
   ]
  },
  {
   "cell_type": "markdown",
   "metadata": {},
   "source": [
    "installing Stanza with conda"
   ]
  },
  {
   "cell_type": "raw",
   "metadata": {},
   "source": [
    "conda install -c stanfordnlp stanza"
   ]
  },
  {
   "cell_type": "markdown",
   "metadata": {},
   "source": [
    "or, installing Stanza with pip"
   ]
  },
  {
   "cell_type": "raw",
   "metadata": {},
   "source": [
    "pip install stanza"
   ]
  },
  {
   "cell_type": "markdown",
   "metadata": {},
   "source": [
    "## 3. Usage"
   ]
  },
  {
   "cell_type": "code",
   "execution_count": 1,
   "metadata": {},
   "outputs": [],
   "source": [
    "import stanza"
   ]
  },
  {
   "cell_type": "markdown",
   "metadata": {},
   "source": [
    "use stanza in 4 steps:\n",
    "- a. download pipline and models\n",
    "- b. initialize pipeline and models\n",
    "- c. annotate text.\n",
    "- d. print out the entities."
   ]
  },
  {
   "cell_type": "markdown",
   "metadata": {},
   "source": [
    "### 3.1. Clinical: i2b2"
   ]
  },
  {
   "cell_type": "raw",
   "metadata": {},
   "source": [
    "stanza.download('en', package='mimic', processors={'ner': 'i2b2'})"
   ]
  },
  {
   "cell_type": "code",
   "execution_count": 2,
   "metadata": {},
   "outputs": [
    {
     "name": "stderr",
     "output_type": "stream",
     "text": [
      "2021-11-08 14:49:31 INFO: Loading these models for language: en (English):\n",
      "=======================\n",
      "| Processor | Package |\n",
      "-----------------------\n",
      "| tokenize  | mimic   |\n",
      "| pos       | mimic   |\n",
      "| lemma     | mimic   |\n",
      "| depparse  | mimic   |\n",
      "| ner       | i2b2    |\n",
      "=======================\n",
      "\n",
      "2021-11-08 14:49:32 INFO: Use device: gpu\n",
      "2021-11-08 14:49:32 INFO: Loading: tokenize\n",
      "2021-11-08 14:49:35 INFO: Loading: pos\n",
      "2021-11-08 14:49:35 INFO: Loading: lemma\n",
      "2021-11-08 14:49:35 INFO: Loading: depparse\n",
      "2021-11-08 14:49:35 INFO: Loading: ner\n",
      "2021-11-08 14:49:36 INFO: Done loading processors!\n"
     ]
    },
    {
     "name": "stdout",
     "output_type": "stream",
     "text": [
      "16 29 PROBLEM a sore throat\n",
      "51 67 TREATMENT Cepacol lozenges\n"
     ]
    }
   ],
   "source": [
    "nlp = stanza.Pipeline('en', package='mimic', processors={'ner': 'i2b2'})\n",
    "doc = nlp('The patient had a sore throat and was treated with Cepacol lozenges.')\n",
    "for ent in doc.entities:\n",
    "    print(ent.start_char, ent.end_char, ent.type, ent.text)"
   ]
  },
  {
   "cell_type": "markdown",
   "metadata": {},
   "source": [
    "### 3.2. Clinical: Radiology"
   ]
  },
  {
   "cell_type": "raw",
   "metadata": {},
   "source": [
    "stanza.download(lang=\"en\",package=None, processors={\"ner\":\"radiology\"})"
   ]
  },
  {
   "cell_type": "code",
   "execution_count": 3,
   "metadata": {},
   "outputs": [
    {
     "name": "stderr",
     "output_type": "stream",
     "text": [
      "2021-11-08 14:49:37 INFO: Loading these models for language: en (English):\n",
      "=========================\n",
      "| Processor | Package   |\n",
      "-------------------------\n",
      "| tokenize  | mimic     |\n",
      "| pos       | mimic     |\n",
      "| lemma     | mimic     |\n",
      "| depparse  | mimic     |\n",
      "| ner       | radiology |\n",
      "=========================\n",
      "\n",
      "2021-11-08 14:49:37 INFO: Use device: gpu\n",
      "2021-11-08 14:49:37 INFO: Loading: tokenize\n",
      "2021-11-08 14:49:37 INFO: Loading: pos\n",
      "2021-11-08 14:49:37 INFO: Loading: lemma\n",
      "2021-11-08 14:49:37 INFO: Loading: depparse\n",
      "2021-11-08 14:49:37 INFO: Loading: ner\n",
      "2021-11-08 14:49:38 INFO: Done loading processors!\n"
     ]
    },
    {
     "name": "stdout",
     "output_type": "stream",
     "text": [
      "66 71 ANATOMY ankle\n",
      "72 80 OBSERVATION swelling\n",
      "118 125 OBSERVATION_MODIFIER hypoxic\n",
      "188 195 OBSERVATION_MODIFIER reduced\n",
      "196 209 OBSERVATION breath sounds\n",
      "214 222 OBSERVATION dullness\n",
      "226 236 OBSERVATION percussion\n",
      "240 244 ANATOMY_MODIFIER both\n",
      "245 249 ANATOMY lung\n",
      "250 255 ANATOMY_MODIFIER bases\n",
      "274 285 OBSERVATION_MODIFIER significant\n",
      "286 292 OBSERVATION_MODIFIER degree\n",
      "296 301 ANATOMY_MODIFIER lower\n",
      "302 306 ANATOMY limb\n",
      "307 313 OBSERVATION oedema\n",
      "334 343 ANATOMY mid-thigh\n",
      "344 355 ANATOMY_MODIFIER bilaterally\n"
     ]
    }
   ],
   "source": [
    "nlp = stanza.Pipeline('en', package='mimic', processors={'ner': 'radiology'})\n",
    "text = \"Mrs Smith presented to A&E with worsening shortness of breath and ankle swelling. \\\n",
    "On arrival, she was tachypnoeic and hypoxic (oxygen saturation 82% on air). Clinical examination \\\n",
    "revealed reduced breath sounds and dullness to percussion in both lung bases. There was \\\n",
    "also a significant degree of lower limb oedema extending up to the mid-thigh bilaterally.\"\n",
    "doc = nlp(text)\n",
    "for ent in doc.entities:\n",
    "    print(ent.start_char, ent.end_char, ent.type, ent.text)"
   ]
  },
  {
   "cell_type": "markdown",
   "metadata": {},
   "source": [
    "### 3.3. Biology: NCBI_Disease"
   ]
  },
  {
   "cell_type": "raw",
   "metadata": {},
   "source": [
    "stanza.download(lang=\"en\",package=None,processors={\"ner\":\"ncbi_disease\"})"
   ]
  },
  {
   "cell_type": "code",
   "execution_count": 4,
   "metadata": {},
   "outputs": [
    {
     "name": "stderr",
     "output_type": "stream",
     "text": [
      "2021-11-08 14:49:38 INFO: Loading these models for language: en (English):\n",
      "============================\n",
      "| Processor | Package      |\n",
      "----------------------------\n",
      "| tokenize  | mimic        |\n",
      "| pos       | mimic        |\n",
      "| lemma     | mimic        |\n",
      "| depparse  | mimic        |\n",
      "| ner       | ncbi_disease |\n",
      "============================\n",
      "\n",
      "2021-11-08 14:49:38 INFO: Use device: gpu\n",
      "2021-11-08 14:49:38 INFO: Loading: tokenize\n",
      "2021-11-08 14:49:38 INFO: Loading: pos\n",
      "2021-11-08 14:49:39 INFO: Loading: lemma\n",
      "2021-11-08 14:49:39 INFO: Loading: depparse\n",
      "2021-11-08 14:49:39 INFO: Loading: ner\n",
      "2021-11-08 14:49:40 INFO: Done loading processors!\n"
     ]
    },
    {
     "name": "stdout",
     "output_type": "stream",
     "text": [
      "90 104 DISEASE liver fibrosis\n",
      "130 149 DISEASE chronic hepatitis B\n",
      "151 154 DISEASE CHB\n",
      "226 239 DISEASE CHB infection\n"
     ]
    }
   ],
   "source": [
    "nlp = stanza.Pipeline('en', package='mimic', processors={'ner': 'ncbi_disease'})\n",
    "pmid=28483579\n",
    "abstract = \"This study compared 2-D shear wave elastography (SWE) and transient elastography (TE) for liver \\\n",
    "fibrosis staging in patients with chronic hepatitis B (CHB) infection using liver biopsy as the \\\n",
    "reference standard. Patients with CHB infection who underwent liver biopsy were consecutively included. \\\n",
    "After exclusions, 257 patients were analyzed. Two-dimensional SWE resulted in a significantly higher \\\n",
    "rate of reliable measurements (98.1%, 252/257) than TE (93.0%, 239/257) (p = 0.011). Liver stiffness \\\n",
    "measurements of the two examinations exhibited a strong correlation (r = 0.835, p &lt; 0.001). \\\n",
    "In patients given a confirmed histologic diagnosis, Spearman's rank coefficients were 0.520 in stage \\\n",
    "F0 (p &lt; 0.001), 0.684 in stage F1 (p &lt; 0.001), 0.777 in stage F2 (p &lt; 0.001), 0.672 in stage F3 \\\n",
    "(p &lt; 0.001) and 0.755 in stage F4 (p &lt; 0.001). There were no significant differences between \\\n",
    "the areas under the receiver operating characteristic (ROC) curves of 2-D SWE and TE for liver \\\n",
    "fibrosis staging (all p values &gt; 0.05). Two-dimensional SWE had diagnostic accuracy comparable to \\\n",
    "that of TE for liver fibrosis staging. The measurements that the two techniques provide are not interchangeable.\"\n",
    "doc = nlp(abstract)\n",
    "for ent in doc.entities:\n",
    "    print(ent.start_char, ent.end_char, ent.type, ent.text)"
   ]
  },
  {
   "cell_type": "markdown",
   "metadata": {},
   "source": [
    "### 3.4. Biology: BC5CDR"
   ]
  },
  {
   "cell_type": "raw",
   "metadata": {},
   "source": [
    "stanza.download(lang=\"en\",package=None,processors={\"ner\":\"bc5cdr\"})"
   ]
  },
  {
   "cell_type": "code",
   "execution_count": 5,
   "metadata": {},
   "outputs": [
    {
     "name": "stderr",
     "output_type": "stream",
     "text": [
      "2021-11-08 14:49:40 INFO: Loading these models for language: en (English):\n",
      "=======================\n",
      "| Processor | Package |\n",
      "-----------------------\n",
      "| tokenize  | mimic   |\n",
      "| pos       | mimic   |\n",
      "| lemma     | mimic   |\n",
      "| depparse  | mimic   |\n",
      "| ner       | bc5cdr  |\n",
      "=======================\n",
      "\n",
      "2021-11-08 14:49:40 INFO: Use device: gpu\n",
      "2021-11-08 14:49:40 INFO: Loading: tokenize\n",
      "2021-11-08 14:49:40 INFO: Loading: pos\n",
      "2021-11-08 14:49:41 INFO: Loading: lemma\n",
      "2021-11-08 14:49:41 INFO: Loading: depparse\n",
      "2021-11-08 14:49:41 INFO: Loading: ner\n",
      "2021-11-08 14:49:42 INFO: Done loading processors!\n"
     ]
    },
    {
     "name": "stdout",
     "output_type": "stream",
     "text": [
      "90 104 DISEASE liver fibrosis\n",
      "130 149 DISEASE chronic hepatitis B\n",
      "151 154 DISEASE CHB\n",
      "156 165 DISEASE infection\n",
      "226 239 DISEASE CHB infection\n",
      "993 1001 DISEASE fibrosis\n",
      "1115 1123 DISEASE fibrosis\n"
     ]
    }
   ],
   "source": [
    "nlp = stanza.Pipeline('en', package='mimic', processors={'ner': 'bc5cdr'})\n",
    "pmid=28483579\n",
    "abstract = \"This study compared 2-D shear wave elastography (SWE) and transient elastography (TE) for liver \\\n",
    "fibrosis staging in patients with chronic hepatitis B (CHB) infection using liver biopsy as the \\\n",
    "reference standard. Patients with CHB infection who underwent liver biopsy were consecutively included. \\\n",
    "After exclusions, 257 patients were analyzed. Two-dimensional SWE resulted in a significantly higher \\\n",
    "rate of reliable measurements (98.1%, 252/257) than TE (93.0%, 239/257) (p = 0.011). Liver stiffness \\\n",
    "measurements of the two examinations exhibited a strong correlation (r = 0.835, p &lt; 0.001). \\\n",
    "In patients given a confirmed histologic diagnosis, Spearman's rank coefficients were 0.520 in stage \\\n",
    "F0 (p &lt; 0.001), 0.684 in stage F1 (p &lt; 0.001), 0.777 in stage F2 (p &lt; 0.001), 0.672 in stage F3 \\\n",
    "(p &lt; 0.001) and 0.755 in stage F4 (p &lt; 0.001). There were no significant differences between \\\n",
    "the areas under the receiver operating characteristic (ROC) curves of 2-D SWE and TE for liver \\\n",
    "fibrosis staging (all p values &gt; 0.05). Two-dimensional SWE had diagnostic accuracy comparable to \\\n",
    "that of TE for liver fibrosis staging. The measurements that the two techniques provide are not interchangeable.\"\n",
    "doc = nlp(abstract)\n",
    "for ent in doc.entities:\n",
    "    print(ent.start_char, ent.end_char, ent.type, ent.text)"
   ]
  },
  {
   "cell_type": "markdown",
   "metadata": {},
   "source": [
    "## 4. time cost"
   ]
  },
  {
   "cell_type": "code",
   "execution_count": 6,
   "metadata": {},
   "outputs": [
    {
     "name": "stderr",
     "output_type": "stream",
     "text": [
      "100%|███████████████████████████████████████████| 50/50 [00:26<00:00,  1.89it/s]\n"
     ]
    },
    {
     "name": "stdout",
     "output_type": "stream",
     "text": [
      "used 26.956512689590454 seconds\n"
     ]
    }
   ],
   "source": [
    "import time\n",
    "from tqdm import tqdm\n",
    "pmid=28483579\n",
    "abstract = \"This study compared 2-D shear wave elastography (SWE) and transient elastography (TE) for liver \\\n",
    "fibrosis staging in patients with chronic hepatitis B (CHB) infection using liver biopsy as the \\\n",
    "reference standard. Patients with CHB infection who underwent liver biopsy were consecutively included. \\\n",
    "After exclusions, 257 patients were analyzed. Two-dimensional SWE resulted in a significantly higher \\\n",
    "rate of reliable measurements (98.1%, 252/257) than TE (93.0%, 239/257) (p = 0.011). Liver stiffness \\\n",
    "measurements of the two examinations exhibited a strong correlation (r = 0.835, p &lt; 0.001). \\\n",
    "In patients given a confirmed histologic diagnosis, Spearman's rank coefficients were 0.520 in stage \\\n",
    "F0 (p &lt; 0.001), 0.684 in stage F1 (p &lt; 0.001), 0.777 in stage F2 (p &lt; 0.001), 0.672 in stage F3 \\\n",
    "(p &lt; 0.001) and 0.755 in stage F4 (p &lt; 0.001). There were no significant differences between \\\n",
    "the areas under the receiver operating characteristic (ROC) curves of 2-D SWE and TE for liver \\\n",
    "fibrosis staging (all p values &gt; 0.05). Two-dimensional SWE had diagnostic accuracy comparable to \\\n",
    "that of TE for liver fibrosis staging. The measurements that the two techniques provide are not interchangeable.\"\n",
    "abstracts = [abstract]*50\n",
    "t1 = time.time()\n",
    "for abstract in tqdm(abstracts, ncols=80):\n",
    "    doc = nlp(abstract)\n",
    "t2 = time.time()\n",
    "print('used', t2-t1, 'seconds')"
   ]
  },
  {
   "cell_type": "code",
   "execution_count": null,
   "metadata": {},
   "outputs": [],
   "source": []
  }
 ],
 "metadata": {
  "kernelspec": {
   "display_name": "Python 3",
   "language": "python",
   "name": "python3"
  },
  "language_info": {
   "codemirror_mode": {
    "name": "ipython",
    "version": 3
   },
   "file_extension": ".py",
   "mimetype": "text/x-python",
   "name": "python",
   "nbconvert_exporter": "python",
   "pygments_lexer": "ipython3",
   "version": "3.7.3"
  }
 },
 "nbformat": 4,
 "nbformat_minor": 4
}
